{
 "cells": [
  {
   "cell_type": "code",
   "execution_count": 2,
   "id": "undefined-increase",
   "metadata": {},
   "outputs": [],
   "source": [
    "import numpy as np\n",
    "import json\n",
    "import matplotlib.pyplot as plt\n",
    "from tqdm import tqdm\n",
    "from mpl_toolkits.axes_grid1 import make_axes_locatable"
   ]
  },
  {
   "cell_type": "code",
   "execution_count": 3,
   "id": "ideal-moderator",
   "metadata": {},
   "outputs": [],
   "source": [
    "import os\n",
    "os.environ[\"CUDA_VISIBLE_DEVICES\"] = \"4\""
   ]
  },
  {
   "cell_type": "code",
   "execution_count": 4,
   "id": "moving-medium",
   "metadata": {},
   "outputs": [],
   "source": [
    "code_dir = \"/home/mlmi-2020/jz522/localisation_from_image_project/code_reg_and_clas\"\n",
    "import os, sys\n",
    "if code_dir not in sys.path:\n",
    "    sys.path.append(code_dir)"
   ]
  },
  {
   "cell_type": "markdown",
   "id": "broad-memorabilia",
   "metadata": {},
   "source": [
    "plots the percentage of points (vertical axis) for which predicted scene coordinates reside within a given distance (horizontal axis) from a corresponding ground truth location\n",
    "\n",
    "\n",
    "**TODO:**\n",
    "* for each model get predictions on validation dataset\n",
    "* for each model's predictions -> get the MSE error to GT\n",
    "* sort\n",
    "* get MSE error at 1-to-100th percentile. 1-to-100 on y-axis; coresponding MSE values on x-axis"
   ]
  },
  {
   "cell_type": "markdown",
   "id": "elder-washer",
   "metadata": {},
   "source": [
    "# Load validation data"
   ]
  },
  {
   "cell_type": "code",
   "execution_count": 11,
   "id": "decimal-responsibility",
   "metadata": {},
   "outputs": [],
   "source": [
    "def get_data_partition(model_dir):\n",
    "    # load json with data split\n",
    "    data_partition_path = model_dir + \"/data_partition.json\"\n",
    "\n",
    "    data_partition_file = open(data_partition_path)\n",
    "    data_partition = json.load(data_partition_file)\n",
    "    data_partition_file.close()\n",
    "    \n",
    "    return data_partition"
   ]
  },
  {
   "cell_type": "code",
   "execution_count": 19,
   "id": "dental-milwaukee",
   "metadata": {},
   "outputs": [],
   "source": [
    "def load_validation_images(model_dir, simple_whitenning=False):\n",
    "    \n",
    "    data_partition = get_data_partition(model_dir)\n",
    "    dataset_size = len(data_partition['validation'])\n",
    "    \n",
    "    images = np.zeros((dataset_size, 256, 512, 3))\n",
    "    oracle_global_coords = np.zeros((dataset_size, 256, 512, 3))\n",
    "    regions = np.zeros((dataset_size, 256, 512, 1))\n",
    "    local_coords = np.zeros((dataset_size, 256, 512, 3))\n",
    "    masks = np.zeros((dataset_size, 256, 512, 1))\n",
    "\n",
    "    dataset = {}\n",
    "    for i, data_dir in enumerate(data_partition['validation']):\n",
    "        data = np.load(data_dir)\n",
    "        \n",
    "\n",
    "        images[i] = data['image_colors']\n",
    "        oracle_global_coords[i] = data['points_3d_world']\n",
    "        regions[i,:,:,0] = data['points_region_class']\n",
    "        local_coords[i] = data['local_scene_coords']\n",
    "        masks[i,:,:,0] = data['mask']\n",
    "        \n",
    "        if i == 0:\n",
    "            if not simple_whitenning:\n",
    "                dataset['W_inv'] = data['W_inv']\n",
    "                dataset['M'] = data['M']\n",
    "                dataset['std'] = data['std']\n",
    "            else:\n",
    "                dataset['M'] = data['mean_vec']\n",
    "                dataset['std'] = data['std_vec']\n",
    "                \n",
    "    dataset['images'] = images\n",
    "    dataset['oracle_global_coords'] = oracle_global_coords\n",
    "    dataset['regions'] = regions\n",
    "    dataset['local_coords'] = local_coords\n",
    "    dataset['masks'] = masks\n",
    "    \n",
    "    return dataset"
   ]
  },
  {
   "cell_type": "markdown",
   "id": "promising-protest",
   "metadata": {},
   "source": [
    "# Load model and make predictions"
   ]
  },
  {
   "cell_type": "code",
   "execution_count": 20,
   "id": "invisible-detective",
   "metadata": {},
   "outputs": [],
   "source": [
    "from utilis.experiment_utilis import combined_loss_weighted\n",
    "import tensorflow as tf\n",
    "from tensorflow import keras \n",
    "\n",
    "def load_model(model_dir):\n",
    "    # load model\n",
    "    checkpoint_dir = model_dir + \"/saved_model/my_model\"\n",
    "    model = keras.models.load_model(checkpoint_dir, compile=False)\n",
    "    model.compile(optimizer=keras.optimizers.Adam(1e-4), loss=combined_loss_weighted([10, 1]))\n",
    "    \n",
    "    return model\n",
    "\n",
    "def predict(model, images, masks):\n",
    "    dataset_size = len(images)\n",
    "    pred_local_coords = np.zeros((dataset_size, 256, 512, 144))\n",
    "    for i in tqdm(range(dataset_size)):\n",
    "        pred_local_coords[i] = np.array(model.predict_on_batch([images[i:i+1], masks[i:i+1]]))\n",
    "    \n",
    "    return pred_local_coords\n",
    "\n",
    "def unwhitten(pred_local_coords, dataset, simple_whitenning=False):\n",
    "    dataset_size = len(pred_local_coords)\n",
    "    \n",
    "    # 1. convert regions to their mean centers\n",
    "    pred_local_coords_flat = np.reshape(pred_local_coords[:,:,:,:3], (-1,3))\n",
    "    pred_regions = np.argmax(pred_local_coords[:,:,:,3:], axis=-1)\n",
    "    pred_regions_flat = np.reshape(pred_regions, (-1)).astype(int)\n",
    "    pred_global_coords = np.zeros((dataset_size*256*512,3))\n",
    "\n",
    "    # 2. unwhitten local coordinates\n",
    "    for region in tqdm(np.unique(pred_regions_flat)):\n",
    "        region_coords = pred_local_coords_flat[pred_regions_flat == region]\n",
    "        \n",
    "        if not simple_whitenning:\n",
    "            unwhite_loc_coords = np.dot(region_coords * dataset['std'][region] , dataset['W_inv'][region]) + dataset['M'][region]\n",
    "        else:\n",
    "            unwhite_loc_coords = (region_coords * dataset['std'][region]) + dataset['M'][region]\n",
    "\n",
    "        pred_global_coords[pred_regions_flat == region] = unwhite_loc_coords\n",
    "\n",
    "    pred_global_coords = np.reshape(pred_global_coords, (dataset_size, 256, 512, 3))\n",
    "    \n",
    "    return pred_global_coords, pred_regions"
   ]
  },
  {
   "cell_type": "markdown",
   "id": "sized-product",
   "metadata": {},
   "source": [
    "# get pixelwise MSE errors"
   ]
  },
  {
   "cell_type": "code",
   "execution_count": 16,
   "id": "breeding-break",
   "metadata": {},
   "outputs": [],
   "source": [
    "def get_sorted_MSE__GT_mask(pred_global_coords, oracle_global_coords, masks):\n",
    "    pixelwise_MSE = np.mean(np.square((pred_global_coords*masks) - (oracle_global_coords*masks)), axis=-1)\n",
    "    pixelwise_MSE = np.reshape(pixelwise_MSE, (-1))\n",
    "    return np.sort(pixelwise_MSE)\n",
    "\n",
    "def get_sorted_MSE__Pred_mask(pred_global_coords, oracle_global_coords, pred_regions):\n",
    "    # get mask\n",
    "    masks = np.where(pred_regions == 140, 0, 1)\n",
    "    \n",
    "    # get MSE\n",
    "    pixelwise_MSE = np.mean(np.square((pred_global_coords*masks) - (oracle_global_coords*masks)), axis=-1)\n",
    "    pixelwise_MSE = np.reshape(pixelwise_MSE, (-1))\n",
    "    return np.sort(pixelwise_MSE)\n"
   ]
  },
  {
   "cell_type": "code",
   "execution_count": null,
   "id": "behind-signal",
   "metadata": {},
   "outputs": [],
   "source": []
  },
  {
   "cell_type": "code",
   "execution_count": 17,
   "id": "ready-senegal",
   "metadata": {},
   "outputs": [],
   "source": [
    "MSE_percentiles = {}"
   ]
  },
  {
   "cell_type": "markdown",
   "id": "female-thomas",
   "metadata": {},
   "source": [
    "# Run: reg-clas, 1-1, model "
   ]
  },
  {
   "cell_type": "markdown",
   "id": "living-comfort",
   "metadata": {},
   "source": [
    "I don't have this model saved at batch 500. And if i j=use model at batch 800 this would be not comperable to all others."
   ]
  },
  {
   "cell_type": "markdown",
   "id": "hourly-sympathy",
   "metadata": {},
   "source": [
    "# Run: reg-clas, 10-1, Complex W. "
   ]
  },
  {
   "cell_type": "code",
   "execution_count": 21,
   "id": "fantastic-angle",
   "metadata": {},
   "outputs": [
    {
     "name": "stderr",
     "output_type": "stream",
     "text": [
      "\r",
      "  0%|          | 0/37 [00:00<?, ?it/s]"
     ]
    },
    {
     "name": "stdout",
     "output_type": "stream",
     "text": [
      "predicting...\n",
      "WARNING:tensorflow:Model was constructed with shape (None, 224, 224, 3) for input Tensor(\"input_3_2:0\", shape=(None, 224, 224, 3), dtype=float32), but it was called on an input with incompatible shape (1, 256, 512, 3).\n",
      "WARNING:tensorflow:Model was constructed with shape (None, 224, 224, 3) for input Tensor(\"input_2_2:0\", shape=(None, 224, 224, 3), dtype=float32), but it was called on an input with incompatible shape (1, 256, 512, 1).\n"
     ]
    },
    {
     "name": "stderr",
     "output_type": "stream",
     "text": [
      "100%|██████████| 37/37 [00:04<00:00,  7.89it/s]\n"
     ]
    },
    {
     "name": "stdout",
     "output_type": "stream",
     "text": [
      "unwhiten...\n"
     ]
    },
    {
     "name": "stderr",
     "output_type": "stream",
     "text": [
      "100%|██████████| 141/141 [00:05<00:00, 27.34it/s]\n",
      "100%|██████████| 100/100 [00:01<00:00, 62.39it/s]\n"
     ]
    }
   ],
   "source": [
    "model_dir = \"/data/cornucopia/jz522/experiments/2021-05-18/FPN_resnet_bs16_LR5e-4_w10-1_2021-05-18_11:32:32\"\n",
    "\n",
    "dataset = load_validation_images(model_dir, simple_whitenning=False)\n",
    "model = load_model(model_dir)\n",
    "print('predicting...')\n",
    "pred_local_coords = predict(model, dataset['images'], dataset['masks'])\n",
    "print('unwhiten...')\n",
    "pred_global_coords, pred_regions = unwhitten(pred_local_coords, dataset, simple_whitenning=False)\n",
    "pixelwise_MSE = get_sorted_MSE__GT_mask(pred_global_coords, dataset['oracle_global_coords'], dataset['masks'])\n",
    "\n",
    "percentile_MSE_values = np.zeros(100)\n",
    "for i in tqdm(range(100)):\n",
    "    percentile_MSE_values[i] = np.percentile(pixelwise_MSE, i)\n",
    "\n",
    "MSE_percentiles['reg-clas__w10-1__CW'] = percentile_MSE_values"
   ]
  },
  {
   "cell_type": "markdown",
   "id": "offshore-robinson",
   "metadata": {},
   "source": [
    "# Run: reg-clas, 1-1, Simple W. \n"
   ]
  },
  {
   "cell_type": "code",
   "execution_count": 31,
   "id": "prerequisite-gates",
   "metadata": {},
   "outputs": [
    {
     "name": "stderr",
     "output_type": "stream",
     "text": [
      "\r",
      "  0%|          | 0/37 [00:00<?, ?it/s]"
     ]
    },
    {
     "name": "stdout",
     "output_type": "stream",
     "text": [
      "predicting...\n",
      "WARNING:tensorflow:Model was constructed with shape (None, 224, 224, 3) for input Tensor(\"input_3_3:0\", shape=(None, 224, 224, 3), dtype=float32), but it was called on an input with incompatible shape (1, 256, 512, 3).\n",
      "WARNING:tensorflow:Model was constructed with shape (None, 224, 224, 3) for input Tensor(\"input_2_3:0\", shape=(None, 224, 224, 3), dtype=float32), but it was called on an input with incompatible shape (1, 256, 512, 1).\n"
     ]
    },
    {
     "name": "stderr",
     "output_type": "stream",
     "text": [
      "100%|██████████| 37/37 [00:04<00:00,  7.92it/s]\n"
     ]
    },
    {
     "name": "stdout",
     "output_type": "stream",
     "text": [
      "unwhiten...\n"
     ]
    },
    {
     "name": "stderr",
     "output_type": "stream",
     "text": [
      "100%|██████████| 141/141 [00:04<00:00, 29.89it/s]\n",
      "100%|██████████| 100/100 [00:01<00:00, 78.83it/s]\n"
     ]
    }
   ],
   "source": [
    "model_dir = \"/data/cornucopia/jz522/experiments/2021-05-18/FPN_resnet_bs16_LR5e-4_w1-1_simple_whitenning_2021-05-18_13:33:29\"\n",
    "\n",
    "dataset = load_validation_images(model_dir, simple_whitenning=True)\n",
    "model = load_model(model_dir)\n",
    "print('predicting...')\n",
    "pred_local_coords = predict(model, dataset['images'], dataset['masks'])\n",
    "print('unwhiten...')\n",
    "pred_global_coords, pred_regions = unwhitten(pred_local_coords, dataset, simple_whitenning=True)\n",
    "pixelwise_MSE = get_sorted_MSE__GT_mask(pred_global_coords, dataset['oracle_global_coords'], dataset['masks'])\n",
    "\n",
    "percentile_MSE_values = np.zeros(100)\n",
    "for i in tqdm(range(100)):\n",
    "    percentile_MSE_values[i] = np.percentile(pixelwise_MSE, i)\n",
    "\n",
    "MSE_percentiles['reg-clas__w1-1__SW'] = percentile_MSE_values"
   ]
  },
  {
   "cell_type": "markdown",
   "id": "patent-gasoline",
   "metadata": {},
   "source": [
    "# Run: reg-clas, 10-1, Simple W. \n"
   ]
  },
  {
   "cell_type": "code",
   "execution_count": 39,
   "id": "upper-sleeve",
   "metadata": {},
   "outputs": [
    {
     "name": "stderr",
     "output_type": "stream",
     "text": [
      "\r",
      "  0%|          | 0/37 [00:00<?, ?it/s]"
     ]
    },
    {
     "name": "stdout",
     "output_type": "stream",
     "text": [
      "predicting...\n",
      "WARNING:tensorflow:Model was constructed with shape (None, 224, 224, 3) for input Tensor(\"input_3_7:0\", shape=(None, 224, 224, 3), dtype=float32), but it was called on an input with incompatible shape (1, 256, 512, 3).\n",
      "WARNING:tensorflow:Model was constructed with shape (None, 224, 224, 3) for input Tensor(\"input_2_7:0\", shape=(None, 224, 224, 3), dtype=float32), but it was called on an input with incompatible shape (1, 256, 512, 1).\n"
     ]
    },
    {
     "name": "stderr",
     "output_type": "stream",
     "text": [
      "100%|██████████| 37/37 [00:04<00:00,  7.90it/s]\n"
     ]
    },
    {
     "name": "stdout",
     "output_type": "stream",
     "text": [
      "unwhiten...\n"
     ]
    },
    {
     "name": "stderr",
     "output_type": "stream",
     "text": [
      "100%|██████████| 141/141 [00:04<00:00, 30.16it/s]\n",
      "100%|██████████| 100/100 [00:01<00:00, 78.26it/s]\n"
     ]
    }
   ],
   "source": [
    "model_dir = \"/data/cornucopia/jz522/experiments/2021-05-18/FPN_resnet_bs16_LR5e-4_w10-1_simple_whitenning_2021-05-18_13:32:41\"\n",
    "\n",
    "dataset = load_validation_images(model_dir, simple_whitenning=True)\n",
    "model = load_model(model_dir)\n",
    "print('predicting...')\n",
    "pred_local_coords = predict(model, dataset['images'], dataset['masks'])\n",
    "print('unwhiten...')\n",
    "pred_global_coords, pred_regions = unwhitten(pred_local_coords, dataset, simple_whitenning=True)\n",
    "pixelwise_MSE = get_sorted_MSE__GT_mask(pred_global_coords, dataset['oracle_global_coords'], dataset['masks'])\n",
    "\n",
    "percentile_MSE_values = np.zeros(100)\n",
    "for i in tqdm(range(100)):\n",
    "    percentile_MSE_values[i] = np.percentile(pixelwise_MSE, i)\n",
    "\n",
    "MSE_percentiles['reg-clas__w10-1__SW'] = percentile_MSE_values"
   ]
  },
  {
   "cell_type": "markdown",
   "id": "automated-vaccine",
   "metadata": {},
   "source": [
    "# Run: reg, 1-0, Complex W. \n"
   ]
  },
  {
   "cell_type": "code",
   "execution_count": 37,
   "id": "sufficient-mozambique",
   "metadata": {},
   "outputs": [
    {
     "name": "stderr",
     "output_type": "stream",
     "text": [
      "\r",
      "  0%|          | 0/37 [00:00<?, ?it/s]"
     ]
    },
    {
     "name": "stdout",
     "output_type": "stream",
     "text": [
      "predicting...\n",
      "WARNING:tensorflow:Model was constructed with shape (None, 224, 224, 3) for input Tensor(\"input_3_6:0\", shape=(None, 224, 224, 3), dtype=float32), but it was called on an input with incompatible shape (1, 256, 512, 3).\n",
      "WARNING:tensorflow:Model was constructed with shape (None, 224, 224, 3) for input Tensor(\"input_2_6:0\", shape=(None, 224, 224, 3), dtype=float32), but it was called on an input with incompatible shape (1, 256, 512, 1).\n"
     ]
    },
    {
     "name": "stderr",
     "output_type": "stream",
     "text": [
      "100%|██████████| 37/37 [00:04<00:00,  7.91it/s]\n"
     ]
    },
    {
     "name": "stdout",
     "output_type": "stream",
     "text": [
      "unwhiten...\n"
     ]
    },
    {
     "name": "stderr",
     "output_type": "stream",
     "text": [
      "100%|██████████| 138/138 [00:05<00:00, 25.05it/s]\n",
      "100%|██████████| 100/100 [00:01<00:00, 78.38it/s]\n"
     ]
    }
   ],
   "source": [
    "model_dir = \"/data/cornucopia/jz522/experiments/2021-05-15/fpn_resnet__bs16__LR5e-4__w11_2021-05-15_17:46:25\"\n",
    "\n",
    "dataset = load_validation_images(model_dir, simple_whitenning=False)\n",
    "model = load_model(model_dir)\n",
    "print('predicting...')\n",
    "pred_local_coords = predict(model, dataset['images'], dataset['masks'])\n",
    "print('unwhiten...')\n",
    "pred_global_coords, pred_regions = unwhitten(pred_local_coords, dataset, simple_whitenning=False)\n",
    "pixelwise_MSE = get_sorted_MSE__GT_mask(pred_global_coords, dataset['oracle_global_coords'], dataset['masks'])\n",
    "\n",
    "percentile_MSE_values = np.zeros(100)\n",
    "for i in tqdm(range(100)):\n",
    "    percentile_MSE_values[i] = np.percentile(pixelwise_MSE, i)\n",
    "\n",
    "MSE_percentiles['reg_CW'] = percentile_MSE_values"
   ]
  },
  {
   "cell_type": "markdown",
   "id": "medieval-comedy",
   "metadata": {},
   "source": [
    "# Plot"
   ]
  },
  {
   "cell_type": "code",
   "execution_count": 42,
   "id": "colored-recycling",
   "metadata": {},
   "outputs": [
    {
     "data": {
      "image/png": "[encoded data removed]",
      "text/plain": [
       "<Figure size 864x576 with 1 Axes>"
      ]
     },
     "metadata": {
      "needs_background": "light"
     },
     "output_type": "display_data"
    }
   ],
   "source": [
    "plt.rcParams.update({'font.size': 16})\n",
    "font_size = 18\n",
    "\n",
    "plt.figure(figsize=(12,8))\n",
    "for key, value in MSE_percentiles.items():\n",
    "    plt.plot(value, range(len(value)), label=key)\n",
    "         \n",
    "plt.legend()\n",
    "plt.ylabel('Percentile of points')\n",
    "plt.xlabel('MSE')\n",
    "plt.xscale('log')\n",
    "plt.show()"
   ]
  },
  {
   "cell_type": "code",
   "execution_count": null,
   "id": "insured-raising",
   "metadata": {},
   "outputs": [],
   "source": []
  }
 ],
 "metadata": {
  "kernelspec": {
   "display_name": "Python 3 loc",
   "language": "python",
   "name": "localication"
  },
  "language_info": {
   "codemirror_mode": {
    "name": "ipython",
    "version": 3
   },
   "file_extension": ".py",
   "mimetype": "text/x-python",
   "name": "python",
   "nbconvert_exporter": "python",
   "pygments_lexer": "ipython3",
   "version": "3.7.10"
  }
 },
 "nbformat": 4,
 "nbformat_minor": 5
}
