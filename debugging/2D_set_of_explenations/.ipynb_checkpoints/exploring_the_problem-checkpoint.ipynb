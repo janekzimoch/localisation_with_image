{
 "cells": [
  {
   "cell_type": "code",
   "execution_count": 1,
   "id": "generous-journal",
   "metadata": {},
   "outputs": [],
   "source": [
    "import os\n",
    "import numpy as np\n",
    "import matplotlib.pyplot as plt"
   ]
  },
  {
   "cell_type": "code",
   "execution_count": 2,
   "id": "forward-drill",
   "metadata": {},
   "outputs": [],
   "source": [
    "import tensorflow as tf\n",
    "from tensorflow import keras\n",
    "from tensorflow_probability import distributions as tfd"
   ]
  },
  {
   "cell_type": "code",
   "execution_count": 3,
   "id": "micro-topic",
   "metadata": {},
   "outputs": [],
   "source": [
    "os.environ[\"CUDA_VISIBLE_DEVICES\"] = \"6\""
   ]
  },
  {
   "cell_type": "code",
   "execution_count": 4,
   "id": "literary-timber",
   "metadata": {},
   "outputs": [],
   "source": [
    "from general_utilis import * # generate_dataset, visualise_data_points"
   ]
  },
  {
   "cell_type": "code",
   "execution_count": 5,
   "id": "indirect-structure",
   "metadata": {},
   "outputs": [],
   "source": [
    "# basic model, WTA, RWTA, disconected WTA\n",
    "from models.encoders.resnet_18 import resnet_18\n",
    "from models.heads.basic import * #basic_localisation_model, basic_localisation_model_disconected_graph\n",
    "from models.decoders.fpn import resnet_fpn\n",
    "from losses.mean_squared_error import *"
   ]
  },
  {
   "cell_type": "code",
   "execution_count": 6,
   "id": "significant-luxembourg",
   "metadata": {},
   "outputs": [],
   "source": [
    "# MDN model\n",
    "from losses.mdn_loss import mdn_loss\n",
    "from models.heads.mdn import mdn_model\n",
    "from models.utilis.callbacks import * # GMM_Metrics, trace_max_component\n",
    "from visualisations import *"
   ]
  },
  {
   "cell_type": "markdown",
   "id": "brutal-macro",
   "metadata": {},
   "source": [
    "# Generate Dataset"
   ]
  },
  {
   "cell_type": "code",
   "execution_count": 9,
   "id": "corrected-committee",
   "metadata": {},
   "outputs": [],
   "source": [
    "dataset_size = 1000\n",
    "num_modes = 3\n",
    "output_dim = 1\n",
    "num_patterns = 10\n",
    "noise = 0\n",
    "\n",
    "images, labels, modes, pattern_ids = generate_dataset(dataset_size, num_modes, output_dim, num_patterns, noise)"
   ]
  },
  {
   "cell_type": "markdown",
   "id": "everyday-philosophy",
   "metadata": {},
   "source": [
    "## Visualise dataset - to check that evertyhing is correct"
   ]
  },
  {
   "cell_type": "code",
   "execution_count": 10,
   "id": "severe-transcript",
   "metadata": {},
   "outputs": [
    {
     "name": "stdout",
     "output_type": "stream",
     "text": [
      "same pattern, different modes\n"
     ]
    },
    {
     "data": {
      "image/png": "[encoded data removed]",
      "text/plain": [
       "<Figure size 1152x576 with 6 Axes>"
      ]
     },
     "metadata": {
      "needs_background": "light"
     },
     "output_type": "display_data"
    },
    {
     "name": "stdout",
     "output_type": "stream",
     "text": [
      "same pattern, same modes\n"
     ]
    },
    {
     "data": {
      "image/png": "[encoded data removed]",
      "text/plain": [
       "<Figure size 1152x576 with 6 Axes>"
      ]
     },
     "metadata": {
      "needs_background": "light"
     },
     "output_type": "display_data"
    }
   ],
   "source": [
    "visualise_data_points(images, labels, modes, pattern_ids)"
   ]
  },
  {
   "cell_type": "markdown",
   "id": "sustainable-handling",
   "metadata": {},
   "source": [
    "# Train, test split"
   ]
  },
  {
   "cell_type": "code",
   "execution_count": 11,
   "id": "similar-calculation",
   "metadata": {},
   "outputs": [],
   "source": [
    "train_size = 0.7\n",
    "split = int(dataset_size * train_size)\n",
    "x_train, x_test = images[:split], images[split:]\n",
    "y_train, y_test = labels[:split], labels[split:]"
   ]
  },
  {
   "cell_type": "code",
   "execution_count": 12,
   "id": "powered-pharmacy",
   "metadata": {},
   "outputs": [],
   "source": [
    "modes_train, modes_test = modes[:split], modes[split:] \n",
    "pattern_ids_train, pattern_ids_test = pattern_ids[:split], pattern_ids[split:]"
   ]
  },
  {
   "cell_type": "markdown",
   "id": "synthetic-logging",
   "metadata": {},
   "source": [
    "# Construct simple encoder-decoder network"
   ]
  },
  {
   "cell_type": "markdown",
   "id": "logical-parker",
   "metadata": {},
   "source": [
    "### Encoder network"
   ]
  },
  {
   "cell_type": "code",
   "execution_count": 270,
   "id": "valid-pharmaceutical",
   "metadata": {},
   "outputs": [],
   "source": [
    "# get model\n",
    "num_heads = 1\n",
    "model = basic_localisation_model(resnet_18, num_heads, input_shape=(224,224,1))    \n",
    "\n",
    "# compile\n",
    "adam = keras.optimizers.Adam(0.001)\n",
    "model.compile(optimizer=adam, loss=multiple_heads_MSE(num_heads))"
   ]
  },
  {
   "cell_type": "code",
   "execution_count": 273,
   "id": "developmental-norman",
   "metadata": {
    "collapsed": true
   },
   "outputs": [
    {
     "name": "stdout",
     "output_type": "stream",
     "text": [
      "Epoch 1/10\n",
      "22/22 [==============================] - 1s 43ms/step - loss: 942.4219\n",
      "Epoch 2/10\n",
      "22/22 [==============================] - 1s 42ms/step - loss: 778.7093\n",
      "Epoch 3/10\n",
      "22/22 [==============================] - 1s 41ms/step - loss: 773.7058\n",
      "Epoch 4/10\n",
      "22/22 [==============================] - 1s 42ms/step - loss: 451.1288\n",
      "Epoch 5/10\n",
      "22/22 [==============================] - 1s 42ms/step - loss: 520.4225\n",
      "Epoch 6/10\n",
      "22/22 [==============================] - 1s 43ms/step - loss: 411.5976\n",
      "Epoch 7/10\n",
      "22/22 [==============================] - 1s 41ms/step - loss: 629.0049\n",
      "Epoch 8/10\n",
      "22/22 [==============================] - 1s 41ms/step - loss: 256.2217\n",
      "Epoch 9/10\n",
      "22/22 [==============================] - 1s 42ms/step - loss: 215.8119\n",
      "Epoch 10/10\n",
      "22/22 [==============================] - 1s 42ms/step - loss: 194.1711\n"
     ]
    },
    {
     "data": {
      "text/plain": [
       "<tensorflow.python.keras.callbacks.History at 0x7f33aa8180d0>"
      ]
     },
     "execution_count": 273,
     "metadata": {},
     "output_type": "execute_result"
    }
   ],
   "source": [
    "# fit with MSE\n",
    "model.fit(x_train, y_train, batch_size=32, epochs=10)"
   ]
  },
  {
   "cell_type": "markdown",
   "id": "recognized-porter",
   "metadata": {},
   "source": [
    "### Visualise predictions"
   ]
  },
  {
   "cell_type": "code",
   "execution_count": 10,
   "id": "answering-processor",
   "metadata": {},
   "outputs": [],
   "source": [
    "np.set_printoptions(suppress=True)\n",
    "\n",
    "# visualise predictions\n",
    "def print_predictions(model, x, y, num_heads):\n",
    "    y_pred = model.predict(x)\n",
    "    for gt, pred in zip(y, y_pred):\n",
    "        min_error = 1e9\n",
    "        for i in range(num_heads):\n",
    "            min_error = min(min_error, np.round(np.mean(np.abs(gt-pred[i*3:(i+1)*3])),1))\n",
    "        print('GT: ', np.round(gt,1), '   Pred: ', np.round(pred,1), '   Error: ', min_error)\n",
    "        \n",
    "# print_predictions(model, x_test[:10], y_test[:10], num_heads=1)"
   ]
  },
  {
   "cell_type": "markdown",
   "id": "inner-patch",
   "metadata": {},
   "source": [
    "### Visualise performance on different modes for a single class"
   ]
  },
  {
   "cell_type": "code",
   "execution_count": 11,
   "id": "lucky-dollar",
   "metadata": {},
   "outputs": [],
   "source": [
    "def print_error_per_mode(model, x, y, pattern_ids, modes, pattern_ID, num_modes, num_heads):\n",
    "    pattern_indexes = np.where(pattern_ids == pattern_ID, 1, 0)\n",
    "    \n",
    "    for i in range(num_modes):\n",
    "        mode_indexes = np.where(modes == i, 1, 0)\n",
    "        mode_pat_indexes = pattern_indexes*mode_indexes\n",
    "        mode_pat_indexes = mode_pat_indexes.astype(bool)\n",
    "\n",
    "        x_tmp = x[mode_pat_indexes]\n",
    "        y_tmp = y[mode_pat_indexes]\n",
    "        y_pred = model.predict(x_tmp)\n",
    "        \n",
    "        print()\n",
    "        for j in range(num_heads):\n",
    "            mean_error = np.mean(np.abs(y_pred[:,j*3:(j+1)*3] - y_tmp))\n",
    "            print(f'Head {j}, Mode {i} mean error: {np.round(mean_error, 2)}')\n",
    "        print_predictions(model, x_tmp[:5], y_tmp[:5], num_heads)\n",
    "\n",
    "# print_error_per_mode(model, x_test, y_test, pattern_ids_test, modes_test, 0, num_modes, num_heads=1)"
   ]
  },
  {
   "cell_type": "markdown",
   "id": "organizational-princess",
   "metadata": {},
   "source": [
    "<font color='red'>**I had to remove noise - but now atleast we clearly see that the NN learns to represent only one solution**</font>"
   ]
  },
  {
   "cell_type": "markdown",
   "id": "sweet-criterion",
   "metadata": {},
   "source": [
    "# Train basic model - 3 MSE heads"
   ]
  },
  {
   "cell_type": "code",
   "execution_count": 120,
   "id": "nuclear-clarity",
   "metadata": {},
   "outputs": [],
   "source": [
    "# get model\n",
    "num_heads = 3\n",
    "model_3_heads = basic_localisation_model(resnet_18, num_heads, input_shape=(224,224,1))    \n",
    "\n",
    "# compile\n",
    "adam = keras.optimizers.Adam(0.001)\n",
    "model_3_heads.compile(optimizer=adam, loss=multiple_heads_MSE(num_heads))"
   ]
  },
  {
   "cell_type": "code",
   "execution_count": 121,
   "id": "yellow-complex",
   "metadata": {
    "collapsed": true
   },
   "outputs": [
    {
     "name": "stdout",
     "output_type": "stream",
     "text": [
      "Epoch 1/40\n",
      " 2/22 [=>............................] - ETA: 1s - loss: 121378.9766WARNING:tensorflow:Callbacks method `on_train_batch_end` is slow compared to the batch time (batch time: 0.0219s vs `on_train_batch_end` time: 0.0580s). Check your callbacks.\n",
      "22/22 [==============================] - 1s 51ms/step - loss: 111364.2734\n",
      "Epoch 2/40\n",
      "22/22 [==============================] - 1s 48ms/step - loss: 101474.5000\n",
      "Epoch 3/40\n",
      "22/22 [==============================] - 1s 48ms/step - loss: 86211.9766\n",
      "Epoch 4/40\n",
      "22/22 [==============================] - 1s 50ms/step - loss: 67118.6016\n",
      "Epoch 5/40\n",
      "22/22 [==============================] - 1s 49ms/step - loss: 47357.3359\n",
      "Epoch 6/40\n",
      "22/22 [==============================] - 1s 51ms/step - loss: 30688.4551\n",
      "Epoch 7/40\n",
      "22/22 [==============================] - 1s 48ms/step - loss: 20355.7949\n",
      "Epoch 8/40\n",
      "22/22 [==============================] - 1s 46ms/step - loss: 15673.2461\n",
      "Epoch 9/40\n",
      "22/22 [==============================] - 1s 46ms/step - loss: 14694.9453\n",
      "Epoch 10/40\n",
      "22/22 [==============================] - 1s 49ms/step - loss: 14525.5469\n",
      "Epoch 11/40\n",
      "22/22 [==============================] - 1s 49ms/step - loss: 14669.3389\n",
      "Epoch 12/40\n",
      "22/22 [==============================] - 1s 53ms/step - loss: 14663.7002\n",
      "Epoch 13/40\n",
      "22/22 [==============================] - 1s 52ms/step - loss: 14824.1904\n",
      "Epoch 14/40\n",
      "22/22 [==============================] - 1s 48ms/step - loss: 14757.3525\n",
      "Epoch 15/40\n",
      "22/22 [==============================] - 1s 51ms/step - loss: 14493.0068\n",
      "Epoch 16/40\n",
      "22/22 [==============================] - 1s 47ms/step - loss: 14500.0840\n",
      "Epoch 17/40\n",
      "22/22 [==============================] - 1s 49ms/step - loss: 14546.2559: 0s - loss: 1\n",
      "Epoch 18/40\n",
      "22/22 [==============================] - 1s 51ms/step - loss: 14497.1172\n",
      "Epoch 19/40\n",
      "22/22 [==============================] - 1s 51ms/step - loss: 14599.1631\n",
      "Epoch 20/40\n",
      "22/22 [==============================] - 1s 56ms/step - loss: 14758.7197\n",
      "Epoch 21/40\n",
      "22/22 [==============================] - 1s 55ms/step - loss: 14713.9355: 0s - loss: 14222\n",
      "Epoch 22/40\n",
      "22/22 [==============================] - 1s 51ms/step - loss: 14377.6230\n",
      "Epoch 23/40\n",
      "22/22 [==============================] - 1s 45ms/step - loss: 14779.6982\n",
      "Epoch 24/40\n",
      "22/22 [==============================] - 1s 49ms/step - loss: 14658.6357\n",
      "Epoch 25/40\n",
      "22/22 [==============================] - 1s 46ms/step - loss: 14493.5371\n",
      "Epoch 26/40\n",
      "22/22 [==============================] - 1s 53ms/step - loss: 14467.3516\n",
      "Epoch 27/40\n",
      "22/22 [==============================] - 1s 45ms/step - loss: 14782.4727\n",
      "Epoch 28/40\n",
      "22/22 [==============================] - 1s 48ms/step - loss: 14618.3574\n",
      "Epoch 29/40\n",
      "22/22 [==============================] - 1s 49ms/step - loss: 14449.8369\n",
      "Epoch 30/40\n",
      "22/22 [==============================] - 1s 47ms/step - loss: 14520.6230\n",
      "Epoch 31/40\n",
      "22/22 [==============================] - 1s 50ms/step - loss: 14603.0596\n",
      "Epoch 32/40\n",
      "22/22 [==============================] - 1s 52ms/step - loss: 14537.4033\n",
      "Epoch 33/40\n",
      "22/22 [==============================] - 1s 51ms/step - loss: 14585.2617\n",
      "Epoch 34/40\n",
      "22/22 [==============================] - 1s 46ms/step - loss: 14638.3525\n",
      "Epoch 35/40\n",
      "22/22 [==============================] - 1s 48ms/step - loss: 14452.9873\n",
      "Epoch 36/40\n",
      "22/22 [==============================] - 1s 48ms/step - loss: 14625.8047\n",
      "Epoch 37/40\n",
      "22/22 [==============================] - 1s 48ms/step - loss: 14677.8330\n",
      "Epoch 38/40\n",
      "22/22 [==============================] - 1s 49ms/step - loss: 14363.7402\n",
      "Epoch 39/40\n",
      "22/22 [==============================] - 1s 48ms/step - loss: 14556.4404\n",
      "Epoch 40/40\n",
      "22/22 [==============================] - 1s 49ms/step - loss: 14188.4824\n"
     ]
    },
    {
     "data": {
      "text/plain": [
       "<tensorflow.python.keras.callbacks.History at 0x7f9eeb259850>"
      ]
     },
     "execution_count": 121,
     "metadata": {},
     "output_type": "execute_result"
    }
   ],
   "source": [
    "# fit with MSE\n",
    "model_3_heads.fit(x_train, y_train, batch_size=32, epochs=40)"
   ]
  },
  {
   "cell_type": "code",
   "execution_count": 132,
   "id": "disabled-ordinance",
   "metadata": {},
   "outputs": [
    {
     "name": "stdout",
     "output_type": "stream",
     "text": [
      "\n",
      "Head 0, Mode 0 mean error: 18.02\n",
      "Head 1, Mode 0 mean error: 17.87\n",
      "Head 2, Mode 0 mean error: 17.96\n",
      "GT:  [217.6   0.    0. ]    Pred:  [271.3  -0.1   0.2 271.    0.    0.2 271.4   0.1  -0. ]    Error:  17.9\n",
      "GT:  [217.6   0.    0. ]    Pred:  [271.3  -0.1   0.2 271.    0.    0.2 271.4   0.1  -0. ]    Error:  17.9\n",
      "GT:  [217.6   0.    0. ]    Pred:  [271.3  -0.1   0.2 271.    0.    0.2 271.4   0.1  -0. ]    Error:  17.9\n",
      "GT:  [217.6   0.    0. ]    Pred:  [271.3  -0.1   0.2 271.    0.    0.2 271.4   0.1  -0. ]    Error:  17.9\n",
      "GT:  [217.6   0.    0. ]    Pred:  [271.3  -0.1   0.2 271.    0.    0.2 271.4   0.1  -0. ]    Error:  17.9\n",
      "\n",
      "Head 0, Mode 1 mean error: 15.13\n",
      "Head 1, Mode 1 mean error: 14.98\n",
      "Head 2, Mode 1 mean error: 15.08\n",
      "GT:  [226.3   0.    0. ]    Pred:  [271.3  -0.1   0.2 271.    0.    0.2 271.4   0.1  -0. ]    Error:  15.0\n",
      "GT:  [226.3   0.    0. ]    Pred:  [271.3  -0.1   0.2 271.    0.    0.2 271.4   0.1  -0. ]    Error:  15.0\n",
      "GT:  [226.3   0.    0. ]    Pred:  [271.3  -0.1   0.2 271.    0.    0.2 271.4   0.1  -0. ]    Error:  15.0\n",
      "GT:  [226.3   0.    0. ]    Pred:  [271.3  -0.1   0.2 271.    0.    0.2 271.4   0.1  -0. ]    Error:  15.0\n",
      "GT:  [226.3   0.    0. ]    Pred:  [271.3  -0.1   0.2 271.    0.    0.2 271.4   0.1  -0. ]    Error:  15.0\n",
      "\n",
      "Head 0, Mode 2 mean error: 45.11\n",
      "Head 1, Mode 2 mean error: 45.21\n",
      "Head 2, Mode 2 mean error: 45.04\n",
      "GT:  [406.3   0.    0. ]    Pred:  [271.3  -0.1   0.2 271.    0.    0.2 271.4   0.1  -0. ]    Error:  45.0\n",
      "GT:  [406.3   0.    0. ]    Pred:  [271.3  -0.1   0.2 271.    0.    0.2 271.4   0.1  -0. ]    Error:  45.0\n",
      "GT:  [406.3   0.    0. ]    Pred:  [271.3  -0.1   0.2 271.    0.    0.2 271.4   0.1  -0. ]    Error:  45.0\n",
      "GT:  [406.3   0.    0. ]    Pred:  [271.3  -0.1   0.2 271.    0.    0.2 271.4   0.1  -0. ]    Error:  45.0\n",
      "GT:  [406.3   0.    0. ]    Pred:  [271.3  -0.1   0.2 271.    0.    0.2 271.4   0.1  -0. ]    Error:  45.0\n"
     ]
    }
   ],
   "source": [
    "print_error_per_mode(model_3_heads, x_test, y_test, pattern_ids_test, modes_test, 3, num_modes, num_heads)"
   ]
  },
  {
   "cell_type": "markdown",
   "id": "falling-pottery",
   "metadata": {},
   "source": [
    "<font color='red'>**As expected all 3 heads colapse to the same solution**</font>"
   ]
  },
  {
   "cell_type": "markdown",
   "id": "placed-information",
   "metadata": {},
   "source": [
    "# Train basic model - WTA loss function"
   ]
  },
  {
   "cell_type": "code",
   "execution_count": 150,
   "id": "indonesian-invalid",
   "metadata": {},
   "outputs": [],
   "source": [
    "# get model\n",
    "num_heads = 3\n",
    "model_3_heads_WTA = basic_localisation_model(resnet_18, num_heads, input_shape=(224,224,1))    \n",
    "\n",
    "# compile\n",
    "adam = keras.optimizers.Adam(0.001)\n",
    "model_3_heads_WTA.compile(optimizer=adam, loss=multiple_heads_MSE_WTA(num_heads))"
   ]
  },
  {
   "cell_type": "code",
   "execution_count": 151,
   "id": "common-compilation",
   "metadata": {
    "collapsed": true
   },
   "outputs": [
    {
     "name": "stdout",
     "output_type": "stream",
     "text": [
      "Epoch 1/40\n",
      " 2/22 [=>............................] - ETA: 1s - loss: 44079.6914WARNING:tensorflow:Callbacks method `on_train_batch_end` is slow compared to the batch time (batch time: 0.0267s vs `on_train_batch_end` time: 0.0435s). Check your callbacks.\n",
      "22/22 [==============================] - 1s 60ms/step - loss: 36953.0898\n",
      "Epoch 2/40\n",
      "22/22 [==============================] - 1s 52ms/step - loss: 32951.7383\n",
      "Epoch 3/40\n",
      "22/22 [==============================] - 1s 58ms/step - loss: 26322.8828\n",
      "Epoch 4/40\n",
      "22/22 [==============================] - 1s 53ms/step - loss: 18376.6875\n",
      "Epoch 5/40\n",
      "22/22 [==============================] - 1s 55ms/step - loss: 11272.0029\n",
      "Epoch 6/40\n",
      "22/22 [==============================] - 1s 53ms/step - loss: 6660.7720\n",
      "Epoch 7/40\n",
      "22/22 [==============================] - 1s 50ms/step - loss: 5066.5312\n",
      "Epoch 8/40\n",
      "22/22 [==============================] - 1s 49ms/step - loss: 4825.9741\n",
      "Epoch 9/40\n",
      "22/22 [==============================] - 1s 48ms/step - loss: 4887.4448\n",
      "Epoch 10/40\n",
      "22/22 [==============================] - 1s 44ms/step - loss: 5174.6631\n",
      "Epoch 11/40\n",
      "22/22 [==============================] - 1s 46ms/step - loss: 4951.6509\n",
      "Epoch 12/40\n",
      "22/22 [==============================] - 1s 45ms/step - loss: 4947.2134\n",
      "Epoch 13/40\n",
      "22/22 [==============================] - 1s 46ms/step - loss: 4826.9277\n",
      "Epoch 14/40\n",
      "22/22 [==============================] - 1s 47ms/step - loss: 4824.7183\n",
      "Epoch 15/40\n",
      "22/22 [==============================] - 1s 47ms/step - loss: 4907.2271\n",
      "Epoch 16/40\n",
      "22/22 [==============================] - 1s 46ms/step - loss: 4863.0005\n",
      "Epoch 17/40\n",
      "22/22 [==============================] - 1s 46ms/step - loss: 4880.8789\n",
      "Epoch 18/40\n",
      "22/22 [==============================] - 1s 46ms/step - loss: 4825.0151\n",
      "Epoch 19/40\n",
      "22/22 [==============================] - 1s 47ms/step - loss: 4795.9595\n",
      "Epoch 20/40\n",
      "22/22 [==============================] - 1s 46ms/step - loss: 4839.0996\n",
      "Epoch 21/40\n",
      "22/22 [==============================] - 1s 46ms/step - loss: 4886.1333\n",
      "Epoch 22/40\n",
      "22/22 [==============================] - 1s 46ms/step - loss: 4896.3145\n",
      "Epoch 23/40\n",
      "22/22 [==============================] - 1s 48ms/step - loss: 4792.7036\n",
      "Epoch 24/40\n",
      "22/22 [==============================] - 1s 48ms/step - loss: 4858.4404\n",
      "Epoch 25/40\n",
      "22/22 [==============================] - 1s 48ms/step - loss: 4783.4048\n",
      "Epoch 26/40\n",
      "22/22 [==============================] - 1s 49ms/step - loss: 4838.9019\n",
      "Epoch 27/40\n",
      "22/22 [==============================] - 1s 45ms/step - loss: 4815.1284\n",
      "Epoch 28/40\n",
      "22/22 [==============================] - 1s 46ms/step - loss: 4876.7534\n",
      "Epoch 29/40\n",
      "22/22 [==============================] - 1s 44ms/step - loss: 4851.8247\n",
      "Epoch 30/40\n",
      "22/22 [==============================] - 1s 43ms/step - loss: 4836.4199\n",
      "Epoch 31/40\n",
      "22/22 [==============================] - 1s 44ms/step - loss: 4797.3018\n",
      "Epoch 32/40\n",
      "22/22 [==============================] - 1s 44ms/step - loss: 4851.8716\n",
      "Epoch 33/40\n",
      "22/22 [==============================] - 1s 46ms/step - loss: 4816.9043\n",
      "Epoch 34/40\n",
      "22/22 [==============================] - 1s 49ms/step - loss: 4838.5757\n",
      "Epoch 35/40\n",
      "22/22 [==============================] - 1s 48ms/step - loss: 4828.9399\n",
      "Epoch 36/40\n",
      "22/22 [==============================] - 1s 48ms/step - loss: 4861.4893\n",
      "Epoch 37/40\n",
      "22/22 [==============================] - 1s 48ms/step - loss: 4798.6128\n",
      "Epoch 38/40\n",
      "22/22 [==============================] - 1s 44ms/step - loss: 4768.8442\n",
      "Epoch 39/40\n",
      "22/22 [==============================] - 1s 51ms/step - loss: 4820.6943\n",
      "Epoch 40/40\n",
      "22/22 [==============================] - 1s 52ms/step - loss: 4839.1816\n"
     ]
    },
    {
     "data": {
      "text/plain": [
       "<tensorflow.python.keras.callbacks.History at 0x7f9ee23f5250>"
      ]
     },
     "execution_count": 151,
     "metadata": {},
     "output_type": "execute_result"
    }
   ],
   "source": [
    "# fit with MSE\n",
    "model_3_heads_WTA.fit(x_train, y_train, batch_size=32, epochs=40)"
   ]
  },
  {
   "cell_type": "code",
   "execution_count": 153,
   "id": "bottom-plymouth",
   "metadata": {
    "collapsed": true
   },
   "outputs": [
    {
     "name": "stdout",
     "output_type": "stream",
     "text": [
      "\n",
      "Head 0, Mode 0 mean error: 26.49\n",
      "Head 1, Mode 0 mean error: 73.22\n",
      "Head 2, Mode 0 mean error: 72.9\n",
      "GT:  [217.6   0.    0. ]    Pred:  [296.8  -0.1  -0.1  -0.2  -1.4   0.4  -0.2  -0.3  -0.6]    Error:  26.5\n",
      "GT:  [217.6   0.    0. ]    Pred:  [296.8  -0.1  -0.1  -0.2  -1.4   0.4  -0.2  -0.3  -0.6]    Error:  26.5\n",
      "GT:  [217.6   0.    0. ]    Pred:  [296.8  -0.1  -0.1  -0.2  -1.4   0.4  -0.2  -0.3  -0.6]    Error:  26.5\n",
      "GT:  [217.6   0.    0. ]    Pred:  [296.8  -0.1  -0.1  -0.2  -1.4   0.4  -0.2  -0.3  -0.6]    Error:  26.5\n",
      "GT:  [217.6   0.    0. ]    Pred:  [296.8  -0.1  -0.1  -0.2  -1.4   0.4  -0.2  -0.3  -0.6]    Error:  26.5\n",
      "\n",
      "Head 0, Mode 1 mean error: 23.6\n",
      "Head 1, Mode 1 mean error: 76.11\n",
      "Head 2, Mode 1 mean error: 75.79\n",
      "GT:  [226.3   0.    0. ]    Pred:  [296.8  -0.1  -0.1  -0.2  -1.4   0.4  -0.2  -0.3  -0.6]    Error:  23.6\n",
      "GT:  [226.3   0.    0. ]    Pred:  [296.8  -0.1  -0.1  -0.2  -1.4   0.4  -0.2  -0.3  -0.6]    Error:  23.6\n",
      "GT:  [226.3   0.    0. ]    Pred:  [296.8  -0.1  -0.1  -0.2  -1.4   0.4  -0.2  -0.3  -0.6]    Error:  23.6\n",
      "GT:  [226.3   0.    0. ]    Pred:  [296.8  -0.1  -0.1  -0.2  -1.4   0.4  -0.2  -0.3  -0.6]    Error:  23.6\n",
      "GT:  [226.3   0.    0. ]    Pred:  [296.8  -0.1  -0.1  -0.2  -1.4   0.4  -0.2  -0.3  -0.6]    Error:  23.6\n",
      "\n",
      "Head 0, Mode 2 mean error: 36.58\n",
      "Head 1, Mode 2 mean error: 136.14\n",
      "Head 2, Mode 2 mean error: 135.82\n",
      "GT:  [406.3   0.    0. ]    Pred:  [296.8  -0.1  -0.1  -0.2  -1.4   0.4  -0.2  -0.3  -0.6]    Error:  36.6\n",
      "GT:  [406.3   0.    0. ]    Pred:  [296.8  -0.1  -0.1  -0.2  -1.4   0.4  -0.2  -0.3  -0.6]    Error:  36.6\n",
      "GT:  [406.3   0.    0. ]    Pred:  [296.8  -0.1  -0.1  -0.2  -1.4   0.4  -0.2  -0.3  -0.6]    Error:  36.6\n",
      "GT:  [406.3   0.    0. ]    Pred:  [296.8  -0.1  -0.1  -0.2  -1.4   0.4  -0.2  -0.3  -0.6]    Error:  36.6\n",
      "GT:  [406.3   0.    0. ]    Pred:  [296.8  -0.1  -0.1  -0.2  -1.4   0.4  -0.2  -0.3  -0.6]    Error:  36.6\n"
     ]
    }
   ],
   "source": [
    "print_error_per_mode(model_3_heads_WTA, x_test, y_test, pattern_ids_test, modes_test, 3, num_modes, num_heads)"
   ]
  },
  {
   "cell_type": "markdown",
   "id": "gross-lightweight",
   "metadata": {},
   "source": [
    "<font color='red'>**Above we have an example of WTA problem**</font> Due to poor initalisation only one head gets updated at each batch itteration, because it has always the lowest error"
   ]
  },
  {
   "cell_type": "markdown",
   "id": "discrete-window",
   "metadata": {},
   "source": [
    "# Train basic model - Relaxed-WTA loss function\n",
    "\n",
    "https://arxiv.org/abs/1612.00197 - Learning in an Uncertain World: Representing Ambiguity Through Multiple Hypotheses"
   ]
  },
  {
   "cell_type": "code",
   "execution_count": 24,
   "id": "physical-pressure",
   "metadata": {},
   "outputs": [],
   "source": [
    "# get model\n",
    "num_heads = 3\n",
    "relaxation_weight = 0.001\n",
    "model_3_heads_R_WTA = basic_localisation_model(resnet_18, num_heads, input_shape=(224,224,1))    "
   ]
  },
  {
   "cell_type": "code",
   "execution_count": 36,
   "id": "under-recording",
   "metadata": {},
   "outputs": [],
   "source": [
    "# compile\n",
    "adam = keras.optimizers.Adam(0.0001)\n",
    "model_3_heads_R_WTA.compile(optimizer=adam, loss=multiple_heads_MSE_Relaxed_WTA(num_heads, relaxation_weight))"
   ]
  },
  {
   "cell_type": "code",
   "execution_count": 37,
   "id": "prostate-vacuum",
   "metadata": {
    "collapsed": true
   },
   "outputs": [
    {
     "name": "stdout",
     "output_type": "stream",
     "text": [
      "Epoch 1/10\n",
      "22/22 [==============================] - 1s 47ms/step - loss: 15310.1260\n",
      "Epoch 2/10\n",
      "22/22 [==============================] - 1s 44ms/step - loss: 15215.0010\n",
      "Epoch 3/10\n",
      "22/22 [==============================] - 1s 44ms/step - loss: 15420.9990\n",
      "Epoch 4/10\n",
      "22/22 [==============================] - 1s 45ms/step - loss: 15263.9141\n",
      "Epoch 5/10\n",
      "22/22 [==============================] - 1s 48ms/step - loss: 15378.4219: 0s - loss: 1\n",
      "Epoch 6/10\n",
      "22/22 [==============================] - 1s 46ms/step - loss: 15367.7139\n",
      "Epoch 7/10\n",
      "22/22 [==============================] - 1s 44ms/step - loss: 15560.7725\n",
      "Epoch 8/10\n",
      "22/22 [==============================] - 1s 45ms/step - loss: 15515.4600\n",
      "Epoch 9/10\n",
      "22/22 [==============================] - 1s 47ms/step - loss: 15201.9941\n",
      "Epoch 10/10\n",
      "22/22 [==============================] - 1s 46ms/step - loss: 15545.5645\n"
     ]
    },
    {
     "data": {
      "text/plain": [
       "<tensorflow.python.keras.callbacks.History at 0x7fb09cd17950>"
      ]
     },
     "execution_count": 37,
     "metadata": {},
     "output_type": "execute_result"
    }
   ],
   "source": [
    "# fit with MSE\n",
    "model_3_heads_R_WTA.fit(x_train, y_train, batch_size=32, epochs=10)"
   ]
  },
  {
   "cell_type": "code",
   "execution_count": 35,
   "id": "adaptive-isaac",
   "metadata": {
    "collapsed": true
   },
   "outputs": [
    {
     "name": "stdout",
     "output_type": "stream",
     "text": [
      "\n",
      "Head 0, Mode 0 mean error: 99.68\n",
      "Head 1, Mode 0 mean error: 119.86\n",
      "Head 2, Mode 0 mean error: 77.73\n",
      "GT:  [379.3   0.    0. ]    Pred:  [677.9  -0.3   0.  738.7   0.1  -0.1 612.4   0.1   0. ]    Error:  77.7\n",
      "GT:  [379.3   0.    0. ]    Pred:  [677.9  -0.3   0.  738.7   0.1  -0.1 612.4   0.1   0. ]    Error:  77.7\n",
      "GT:  [379.3   0.    0. ]    Pred:  [677.9  -0.3   0.  738.7   0.1  -0.1 612.4   0.1   0. ]    Error:  77.7\n",
      "GT:  [379.3   0.    0. ]    Pred:  [677.9  -0.3   0.  738.7   0.1  -0.1 612.4   0.1   0. ]    Error:  77.7\n",
      "GT:  [379.3   0.    0. ]    Pred:  [677.9  -0.3   0.  738.7   0.1  -0.1 612.4   0.1   0. ]    Error:  77.7\n",
      "\n",
      "Head 0, Mode 1 mean error: 43.87\n",
      "Head 1, Mode 1 mean error: 23.56\n",
      "Head 2, Mode 1 mean error: 65.62\n",
      "GT:  [809.2   0.    0. ]    Pred:  [677.9  -0.3   0.  738.7   0.1  -0.1 612.4   0.1   0. ]    Error:  23.6\n",
      "GT:  [809.2   0.    0. ]    Pred:  [677.9  -0.3   0.  738.7   0.1  -0.1 612.4   0.1   0. ]    Error:  23.6\n",
      "GT:  [809.2   0.    0. ]    Pred:  [677.9  -0.3   0.  738.7   0.1  -0.1 612.4   0.1   0. ]    Error:  23.6\n",
      "GT:  [809.2   0.    0. ]    Pred:  [677.9  -0.3   0.  738.7   0.1  -0.1 612.4   0.1   0. ]    Error:  23.6\n",
      "GT:  [809.2   0.    0. ]    Pred:  [677.9  -0.3   0.  738.7   0.1  -0.1 612.4   0.1   0. ]    Error:  23.6\n",
      "\n",
      "Head 0, Mode 2 mean error: 59.62\n",
      "Head 1, Mode 2 mean error: 39.31\n",
      "Head 2, Mode 2 mean error: 81.37\n",
      "GT:  [856.4   0.    0. ]    Pred:  [677.9  -0.3   0.  738.7   0.1  -0.1 612.4   0.1   0. ]    Error:  39.3\n",
      "GT:  [856.4   0.    0. ]    Pred:  [677.9  -0.3   0.  738.7   0.1  -0.1 612.4   0.1   0. ]    Error:  39.3\n",
      "GT:  [856.4   0.    0. ]    Pred:  [677.9  -0.3   0.  738.7   0.1  -0.1 612.4   0.1   0. ]    Error:  39.3\n",
      "GT:  [856.4   0.    0. ]    Pred:  [677.9  -0.3   0.  738.7   0.1  -0.1 612.4   0.1   0. ]    Error:  39.3\n",
      "GT:  [856.4   0.    0. ]    Pred:  [677.9  -0.3   0.  738.7   0.1  -0.1 612.4   0.1   0. ]    Error:  39.3\n"
     ]
    }
   ],
   "source": [
    "print_error_per_mode(model_3_heads_R_WTA, x_test, y_test, pattern_ids_test, modes_test, 1, num_modes, num_heads)"
   ]
  },
  {
   "cell_type": "markdown",
   "id": "prospective-transcript",
   "metadata": {},
   "source": [
    "<font color='red'>**Heads do not colapse**</font> However, they don't cover each mode exactly. Heads' predictions lie somewhere in between modes. - not sure why this is the case. <font color='red'>**I may explore that case in more detail.**</font>\n",
    "\n",
    "Things to try:\n",
    "* see if your idea of disconecting gradients from seperate heads will work. i.e to make the main head learn the features of the trunk."
   ]
  },
  {
   "cell_type": "markdown",
   "id": "lesser-vegetable",
   "metadata": {},
   "source": [
    "# Train basic model - disconected RWTA"
   ]
  },
  {
   "cell_type": "code",
   "execution_count": 183,
   "id": "olive-factory",
   "metadata": {},
   "outputs": [],
   "source": [
    "# get model\n",
    "num_heads = 3\n",
    "relaxation_weight = 0.01\n",
    "model_3_heads_RWTA_and_disconected = basic_localisation_model_disconected_graph(resnet_18, num_heads, input_shape=(224,224,1))    \n",
    "\n",
    "# compile\n",
    "adam = keras.optimizers.Adam(0.001)\n",
    "model_3_heads_RWTA_and_disconected.compile(optimizer=adam, loss=multiple_heads_MSE_Relaxed_WTA(num_heads, relaxation_weight))"
   ]
  },
  {
   "cell_type": "code",
   "execution_count": 184,
   "id": "distinct-adrian",
   "metadata": {
    "collapsed": true
   },
   "outputs": [
    {
     "name": "stdout",
     "output_type": "stream",
     "text": [
      "Epoch 1/40\n",
      " 2/22 [=>............................] - ETA: 1s - loss: 107674.0000WARNING:tensorflow:Callbacks method `on_train_batch_end` is slow compared to the batch time (batch time: 0.0212s vs `on_train_batch_end` time: 0.0913s). Check your callbacks.\n",
      "22/22 [==============================] - 1s 56ms/step - loss: 98410.6875\n",
      "Epoch 2/40\n",
      "22/22 [==============================] - 1s 56ms/step - loss: 89509.9453\n",
      "Epoch 3/40\n",
      "22/22 [==============================] - 1s 56ms/step - loss: 75127.7578: 1s - lo\n",
      "Epoch 4/40\n",
      "22/22 [==============================] - 1s 55ms/step - loss: 57383.6797\n",
      "Epoch 5/40\n",
      "22/22 [==============================] - 1s 49ms/step - loss: 39085.6758\n",
      "Epoch 6/40\n",
      "22/22 [==============================] - 1s 52ms/step - loss: 25048.3457\n",
      "Epoch 7/40\n",
      "22/22 [==============================] - 1s 51ms/step - loss: 16880.5527\n",
      "Epoch 8/40\n",
      "22/22 [==============================] - 1s 53ms/step - loss: 18644.9453\n",
      "Epoch 9/40\n",
      "22/22 [==============================] - 1s 51ms/step - loss: 17151.6016\n",
      "Epoch 10/40\n",
      "22/22 [==============================] - 1s 51ms/step - loss: 19208.7402\n",
      "Epoch 11/40\n",
      "22/22 [==============================] - 1s 57ms/step - loss: 18317.2422\n",
      "Epoch 12/40\n",
      "22/22 [==============================] - 1s 53ms/step - loss: 17359.3008\n",
      "Epoch 13/40\n",
      "22/22 [==============================] - 1s 50ms/step - loss: 17166.0312\n",
      "Epoch 14/40\n",
      "22/22 [==============================] - 1s 50ms/step - loss: 16851.0957\n",
      "Epoch 15/40\n",
      "22/22 [==============================] - 1s 49ms/step - loss: 16570.4297\n",
      "Epoch 16/40\n",
      "22/22 [==============================] - 1s 50ms/step - loss: 16512.8691\n",
      "Epoch 17/40\n",
      "22/22 [==============================] - 1s 45ms/step - loss: 16547.9023\n",
      "Epoch 18/40\n",
      "22/22 [==============================] - 1s 49ms/step - loss: 16488.9375\n",
      "Epoch 19/40\n",
      "22/22 [==============================] - 1s 46ms/step - loss: 16282.6660\n",
      "Epoch 20/40\n",
      "22/22 [==============================] - 1s 50ms/step - loss: 16202.7803\n",
      "Epoch 21/40\n",
      "22/22 [==============================] - 1s 50ms/step - loss: 16162.7441\n",
      "Epoch 22/40\n",
      "22/22 [==============================] - 1s 49ms/step - loss: 15941.5332\n",
      "Epoch 23/40\n",
      "22/22 [==============================] - 1s 45ms/step - loss: 15643.8799\n",
      "Epoch 24/40\n",
      "22/22 [==============================] - 1s 46ms/step - loss: 14005.9932\n",
      "Epoch 25/40\n",
      "22/22 [==============================] - 1s 45ms/step - loss: 13956.4424\n",
      "Epoch 26/40\n",
      "22/22 [==============================] - 1s 48ms/step - loss: 14549.3457\n",
      "Epoch 27/40\n",
      "22/22 [==============================] - 1s 49ms/step - loss: 16147.3633\n",
      "Epoch 28/40\n",
      "22/22 [==============================] - 1s 49ms/step - loss: 14055.7881\n",
      "Epoch 29/40\n",
      "22/22 [==============================] - 1s 53ms/step - loss: 13827.5283\n",
      "Epoch 30/40\n",
      "22/22 [==============================] - 1s 49ms/step - loss: 13977.2783\n",
      "Epoch 31/40\n",
      "22/22 [==============================] - 1s 52ms/step - loss: 14095.9854\n",
      "Epoch 32/40\n",
      "22/22 [==============================] - 1s 50ms/step - loss: 13365.8027\n",
      "Epoch 33/40\n",
      "22/22 [==============================] - 1s 51ms/step - loss: 13567.3027\n",
      "Epoch 34/40\n",
      "22/22 [==============================] - 1s 52ms/step - loss: 13191.7998\n",
      "Epoch 35/40\n",
      "22/22 [==============================] - 1s 49ms/step - loss: 13298.1133\n",
      "Epoch 36/40\n",
      "22/22 [==============================] - 1s 53ms/step - loss: 13369.0742\n",
      "Epoch 37/40\n",
      "22/22 [==============================] - 1s 47ms/step - loss: 13367.9316\n",
      "Epoch 38/40\n",
      "22/22 [==============================] - 1s 59ms/step - loss: 13240.1914\n",
      "Epoch 39/40\n",
      "22/22 [==============================] - 1s 50ms/step - loss: 14332.5459\n",
      "Epoch 40/40\n",
      "22/22 [==============================] - 1s 54ms/step - loss: 15270.3418\n"
     ]
    },
    {
     "data": {
      "text/plain": [
       "<tensorflow.python.keras.callbacks.History at 0x7f9e28032dd0>"
      ]
     },
     "execution_count": 184,
     "metadata": {},
     "output_type": "execute_result"
    }
   ],
   "source": [
    "# fit with MSE\n",
    "model_3_heads_R_WTA.fit(x_train, y_train, batch_size=32, epochs=40)"
   ]
  },
  {
   "cell_type": "code",
   "execution_count": 185,
   "id": "desperate-distributor",
   "metadata": {
    "collapsed": true
   },
   "outputs": [
    {
     "name": "stdout",
     "output_type": "stream",
     "text": [
      "\n",
      "Head 0, Mode 0 mean error: 41.35\n",
      "Head 1, Mode 0 mean error: 1.38\n",
      "Head 2, Mode 0 mean error: 28.01\n",
      "GT:  [618.3   0.    0. ]    Pred:  [494.7   0.2  -0.3 614.6  -0.3   0.1 534.9   0.3   0.2]    Error:  1.4\n",
      "GT:  [618.3   0.    0. ]    Pred:  [494.7   0.2  -0.3 614.6  -0.3   0.1 534.9   0.3   0.2]    Error:  1.4\n",
      "GT:  [618.3   0.    0. ]    Pred:  [494.7   0.2  -0.3 614.6  -0.3   0.1 534.9   0.3   0.2]    Error:  1.4\n",
      "GT:  [618.3   0.    0. ]    Pred:  [494.7   0.2  -0.3 614.6  -0.3   0.1 534.9   0.3   0.2]    Error:  1.4\n",
      "GT:  [618.3   0.    0. ]    Pred:  [494.7   0.2  -0.3 614.6  -0.3   0.1 534.9   0.3   0.2]    Error:  1.4\n",
      "\n",
      "Head 0, Mode 1 mean error: 37.15\n",
      "Head 1, Mode 1 mean error: 3.08\n",
      "Head 2, Mode 1 mean error: 23.81\n",
      "GT:  [605.7   0.    0. ]    Pred:  [494.7   0.2  -0.3 614.6  -0.3   0.1 534.9   0.3   0.2]    Error:  3.1\n",
      "GT:  [605.7   0.    0. ]    Pred:  [494.7   0.2  -0.3 614.6  -0.3   0.1 534.9   0.3   0.2]    Error:  3.1\n",
      "GT:  [605.7   0.    0. ]    Pred:  [494.7   0.2  -0.3 614.6  -0.3   0.1 534.9   0.3   0.2]    Error:  3.1\n",
      "GT:  [605.7   0.    0. ]    Pred:  [494.7   0.2  -0.3 614.6  -0.3   0.1 534.9   0.3   0.2]    Error:  3.1\n",
      "GT:  [605.7   0.    0. ]    Pred:  [494.7   0.2  -0.3 614.6  -0.3   0.1 534.9   0.3   0.2]    Error:  3.1\n",
      "\n",
      "Head 0, Mode 2 mean error: 104.12\n",
      "Head 1, Mode 2 mean error: 144.05\n",
      "Head 2, Mode 2 mean error: 117.54\n",
      "GT:  [182.8   0.    0. ]    Pred:  [494.7   0.2  -0.3 614.6  -0.3   0.1 534.9   0.3   0.2]    Error:  104.1\n",
      "GT:  [182.8   0.    0. ]    Pred:  [494.7   0.2  -0.3 614.6  -0.3   0.1 534.9   0.3   0.2]    Error:  104.1\n",
      "GT:  [182.8   0.    0. ]    Pred:  [494.7   0.2  -0.3 614.6  -0.3   0.1 534.9   0.3   0.2]    Error:  104.1\n",
      "GT:  [182.8   0.    0. ]    Pred:  [494.7   0.2  -0.3 614.6  -0.3   0.1 534.9   0.3   0.2]    Error:  104.1\n",
      "GT:  [182.8   0.    0. ]    Pred:  [494.7   0.2  -0.3 614.6  -0.3   0.1 534.9   0.3   0.2]    Error:  104.1\n"
     ]
    }
   ],
   "source": [
    "print_error_per_mode(model_3_heads_R_WTA, x_test, y_test, pattern_ids_test, modes_test, 1, num_modes, num_heads)"
   ]
  },
  {
   "cell_type": "code",
   "execution_count": 65,
   "id": "growing-slovakia",
   "metadata": {},
   "outputs": [
    {
     "data": {
      "image/png": "[encoded data removed]",
      "text/plain": [
       "<Figure size 1296x288 with 1 Axes>"
      ]
     },
     "metadata": {
      "needs_background": "light"
     },
     "output_type": "display_data"
    }
   ],
   "source": [
    "visualise_mode_overlap(model_3_heads_R_WTA, x_test, y_test, pattern_ids_test)"
   ]
  },
  {
   "cell_type": "markdown",
   "id": "threaded-teacher",
   "metadata": {},
   "source": [
    "**above shows how predicted modes overlap with actual modes**, we see that they don't overlap that well.\n",
    "RED are predicted modes"
   ]
  },
  {
   "cell_type": "markdown",
   "id": "preceding-underground",
   "metadata": {},
   "source": [
    "# MDN - for 2D problem - 3 modes 3 mixtures"
   ]
  },
  {
   "cell_type": "code",
   "execution_count": 204,
   "id": "negative-hudson",
   "metadata": {},
   "outputs": [],
   "source": [
    "# get model\n",
    "num_comp = 6\n",
    "output_shape = 1\n",
    "model_MDN = mdn_model(resnet_18, num_comp=num_comp, output_shape=output_shape, input_shape=(224,224,1))    "
   ]
  },
  {
   "cell_type": "code",
   "execution_count": 217,
   "id": "mysterious-leather",
   "metadata": {},
   "outputs": [],
   "source": [
    "# compile\n",
    "adam = keras.optimizers.Adam(0.0001)\n",
    "model_MDN.compile(optimizer=adam, \n",
    "                  loss=mdn_loss(num_comp, output_shape=output_shape, fixed_variance=False), \n",
    "                  metrics=trace_max_component(num_comp, 10))"
   ]
  },
  {
   "cell_type": "code",
   "execution_count": 218,
   "id": "unexpected-phoenix",
   "metadata": {
    "scrolled": true
   },
   "outputs": [
    {
     "name": "stdout",
     "output_type": "stream",
     "text": [
      "Epoch 1/50\n",
      "22/22 [==============================] - 1s 48ms/step - loss: 23.2232 - max_mixture: 0.6392\n",
      "Epoch 2/50\n",
      "22/22 [==============================] - 1s 47ms/step - loss: 7.9694 - max_mixture: 0.7105\n",
      "Epoch 3/50\n",
      "22/22 [==============================] - 1s 48ms/step - loss: 7.1219 - max_mixture: 0.6963\n",
      "Epoch 4/50\n",
      "22/22 [==============================] - 1s 47ms/step - loss: 6.7361 - max_mixture: 0.7155\n",
      "Epoch 5/50\n",
      "22/22 [==============================] - 1s 48ms/step - loss: 6.6667 - max_mixture: 0.6888\n",
      "Epoch 6/50\n",
      "22/22 [==============================] - 1s 47ms/step - loss: 6.5456 - max_mixture: 0.7266\n",
      "Epoch 7/50\n",
      "22/22 [==============================] - 1s 48ms/step - loss: 6.4786 - max_mixture: 0.7062\n",
      "Epoch 8/50\n",
      "22/22 [==============================] - 1s 47ms/step - loss: 6.4518 - max_mixture: 0.6843\n",
      "Epoch 9/50\n",
      "22/22 [==============================] - 1s 47ms/step - loss: 6.3939 - max_mixture: 0.6933\n",
      "Epoch 10/50\n",
      "22/22 [==============================] - 1s 49ms/step - loss: 6.3670 - max_mixture: 0.6829\n",
      "Epoch 11/50\n",
      "22/22 [==============================] - 1s 48ms/step - loss: 6.3372 - max_mixture: 0.6521\n",
      "Epoch 12/50\n",
      "22/22 [==============================] - 1s 49ms/step - loss: 6.3043 - max_mixture: 0.6743\n",
      "Epoch 13/50\n",
      "22/22 [==============================] - 1s 49ms/step - loss: 6.1663 - max_mixture: 0.6841\n",
      "Epoch 14/50\n",
      "22/22 [==============================] - 1s 47ms/step - loss: 6.2133 - max_mixture: 0.6605\n",
      "Epoch 15/50\n",
      "22/22 [==============================] - 1s 47ms/step - loss: 6.2851 - max_mixture: 0.6746\n",
      "Epoch 16/50\n",
      "22/22 [==============================] - 1s 48ms/step - loss: 6.0934 - max_mixture: 0.6594\n",
      "Epoch 17/50\n",
      "22/22 [==============================] - 1s 45ms/step - loss: 6.2029 - max_mixture: 0.6617\n",
      "Epoch 18/50\n",
      "22/22 [==============================] - 1s 46ms/step - loss: 6.0293 - max_mixture: 0.6494\n",
      "Epoch 19/50\n",
      "22/22 [==============================] - 1s 46ms/step - loss: 6.0476 - max_mixture: 0.6700\n",
      "Epoch 20/50\n",
      "22/22 [==============================] - 1s 47ms/step - loss: 6.0923 - max_mixture: 0.6592\n",
      "Epoch 21/50\n",
      "22/22 [==============================] - 1s 46ms/step - loss: 6.0580 - max_mixture: 0.6607\n",
      "Epoch 22/50\n",
      "22/22 [==============================] - 1s 47ms/step - loss: 6.0326 - max_mixture: 0.6394\n",
      "Epoch 23/50\n",
      "22/22 [==============================] - 1s 47ms/step - loss: 6.0287 - max_mixture: 0.6705\n",
      "Epoch 24/50\n",
      "22/22 [==============================] - 1s 47ms/step - loss: 5.9999 - max_mixture: 0.6865\n",
      "Epoch 25/50\n",
      "22/22 [==============================] - 1s 47ms/step - loss: 6.0103 - max_mixture: 0.6642\n",
      "Epoch 26/50\n",
      "22/22 [==============================] - 1s 48ms/step - loss: 6.1771 - max_mixture: 0.6717\n",
      "Epoch 27/50\n",
      "22/22 [==============================] - 1s 48ms/step - loss: 6.0993 - max_mixture: 0.6921\n",
      "Epoch 28/50\n",
      "22/22 [==============================] - 1s 46ms/step - loss: 6.0655 - max_mixture: 0.6892\n",
      "Epoch 29/50\n",
      "22/22 [==============================] - 1s 48ms/step - loss: 6.0357 - max_mixture: 0.6778\n",
      "Epoch 30/50\n",
      "22/22 [==============================] - 1s 47ms/step - loss: 6.0029 - max_mixture: 0.6839\n",
      "Epoch 31/50\n",
      "22/22 [==============================] - 1s 47ms/step - loss: 6.0002 - max_mixture: 0.6813\n",
      "Epoch 32/50\n",
      "22/22 [==============================] - 1s 47ms/step - loss: 6.0166 - max_mixture: 0.6656\n",
      "Epoch 33/50\n",
      "22/22 [==============================] - 1s 47ms/step - loss: 6.0455 - max_mixture: 0.6831\n",
      "Epoch 34/50\n",
      "22/22 [==============================] - 1s 47ms/step - loss: 5.9391 - max_mixture: 0.6459\n",
      "Epoch 35/50\n",
      "22/22 [==============================] - 1s 46ms/step - loss: 5.9379 - max_mixture: 0.6867\n",
      "Epoch 36/50\n",
      "22/22 [==============================] - 1s 46ms/step - loss: 5.8949 - max_mixture: 0.6762\n",
      "Epoch 37/50\n",
      "22/22 [==============================] - 1s 47ms/step - loss: 5.9871 - max_mixture: 0.6636\n",
      "Epoch 38/50\n",
      "22/22 [==============================] - 1s 48ms/step - loss: 5.8451 - max_mixture: 0.6545\n",
      "Epoch 39/50\n",
      "22/22 [==============================] - 1s 47ms/step - loss: 5.8201 - max_mixture: 0.6763\n",
      "Epoch 40/50\n",
      "22/22 [==============================] - 1s 47ms/step - loss: 5.8301 - max_mixture: 0.6631\n",
      "Epoch 41/50\n",
      "22/22 [==============================] - 1s 48ms/step - loss: 5.9638 - max_mixture: 0.6715\n",
      "Epoch 42/50\n",
      "22/22 [==============================] - 1s 47ms/step - loss: 5.8705 - max_mixture: 0.6883\n",
      "Epoch 43/50\n",
      "22/22 [==============================] - 1s 47ms/step - loss: 6.0336 - max_mixture: 0.6531\n",
      "Epoch 44/50\n",
      "22/22 [==============================] - 1s 47ms/step - loss: 5.7745 - max_mixture: 0.6428\n",
      "Epoch 45/50\n",
      "22/22 [==============================] - 1s 47ms/step - loss: 5.7413 - max_mixture: 0.6689\n",
      "Epoch 46/50\n",
      "22/22 [==============================] - 1s 47ms/step - loss: 5.7051 - max_mixture: 0.6490\n",
      "Epoch 47/50\n",
      "22/22 [==============================] - 1s 46ms/step - loss: 5.6742 - max_mixture: 0.6428\n",
      "Epoch 48/50\n",
      "22/22 [==============================] - 1s 48ms/step - loss: 5.6163 - max_mixture: 0.6238\n",
      "Epoch 49/50\n",
      "22/22 [==============================] - 1s 46ms/step - loss: 5.5315 - max_mixture: 0.6407\n",
      "Epoch 50/50\n",
      "22/22 [==============================] - 1s 47ms/step - loss: 5.6352 - max_mixture: 0.6319\n"
     ]
    }
   ],
   "source": [
    "# train the model\n",
    "# history = model_MDN.fit(x_train, y_train, batch_size=32, epochs=200)\n",
    "history_var_on = model_MDN.fit(x_train, y_train, batch_size=32, epochs=50)"
   ]
  },
  {
   "cell_type": "code",
   "execution_count": 207,
   "id": "speaking-chamber",
   "metadata": {},
   "outputs": [
    {
     "data": {
      "image/png": "[encoded data removed]",
      "text/plain": [
       "<Figure size 1152x144 with 1 Axes>"
      ]
     },
     "metadata": {
      "needs_background": "light"
     },
     "output_type": "display_data"
    },
    {
     "data": {
      "image/png": "[encoded data removed]",
      "text/plain": [
       "<Figure size 1152x144 with 1 Axes>"
      ]
     },
     "metadata": {
      "needs_background": "light"
     },
     "output_type": "display_data"
    }
   ],
   "source": [
    "visualise_model_evolution(history.history['max_mixture'], 'max component')\n",
    "visualise_model_evolution(history.history['loss'], 'loss', log=True)"
   ]
  },
  {
   "cell_type": "code",
   "execution_count": 219,
   "id": "alternative-rachel",
   "metadata": {},
   "outputs": [],
   "source": [
    "import numpy as np\n",
    "import matplotlib.pyplot as plt\n",
    "from scipy.stats import norm\n",
    "import tensorflow as tf\n",
    "from tensorflow_probability import distributions as tfd\n",
    "\n",
    "def get_mixture_dist(logits, num_components, numpy=True):\n",
    "    \"\"\"\n",
    "    This function converts logits into a categorical probability distribution\n",
    "    there are 'num_components' elements in logits array. \n",
    "    Note: logits has to be 1D vector (i.e. you have to get categorical distribution for each datapoint seperately)  \n",
    "    \"\"\"\n",
    "    dist = tfd.Categorical(logits=logits)\n",
    "    n = 1e4\n",
    "    empirical_prob = tf.cast(\n",
    "        tf.histogram_fixed_width(\n",
    "          dist.sample(int(n)),\n",
    "          [0, num_components-1],\n",
    "          nbins=num_components),\n",
    "        dtype=tf.float32) / n\n",
    "    if numpy:\n",
    "        return empirical_prob.numpy()\n",
    "    else:\n",
    "        return empirical_prob\n",
    "\n",
    "\n",
    "\n",
    "def visualise_probability_for_datapoint(model, x, y, pattern_ids, num_modes, pattern_ID=0, num_points=1, ind=None, fixed_variance=True):\n",
    "    \"\"\"\n",
    "    This function visualises all modes ('y' values) for pattern associated with 'pattern_ID'.\n",
    "    It will then plot the probability distribution outputed by the MDN. \n",
    "    \"\"\"\n",
    "\n",
    "    unique_patterns = np.unique(pattern_ids)\n",
    "    p_indexes = np.where(pattern_ids == pattern_ID, 1, 0).astype(bool)\n",
    "    gt_modes = np.unique(y[p_indexes])\n",
    "    num_outputs = y.shape[-1]\n",
    "    \n",
    "    for i in range(num_points):\n",
    "        plt.figure(figsize=(16,2))\n",
    "\n",
    "        # plot probability\n",
    "        y_tmp = y[p_indexes]\n",
    "        x_tmp = x[p_indexes]\n",
    "        if ind != None:\n",
    "            random_ind = ind\n",
    "        else:\n",
    "            random_ind = np.random.randint(len(x_tmp))\n",
    "        y_dist = model.predict(np.expand_dims(x_tmp[random_ind], axis=0))\n",
    "        mix_comp, means, var = y_dist[0,:num_modes], y_dist[0,num_modes: (num_outputs+1)*num_modes], y_dist[0, (num_outputs+1)*num_modes:]\n",
    "        if fixed_variance:\n",
    "            var = [1]*num_modes\n",
    "        \n",
    "        # somehow need to plot a gaussian\n",
    "        n = 1000\n",
    "        y_samples = np.arange(n)\n",
    "        probability = np.zeros(n)\n",
    "        gaus_mix = get_mixture_dist(mix_comp, num_modes) \n",
    "        \n",
    "        for j in range(num_modes):\n",
    "            probability += gaus_mix[j] * norm.pdf(y_samples, loc=means[j], scale=var[j])\n",
    "        plt.plot(y_samples, probability, linewidth=0.5, color='tab:blue', label='GMM\\'s p(y|img)')\n",
    "        \n",
    "        # plot ground truth\n",
    "        plt.scatter(y_tmp[random_ind], [0], color='tab:green', linewidth=10, alpha=0.5, label='sample GT')\n",
    "        plt.scatter(gt_modes, [0] * len(gt_modes), linewidth=3, alpha=0.5, color='tab:red', label='GT modes')\n",
    "        \n",
    "        plt.ylabel('p( y | img)')\n",
    "        plt.xlabel('y (distance)')\n",
    "        plt.title(f'Pattern {pattern_ID}')\n",
    "        plt.legend()\n",
    "        plt.show()\n",
    "\n",
    "        print(f'GT: {y_tmp[random_ind]}')\n",
    "        for j in range(num_modes):\n",
    "            pi = np.around(gaus_mix[j],2)\n",
    "            mu = np.around(means[j],2)\n",
    "            sig = np.around(var[j],2)\n",
    "            print(f'Component {j+1}: pi=', pi, ', mu=', mu, ', sig=', sig)\n",
    "\n",
    "            \n",
    "def visualise_model_evolution(mix_evolution, y_label, log=False):\n",
    "    \"\"\"\n",
    "    This function plots evolution of average max_mixture component across epochs.\n",
    "    Because the dataset is balanced, each mode should receive approximately 0.33 component probability - so that should be the max\n",
    "    However, in practice we are more likely to see max mixture with pi>0.33 because sometimesmodes overlap.\n",
    "    \n",
    "    It would be cool to see what happens when we use MDN with more mixtures then there are modes in the data.\n",
    "    Maybe then this metric will be lower.\n",
    "    \"\"\"\n",
    "    plt.figure(figsize=(16,2))\n",
    "    plt.plot(range(len(mix_evolution)), mix_evolution)\n",
    "    plt.xlabel('epochs')\n",
    "    plt.ylabel(y_label)\n",
    "    if log:\n",
    "        plt.yscale('log')\n",
    "    plt.show()            \n",
    "\n",
    "\n",
    "def visualise_modes(model, x, y, pattern_ids, modes, num_modes, num_outputs):\n",
    "    \"\"\"\n",
    "    This function shows where the predicted mode means lie with respect to the ground truth modes.\n",
    "    later i may add a plot to visualise entire learned probability distribution.\n",
    "    I use an arbitrary way to compute locations of modes (i.e. mean across all point sharing that mode.)\n",
    "    This might be not the best way to do this. \n",
    "    It might be in fact best to evaluate this problem at a point-by-point basis. - see visualise_probability_for_datapoint() function\n",
    "    \"\"\"\n",
    "    plt.figure(figsize=(16,2))\n",
    "    unique_patterns = np.unique(pattern_ids)\n",
    "    \n",
    "    for i, p_id in enumerate(unique_patterns):\n",
    "        p_indexes = np.where(pattern_ids == p_id, 1, 0)\n",
    "        \n",
    "        for m_id in range(num_modes):\n",
    "            m_indexes = np.where(modes == m_id, 1, 0)\n",
    "            mp_indexes = p_indexes * m_indexes\n",
    "            mp_indexes = mp_indexes.astype(bool)\n",
    "\n",
    "            x_tmp = x[mp_indexes]\n",
    "            y_tmp = y[mp_indexes]\n",
    "            y_pred = model.predict(x_tmp)\n",
    "            \n",
    "            main_comp_ind = np.argmax( np.mean(y_pred[:,:num_modes], axis=0) )\n",
    "            means = np.mean(y_pred[:, num_modes:(1+num_outputs)*num_modes], axis=0 )\n",
    "            plt.scatter(i, np.mean(y_tmp), color='tab:green')  # true\n",
    "            plt.scatter(i, means[main_comp_ind], color='tab:orange')  # pred\n",
    "\n",
    "    plt.show()"
   ]
  },
  {
   "cell_type": "code",
   "execution_count": 221,
   "id": "rolled-narrow",
   "metadata": {
    "scrolled": false
   },
   "outputs": [
    {
     "data": {
      "image/png": "[encoded data removed]",
      "text/plain": [
       "<Figure size 1152x144 with 1 Axes>"
      ]
     },
     "metadata": {
      "needs_background": "light"
     },
     "output_type": "display_data"
    },
    {
     "name": "stdout",
     "output_type": "stream",
     "text": [
      "GT: [490.4910383]\n",
      "Component 1: pi= 0.05 , mu= 773.1 , sig= 16.41\n",
      "Component 2: pi= 0.04 , mu= 167.68 , sig= 10.78\n",
      "Component 3: pi= 0.0 , mu= 375.29 , sig= 0.13\n",
      "Component 4: pi= 0.0 , mu= 289.88 , sig= 0.19\n",
      "Component 5: pi= 0.91 , mu= 465.24 , sig= 60.54\n",
      "Component 6: pi= 0.0 , mu= 66.42 , sig= 213.17\n"
     ]
    },
    {
     "data": {
      "image/png": "[encoded data removed]",
      "text/plain": [
       "<Figure size 1152x144 with 1 Axes>"
      ]
     },
     "metadata": {
      "needs_background": "light"
     },
     "output_type": "display_data"
    },
    {
     "name": "stdout",
     "output_type": "stream",
     "text": [
      "GT: [894.18601299]\n",
      "Component 1: pi= 0.37 , mu= 876.67 , sig= 38.82\n",
      "Component 2: pi= 0.04 , mu= 165.83 , sig= 10.54\n",
      "Component 3: pi= 0.0 , mu= 396.87 , sig= 0.34\n",
      "Component 4: pi= 0.0 , mu= 271.75 , sig= 0.01\n",
      "Component 5: pi= 0.59 , mu= 470.39 , sig= 146.91\n",
      "Component 6: pi= 0.0 , mu= 68.59 , sig= 109.0\n"
     ]
    },
    {
     "data": {
      "image/png": "[encoded data removed]",
      "text/plain": [
       "<Figure size 1152x144 with 1 Axes>"
      ]
     },
     "metadata": {
      "needs_background": "light"
     },
     "output_type": "display_data"
    },
    {
     "name": "stdout",
     "output_type": "stream",
     "text": [
      "GT: [47.59360604]\n",
      "Component 1: pi= 0.25 , mu= 492.17 , sig= 15.56\n",
      "Component 2: pi= 0.36 , mu= 112.22 , sig= 2.23\n",
      "Component 3: pi= 0.01 , mu= 216.4 , sig= 0.64\n",
      "Component 4: pi= 0.03 , mu= 558.76 , sig= 41.26\n",
      "Component 5: pi= 0.02 , mu= 417.65 , sig= 19.28\n",
      "Component 6: pi= 0.34 , mu= 47.6 , sig= 0.71\n"
     ]
    },
    {
     "data": {
      "image/png": "[encoded data removed]",
      "text/plain": [
       "<Figure size 1152x144 with 1 Axes>"
      ]
     },
     "metadata": {
      "needs_background": "light"
     },
     "output_type": "display_data"
    },
    {
     "name": "stdout",
     "output_type": "stream",
     "text": [
      "GT: [507.35128298]\n",
      "Component 1: pi= 0.57 , mu= 759.89 , sig= 15.78\n",
      "Component 2: pi= 0.04 , mu= 156.75 , sig= 3.95\n",
      "Component 3: pi= 0.0 , mu= 345.59 , sig= 0.44\n",
      "Component 4: pi= 0.0 , mu= 467.06 , sig= 1.17\n",
      "Component 5: pi= 0.39 , mu= 500.07 , sig= 130.15\n",
      "Component 6: pi= 0.0 , mu= 60.67 , sig= 12.26\n"
     ]
    },
    {
     "data": {
      "image/png": "[encoded data removed]",
      "text/plain": [
       "<Figure size 1152x144 with 1 Axes>"
      ]
     },
     "metadata": {
      "needs_background": "light"
     },
     "output_type": "display_data"
    },
    {
     "name": "stdout",
     "output_type": "stream",
     "text": [
      "GT: [949.6829022]\n",
      "Component 1: pi= 0.61 , mu= 764.75 , sig= 112.48\n",
      "Component 2: pi= 0.02 , mu= 124.39 , sig= 1.36\n",
      "Component 3: pi= 0.03 , mu= 273.08 , sig= 5.07\n",
      "Component 4: pi= 0.22 , mu= 943.92 , sig= 52.8\n",
      "Component 5: pi= 0.13 , mu= 603.24 , sig= 63.07\n",
      "Component 6: pi= 0.0 , mu= 52.84 , sig= 0.01\n"
     ]
    },
    {
     "data": {
      "image/png": "[encoded data removed]",
      "text/plain": [
       "<Figure size 1152x144 with 1 Axes>"
      ]
     },
     "metadata": {
      "needs_background": "light"
     },
     "output_type": "display_data"
    },
    {
     "name": "stdout",
     "output_type": "stream",
     "text": [
      "GT: [148.19040314]\n",
      "Component 1: pi= 0.71 , mu= 874.82 , sig= 85.37\n",
      "Component 2: pi= 0.16 , mu= 149.71 , sig= 4.82\n",
      "Component 3: pi= 0.0 , mu= 370.66 , sig= 0.77\n",
      "Component 4: pi= 0.0 , mu= 434.29 , sig= 0.07\n",
      "Component 5: pi= 0.13 , mu= 503.71 , sig= 309.0\n",
      "Component 6: pi= 0.0 , mu= 62.27 , sig= 8.81\n"
     ]
    },
    {
     "data": {
      "image/png": "[encoded data removed]",
      "text/plain": [
       "<Figure size 1152x144 with 1 Axes>"
      ]
     },
     "metadata": {
      "needs_background": "light"
     },
     "output_type": "display_data"
    },
    {
     "name": "stdout",
     "output_type": "stream",
     "text": [
      "GT: [672.10076232]\n",
      "Component 1: pi= 0.45 , mu= 649.73 , sig= 23.7\n",
      "Component 2: pi= 0.03 , mu= 140.81 , sig= 2.36\n",
      "Component 3: pi= 0.01 , mu= 291.07 , sig= 0.76\n",
      "Component 4: pi= 0.01 , mu= 594.02 , sig= 16.98\n",
      "Component 5: pi= 0.49 , mu= 496.91 , sig= 174.96\n",
      "Component 6: pi= 0.01 , mu= 54.28 , sig= 1.7\n"
     ]
    },
    {
     "data": {
      "image/png": "[encoded data removed]",
      "text/plain": [
       "<Figure size 1152x144 with 1 Axes>"
      ]
     },
     "metadata": {
      "needs_background": "light"
     },
     "output_type": "display_data"
    },
    {
     "name": "stdout",
     "output_type": "stream",
     "text": [
      "GT: [849.15310719]\n",
      "Component 1: pi= 0.01 , mu= 533.62 , sig= 240.6\n",
      "Component 2: pi= 0.0 , mu= 74.43 , sig= 0.84\n",
      "Component 3: pi= 0.17 , mu= 155.41 , sig= 8.06\n",
      "Component 4: pi= 0.82 , mu= 806.54 , sig= 48.6\n",
      "Component 5: pi= 0.0 , mu= 448.51 , sig= 9.89\n",
      "Component 6: pi= 0.0 , mu= 37.09 , sig= 0.01\n"
     ]
    },
    {
     "data": {
      "image/png": "[encoded data removed]",
      "text/plain": [
       "<Figure size 1152x144 with 1 Axes>"
      ]
     },
     "metadata": {
      "needs_background": "light"
     },
     "output_type": "display_data"
    },
    {
     "name": "stdout",
     "output_type": "stream",
     "text": [
      "GT: [842.36722004]\n",
      "Component 1: pi= 0.76 , mu= 855.22 , sig= 16.41\n",
      "Component 2: pi= 0.09 , mu= 193.23 , sig= 8.87\n",
      "Component 3: pi= 0.0 , mu= 408.67 , sig= 0.14\n",
      "Component 4: pi= 0.0 , mu= 426.11 , sig= 0.67\n",
      "Component 5: pi= 0.15 , mu= 548.71 , sig= 252.58\n",
      "Component 6: pi= 0.0 , mu= 72.95 , sig= 136.85\n"
     ]
    },
    {
     "data": {
      "image/png": "[encoded data removed]",
      "text/plain": [
       "<Figure size 1152x144 with 1 Axes>"
      ]
     },
     "metadata": {
      "needs_background": "light"
     },
     "output_type": "display_data"
    },
    {
     "name": "stdout",
     "output_type": "stream",
     "text": [
      "GT: [946.71807486]\n",
      "Component 1: pi= 0.05 , mu= 665.68 , sig= 327.37\n",
      "Component 2: pi= 0.2 , mu= 92.37 , sig= 1.58\n",
      "Component 3: pi= 0.3 , mu= 213.03 , sig= 7.85\n",
      "Component 4: pi= 0.44 , mu= 939.94 , sig= 62.6\n",
      "Component 5: pi= 0.0 , mu= 541.37 , sig= 22.38\n",
      "Component 6: pi= 0.0 , mu= 43.47 , sig= 0.0\n"
     ]
    }
   ],
   "source": [
    "ind = np.random.randint(50)\n",
    "pattern_ID = 0\n",
    "for i in range(10):\n",
    "    pattern_ID = i\n",
    "    visualise_probability_for_datapoint(model_MDN, x_train, y_train, pattern_ids_train, num_comp, pattern_ID=pattern_ID, num_points=1, ind=ind, fixed_variance=False)"
   ]
  },
  {
   "cell_type": "code",
   "execution_count": 125,
   "id": "earlier-dependence",
   "metadata": {},
   "outputs": [
    {
     "data": {
      "image/png": "[encoded data removed]",
      "text/plain": [
       "<Figure size 1152x216 with 1 Axes>"
      ]
     },
     "metadata": {
      "needs_background": "light"
     },
     "output_type": "display_data"
    }
   ],
   "source": [
    "visualise_modes(model_MDN, x_train, y_train, pattern_ids_train, modes_train, num_modes, 1)"
   ]
  },
  {
   "cell_type": "code",
   "execution_count": null,
   "id": "joint-cholesterol",
   "metadata": {},
   "outputs": [],
   "source": []
  },
  {
   "cell_type": "code",
   "execution_count": null,
   "id": "governing-terrace",
   "metadata": {},
   "outputs": [],
   "source": []
  },
  {
   "cell_type": "code",
   "execution_count": null,
   "id": "individual-metallic",
   "metadata": {},
   "outputs": [],
   "source": []
  },
  {
   "cell_type": "code",
   "execution_count": null,
   "id": "distinguished-barrier",
   "metadata": {},
   "outputs": [],
   "source": []
  },
  {
   "cell_type": "code",
   "execution_count": null,
   "id": "western-acrobat",
   "metadata": {},
   "outputs": [],
   "source": []
  },
  {
   "cell_type": "code",
   "execution_count": null,
   "id": "anonymous-anime",
   "metadata": {},
   "outputs": [],
   "source": []
  },
  {
   "cell_type": "code",
   "execution_count": null,
   "id": "abroad-plane",
   "metadata": {},
   "outputs": [],
   "source": []
  },
  {
   "cell_type": "code",
   "execution_count": null,
   "id": "difficult-floor",
   "metadata": {},
   "outputs": [],
   "source": []
  },
  {
   "cell_type": "code",
   "execution_count": null,
   "id": "wired-salem",
   "metadata": {},
   "outputs": [],
   "source": []
  },
  {
   "cell_type": "code",
   "execution_count": null,
   "id": "entertaining-speech",
   "metadata": {},
   "outputs": [],
   "source": []
  },
  {
   "cell_type": "code",
   "execution_count": null,
   "id": "literary-italian",
   "metadata": {},
   "outputs": [],
   "source": []
  },
  {
   "cell_type": "code",
   "execution_count": null,
   "id": "varying-certification",
   "metadata": {},
   "outputs": [],
   "source": []
  },
  {
   "cell_type": "code",
   "execution_count": null,
   "id": "smart-history",
   "metadata": {},
   "outputs": [],
   "source": []
  },
  {
   "cell_type": "code",
   "execution_count": 35,
   "id": "certified-artist",
   "metadata": {},
   "outputs": [],
   "source": [
    "# need a function that can visualise predictions of the MDN model\n",
    "def get_mode_means_for_X_COORD(model, x, y, num_comp, output_shape, compare):\n",
    "    y_dist = model.predict(x)\n",
    "    \n",
    "    gaus_comp = y_dist[:,:num_comp]\n",
    "    means = y_dist[:,num_comp:(output_shape+1)*num_comp]\n",
    "    variances = y_dist[:,(output_shape+1)*num_comp:]\n",
    "    \n",
    "    mode_mean = np.zeros((y_dist.shape[0]))\n",
    "    for j in range(len(x)):\n",
    "        if num_comp >1:\n",
    "            mixture_dist = get_mixture_dist(gaus_comp[j,:], num_comp) \n",
    "        else:\n",
    "            mixture_dist = 1\n",
    "        means_x = means[j,:]\n",
    "        mode_mean[j] = np.dot(mixture_dist, means_x)\n",
    "\n",
    "        print(f'GT: {np.round(y[j],2)}') #',   Pred: {np.round(mode_mean[j], 2)}')\n",
    "#         print(f'lower bound:  {np.round(mode_mean[j]-mode_var[j],2)},   upper bound: {np.round(mode_mean[j]+mode_var[j],2)}')\n",
    "        print(f'prd mix components: {mixture_dist}')\n",
    "        print(f'prd means: {means[j]}')\n",
    "        print(f'pred var: {variances[j]}')\n",
    "        print()\n",
    "    \n",
    "    return mode_mean\n"
   ]
  },
  {
   "cell_type": "code",
   "execution_count": 54,
   "id": "specified-special",
   "metadata": {},
   "outputs": [
    {
     "name": "stdout",
     "output_type": "stream",
     "text": [
      "GT: [496.16]\n",
      "prd mix components: [0.002  0.0205 0.9775]\n",
      "prd means: [233.71793 136.84425 497.46725]\n",
      "pred var: [23.94206  32.394592  4.76361 ]\n",
      "\n",
      "GT: [60.11]\n",
      "prd mix components: [0.9986 0.0008 0.0006]\n",
      "prd means: [ 64.206566 194.5998   643.497   ]\n",
      "pred var: [ 2.6513455 46.784756  28.183924 ]\n",
      "\n",
      "GT: [149.96]\n",
      "prd mix components: [0.0005 0.9977 0.0018]\n",
      "prd means: [508.4638  150.71896 664.147  ]\n",
      "pred var: [22.011208   3.5202203 17.73889  ]\n",
      "\n",
      "GT: [241.25]\n",
      "prd mix components: [0.0085 0.9182 0.0733]\n",
      "prd means: [188.9023  242.64659 732.829  ]\n",
      "pred var: [28.570454   3.9311595  9.307612 ]\n",
      "\n",
      "GT: [918.71]\n",
      "prd mix components: [0.6315 0.0003 0.3682]\n",
      "prd means: [916.9691  157.35204 874.6677 ]\n",
      "pred var: [ 8.49213    3.2332115 11.04581  ]\n",
      "\n",
      "GT: [496.16]\n",
      "prd mix components: [0.0002 0.0084 0.9914]\n",
      "prd means: [278.00772 133.24611 499.0411 ]\n",
      "pred var: [26.940407 26.004368  4.311767]\n",
      "\n",
      "GT: [864.6]\n",
      "prd mix components: [0.3517 0.001  0.6473]\n",
      "prd means: [905.60474 157.55096 860.71094]\n",
      "pred var: [8.627409  3.2006042 9.287779 ]\n",
      "\n",
      "GT: [96.69]\n",
      "prd mix components: [0.9921 0.0008 0.0071]\n",
      "prd means: [ 94.16013 206.7379  687.6482 ]\n",
      "pred var: [ 3.4084973 31.196247  22.090061 ]\n",
      "\n",
      "GT: [351.59]\n",
      "prd mix components: [0.0472 0.0012 0.9516]\n",
      "prd means: [339.2912    78.156006 356.12024 ]\n",
      "pred var: [6.377539  5.143025  4.4932265]\n",
      "\n",
      "GT: [840.33]\n",
      "prd mix components: [0.0337 0.0042 0.9621]\n",
      "prd means: [121.61879 265.53372 847.8464 ]\n",
      "pred var: [4.6856236 7.57222   7.6847878]\n",
      "\n"
     ]
    }
   ],
   "source": [
    "mode_means = get_mode_means_for_X_COORD(model_MDN, x_train[:10], y_train[:10], num_comp, 1, compare=True)"
   ]
  },
  {
   "cell_type": "code",
   "execution_count": null,
   "id": "historical-montreal",
   "metadata": {},
   "outputs": [],
   "source": [
    "def get_predictions_MDN(model, x):\n",
    "    y_dist = model.predict(x)\n",
    "    \n",
    "    gaus_comp = y_dist[:,:num_comp]\n",
    "    means = y_dist[:,num_comp:(output_shape+1)*num_comp]\n",
    "    variances = y_dist[:,(output_shape+1)*num_comp:]\n",
    "    \n",
    "#     mode_mean = np.zeros(len(x))\n",
    "    mixture_dist = np.zeros((len(x), 3))\n",
    "    \n",
    "    for j in range(len(x)):\n",
    "#         if num_comp >1:\n",
    "        mixture_dist[j] = get_mixture_dist(gaus_comp[j,:], num_comp) \n",
    "#         else:\n",
    "#             mixture_dist = 1\n",
    "#         means_x = means[j,:]\n",
    "#         mode_mean[j] = np.dot(mixture_dist, means_x)\n",
    "        \n",
    "    mix, mean, var = mixture_dist, means, variances\n",
    "    return mix, mean, var\n",
    "\n",
    "def print_error_per_mode_MDN(model, x, y, pattern_ids, modes, pattern_ID, num_modes, num_heads):\n",
    "       \n",
    "    pattern_indexes = np.where(pattern_ids == pattern_ID, 1, 0)\n",
    "    \n",
    "    for i in range(num_modes):\n",
    "        mode_indexes = np.where(modes == i, 1, 0)\n",
    "        mode_pat_indexes = pattern_indexes*mode_indexes\n",
    "        mode_pat_indexes = mode_pat_indexes.astype(bool)\n",
    "\n",
    "        x_tmp = x[mode_pat_indexes]\n",
    "        y_tmp = y[mode_pat_indexes]\n",
    "        mix, mean, var = get_predictions_MDN(model, x_tmp)\n",
    "        \n",
    "        print(f'MODE: {i}')\n",
    "        for j in range(5):\n",
    "            print(f'GT: {np.round(y_tmp[j],2)},  mix: {np.round(mix[j],2)},   means: {np.round(mean[j],2)},   var: {np.round(var[j],2)}')\n",
    "        print()\n",
    "        \n",
    "\n",
    "print_error_per_mode_MDN(model_MDN, x_train, y_train, pattern_ids_train, modes_train, 0, num_modes, num_heads=1)"
   ]
  }
 ],
 "metadata": {
  "kernelspec": {
   "display_name": "Python 3 loc",
   "language": "python",
   "name": "localication"
  },
  "language_info": {
   "codemirror_mode": {
    "name": "ipython",
    "version": 3
   },
   "file_extension": ".py",
   "mimetype": "text/x-python",
   "name": "python",
   "nbconvert_exporter": "python",
   "pygments_lexer": "ipython3",
   "version": "3.7.10"
  }
 },
 "nbformat": 4,
 "nbformat_minor": 5
}
