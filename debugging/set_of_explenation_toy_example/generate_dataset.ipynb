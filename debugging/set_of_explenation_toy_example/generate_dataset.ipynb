{
 "cells": [
  {
   "cell_type": "markdown",
   "id": "checked-belief",
   "metadata": {},
   "source": [
    "TODO:\n",
    "* generate dataset - [DONE]\n",
    "* create generative model\n",
    "* apply your loss function to that dataset, see if it works. Can you choose right hyperparameters? - [DONE]\n",
    "* optimise generative model with EM algorithm\n",
    "* read about predicting vector of mean and variances for each pixel - [DONE]\n",
    "* implement that methdod MDB - [DONE]\n"
   ]
  },
  {
   "cell_type": "code",
   "execution_count": 167,
   "id": "champion-beginning",
   "metadata": {},
   "outputs": [],
   "source": [
    "import os\n",
    "os.environ[\"CUDA_VISIBLE_DEVICES\"] = \"0\""
   ]
  },
  {
   "cell_type": "code",
   "execution_count": 4,
   "id": "atmospheric-replacement",
   "metadata": {},
   "outputs": [],
   "source": [
    "import numpy as np\n",
    "from scipy import spatial"
   ]
  },
  {
   "cell_type": "code",
   "execution_count": 11,
   "id": "pressed-mediterranean",
   "metadata": {},
   "outputs": [],
   "source": [
    "import tensorflow as tf\n",
    "from tensorflow import keras\n",
    "from tensorflow.keras import layers\n",
    "from tensorflow.keras import Model\n",
    "import matplotlib.pyplot as plt"
   ]
  },
  {
   "cell_type": "markdown",
   "id": "appointed-helping",
   "metadata": {},
   "source": [
    "# Generate Dataset"
   ]
  },
  {
   "cell_type": "markdown",
   "id": "attractive-sweden",
   "metadata": {},
   "source": [
    "**get paterns**"
   ]
  },
  {
   "cell_type": "code",
   "execution_count": 32,
   "id": "dangerous-college",
   "metadata": {},
   "outputs": [
    {
     "name": "stdout",
     "output_type": "stream",
     "text": [
      "Patterns:  [-1.   -0.98 -0.96 -0.94] ...\n"
     ]
    }
   ],
   "source": [
    "# np.random.seed(3)\n",
    "\n",
    "# number of patterns observed\n",
    "C = 100\n",
    "# patterns (len(c) = C + 1)\n",
    "c = np.arange(-1,1 + 1e-9, 2/C)\n",
    "print(\"Patterns: \", c[:4], '...')"
   ]
  },
  {
   "cell_type": "markdown",
   "id": "cathedral-measurement",
   "metadata": {},
   "source": [
    "**pattern-to-many location mapping** (decide location of each pattern)"
   ]
  },
  {
   "cell_type": "code",
   "execution_count": 33,
   "id": "indie-volleyball",
   "metadata": {},
   "outputs": [],
   "source": [
    "# # create an axis from which you will be able to sample from \n",
    "# \" a set of points on x-axis and corresponding patterns \"\n",
    "# num_clusters = 100 \n",
    "# T_min, T_max = -100, 100\n",
    "# t = np.round(np.random.uniform(low=T_min, high=T_max, size=num_clusters), 2)\n",
    "# t_patterns = np.random.choice(c, num_clusters)\n",
    "# print(\"Cluster locations:   \", t)\n",
    "# print(\"Pattern at location: \", t_patterns)"
   ]
  },
  {
   "cell_type": "markdown",
   "id": "descending-blackberry",
   "metadata": {},
   "source": [
    "**pattern-to-one location mapping** (decide location of each pattern)"
   ]
  },
  {
   "cell_type": "code",
   "execution_count": 34,
   "id": "strong-gasoline",
   "metadata": {},
   "outputs": [
    {
     "name": "stdout",
     "output_type": "stream",
     "text": [
      "Cluster locations:    [-25.87 -99.42 -13.61  39.4 ]  ...\n",
      "Pattern at location:  [ 0.38 -0.14  0.26 -0.62]  ...\n"
     ]
    }
   ],
   "source": [
    "# create an axis from which you will be able to sample from \n",
    "\" a set of points on x-axis and corresponding patterns \"\n",
    "num_clusters = C \n",
    "T_min, T_max = -100, 100\n",
    "t = np.round(np.random.uniform(low=T_min, high=T_max, size=num_clusters), 2)\n",
    "t_patterns = np.random.choice(c, num_clusters,  replace=False)\n",
    "print(\"Cluster locations:   \", t[:4], ' ...')\n",
    "print(\"Pattern at location: \", t_patterns[:4], ' ...')"
   ]
  },
  {
   "cell_type": "markdown",
   "id": "protective-failing",
   "metadata": {},
   "source": [
    "**generate dataset** (first et random locations along the line, then do Nearest Neighbour to retrive associated patterns)"
   ]
  },
  {
   "cell_type": "code",
   "execution_count": 35,
   "id": "imperial-plaintiff",
   "metadata": {},
   "outputs": [
    {
     "name": "stdout",
     "output_type": "stream",
     "text": [
      "Dataset - label:  [-25.90414891  82.0630352   20.74045319   6.42683944]  ...\n",
      "Dataset - input:  [ 0.38  0.48  0.82 -0.94]  ...\n",
      "\n",
      "Dataset shape:  (1000, 2)\n",
      "Dataset samples: \n",
      "[[  0.38       -25.90414891]\n",
      " [  0.48        82.0630352 ]\n",
      " [  0.82        20.74045319]\n",
      " [ -0.94         6.42683944]]\n"
     ]
    }
   ],
   "source": [
    "# create dataset. sample random points in range T_min, T_max, and get Nearest Neighbour t point  \n",
    "N = 1000  # num datapoints\n",
    "Y = np.random.uniform(low=T_min, high=T_max, size=N)\n",
    "\n",
    "tree = spatial.cKDTree(np.reshape(t, (-1,1)))\n",
    "indices = tree.query(np.reshape(Y, (-1,1)))[1]\n",
    "X = np.array(t_patterns[indices]) # + np.random.normal(0,0.05, size=N)\n",
    "print(\"Dataset - label: \", Y[:4], ' ...')\n",
    "print(\"Dataset - input: \", X[:4], ' ...')\n",
    "\n",
    "# join X and Y datasets & reshape\n",
    "dataset = np.stack([X, Y]).T\n",
    "print(\"\\nDataset shape: \", dataset.shape)\n",
    "print(\"Dataset samples: \")\n",
    "print(dataset[:4, :])"
   ]
  },
  {
   "cell_type": "markdown",
   "id": "impaired-oklahoma",
   "metadata": {},
   "source": [
    "# Simple generative model solution"
   ]
  },
  {
   "cell_type": "markdown",
   "id": "entitled-discrimination",
   "metadata": {},
   "source": [
    "Model: \n",
    "\\begin{align}\n",
    "\\underset{w}{\\mathrm{argmax}} \\;\\; p(t|i;w)\n",
    "\\end{align}"
   ]
  },
  {
   "cell_type": "code",
   "execution_count": 109,
   "id": "hidden-helmet",
   "metadata": {},
   "outputs": [],
   "source": [
    "def simple_model():\n",
    "    input_ = layers.Input(shape=(1))\n",
    "    x = layers.Dense(100, activation='relu')(input_)\n",
    "    x = layers.Dense(100, activation='relu')(x)\n",
    "    x = layers.Dense(50, activation='relu')(x)\n",
    "    y = layers.Dense(1)(x)\n",
    "    model = Model(inputs = input_, outputs = y)\n",
    "    return model\n",
    "\n",
    "sgd = tf.keras.optimizers.SGD(learning_rate=0.001)\n",
    "adam = tf.keras.optimizers.Adam(learning_rate=0.01)\n",
    "\n",
    "model = simple_model()\n",
    "model.compile(optimizer=adam, loss='mean_squared_error')"
   ]
  },
  {
   "cell_type": "code",
   "execution_count": 46,
   "id": "demonstrated-fleet",
   "metadata": {
    "collapsed": true
   },
   "outputs": [
    {
     "name": "stdout",
     "output_type": "stream",
     "text": [
      "Epoch 1/100\n",
      "32/32 [==============================] - 0s 1ms/step - loss: 2701.0767\n",
      "Epoch 2/100\n",
      "32/32 [==============================] - 0s 2ms/step - loss: 2698.5266\n",
      "Epoch 3/100\n",
      "32/32 [==============================] - 0s 2ms/step - loss: 2681.8328\n",
      "Epoch 4/100\n",
      "32/32 [==============================] - 0s 2ms/step - loss: 2751.9675\n",
      "Epoch 5/100\n",
      "32/32 [==============================] - 0s 2ms/step - loss: 2736.1169\n",
      "Epoch 6/100\n",
      "32/32 [==============================] - 0s 2ms/step - loss: 2688.3513\n",
      "Epoch 7/100\n",
      "32/32 [==============================] - 0s 1ms/step - loss: 2737.7073\n",
      "Epoch 8/100\n",
      "32/32 [==============================] - 0s 2ms/step - loss: 2767.6265\n",
      "Epoch 9/100\n",
      "32/32 [==============================] - 0s 2ms/step - loss: 2702.3738\n",
      "Epoch 10/100\n",
      "32/32 [==============================] - 0s 2ms/step - loss: 2701.5977\n",
      "Epoch 11/100\n",
      "32/32 [==============================] - 0s 1ms/step - loss: 2704.0981\n",
      "Epoch 12/100\n",
      "32/32 [==============================] - 0s 2ms/step - loss: 2685.9602\n",
      "Epoch 13/100\n",
      "32/32 [==============================] - 0s 4ms/step - loss: 2677.3203\n",
      "Epoch 14/100\n",
      "32/32 [==============================] - 0s 2ms/step - loss: 2727.4814\n",
      "Epoch 15/100\n",
      "32/32 [==============================] - 0s 2ms/step - loss: 2749.1201\n",
      "Epoch 16/100\n",
      "32/32 [==============================] - 0s 2ms/step - loss: 2736.5974\n",
      "Epoch 17/100\n",
      "32/32 [==============================] - 0s 1ms/step - loss: 2693.4314\n",
      "Epoch 18/100\n",
      "32/32 [==============================] - 0s 2ms/step - loss: 2717.7859\n",
      "Epoch 19/100\n",
      "32/32 [==============================] - 0s 2ms/step - loss: 2716.2063\n",
      "Epoch 20/100\n",
      "32/32 [==============================] - 0s 2ms/step - loss: 2705.4348\n",
      "Epoch 21/100\n",
      "32/32 [==============================] - 0s 1ms/step - loss: 2698.4985\n",
      "Epoch 22/100\n",
      "32/32 [==============================] - 0s 2ms/step - loss: 2672.6213\n",
      "Epoch 23/100\n",
      "32/32 [==============================] - 0s 4ms/step - loss: 2686.1570\n",
      "Epoch 24/100\n",
      "32/32 [==============================] - 0s 1ms/step - loss: 2691.4250\n",
      "Epoch 25/100\n",
      "32/32 [==============================] - 0s 1ms/step - loss: 2672.9885\n",
      "Epoch 26/100\n",
      "32/32 [==============================] - 0s 1ms/step - loss: 2671.4348\n",
      "Epoch 27/100\n",
      "32/32 [==============================] - 0s 1ms/step - loss: 2677.0881\n",
      "Epoch 28/100\n",
      "32/32 [==============================] - 0s 2ms/step - loss: 2688.9314\n",
      "Epoch 29/100\n",
      "32/32 [==============================] - 0s 2ms/step - loss: 2684.1296\n",
      "Epoch 30/100\n",
      "32/32 [==============================] - 0s 2ms/step - loss: 2658.2439\n",
      "Epoch 31/100\n",
      "32/32 [==============================] - 0s 1ms/step - loss: 2673.4424\n",
      "Epoch 32/100\n",
      "32/32 [==============================] - 0s 2ms/step - loss: 2722.1709\n",
      "Epoch 33/100\n",
      "32/32 [==============================] - 0s 2ms/step - loss: 2690.8042\n",
      "Epoch 34/100\n",
      "32/32 [==============================] - 0s 1ms/step - loss: 2682.9341\n",
      "Epoch 35/100\n",
      "32/32 [==============================] - 0s 1ms/step - loss: 2675.9956\n",
      "Epoch 36/100\n",
      "32/32 [==============================] - 0s 1ms/step - loss: 2696.0789\n",
      "Epoch 37/100\n",
      "32/32 [==============================] - 0s 2ms/step - loss: 2715.2207\n",
      "Epoch 38/100\n",
      "32/32 [==============================] - 0s 1ms/step - loss: 2695.3674\n",
      "Epoch 39/100\n",
      "32/32 [==============================] - 0s 1ms/step - loss: 2681.5740\n",
      "Epoch 40/100\n",
      "32/32 [==============================] - 0s 2ms/step - loss: 2720.6919\n",
      "Epoch 41/100\n",
      "32/32 [==============================] - 0s 1ms/step - loss: 2721.2268\n",
      "Epoch 42/100\n",
      "32/32 [==============================] - 0s 1ms/step - loss: 2675.5320\n",
      "Epoch 43/100\n",
      "32/32 [==============================] - 0s 2ms/step - loss: 2687.3364\n",
      "Epoch 44/100\n",
      "32/32 [==============================] - 0s 2ms/step - loss: 2698.3164\n",
      "Epoch 45/100\n",
      "32/32 [==============================] - 0s 2ms/step - loss: 2663.3904\n",
      "Epoch 46/100\n",
      "32/32 [==============================] - 0s 5ms/step - loss: 2678.1831\n",
      "Epoch 47/100\n",
      "32/32 [==============================] - 0s 1ms/step - loss: 2685.5762\n",
      "Epoch 48/100\n",
      "32/32 [==============================] - 0s 3ms/step - loss: 2678.2971\n",
      "Epoch 49/100\n",
      "32/32 [==============================] - 0s 2ms/step - loss: 2684.8408\n",
      "Epoch 50/100\n",
      "32/32 [==============================] - 0s 1ms/step - loss: 2672.9395\n",
      "Epoch 51/100\n",
      "32/32 [==============================] - 0s 2ms/step - loss: 2676.1794\n",
      "Epoch 52/100\n",
      "32/32 [==============================] - 0s 2ms/step - loss: 2683.8750\n",
      "Epoch 53/100\n",
      "32/32 [==============================] - 0s 1ms/step - loss: 2691.5132\n",
      "Epoch 54/100\n",
      "32/32 [==============================] - 0s 2ms/step - loss: 2670.1384\n",
      "Epoch 55/100\n",
      "32/32 [==============================] - 0s 2ms/step - loss: 2692.0742\n",
      "Epoch 56/100\n",
      "32/32 [==============================] - 0s 2ms/step - loss: 2688.6011\n",
      "Epoch 57/100\n",
      "32/32 [==============================] - 0s 2ms/step - loss: 2676.6599\n",
      "Epoch 58/100\n",
      "32/32 [==============================] - 0s 1ms/step - loss: 2677.1919\n",
      "Epoch 59/100\n",
      "32/32 [==============================] - 0s 1ms/step - loss: 2678.6167\n",
      "Epoch 60/100\n",
      "32/32 [==============================] - 0s 1ms/step - loss: 2675.5396\n",
      "Epoch 61/100\n",
      "32/32 [==============================] - 0s 2ms/step - loss: 2661.6074\n",
      "Epoch 62/100\n",
      "32/32 [==============================] - 0s 2ms/step - loss: 2656.6648\n",
      "Epoch 63/100\n",
      "32/32 [==============================] - 0s 1ms/step - loss: 2666.7805\n",
      "Epoch 64/100\n",
      "32/32 [==============================] - 0s 1ms/step - loss: 2660.3428\n",
      "Epoch 65/100\n",
      "32/32 [==============================] - 0s 1ms/step - loss: 2677.7915\n",
      "Epoch 66/100\n",
      "32/32 [==============================] - 0s 2ms/step - loss: 2659.3186\n",
      "Epoch 67/100\n",
      "32/32 [==============================] - 0s 2ms/step - loss: 2678.2283\n",
      "Epoch 68/100\n",
      "32/32 [==============================] - 0s 1ms/step - loss: 2658.1736\n",
      "Epoch 69/100\n",
      "32/32 [==============================] - 0s 1ms/step - loss: 2676.8079\n",
      "Epoch 70/100\n",
      "32/32 [==============================] - 0s 1ms/step - loss: 2708.6897\n",
      "Epoch 71/100\n",
      "32/32 [==============================] - 0s 1ms/step - loss: 2713.1924\n",
      "Epoch 72/100\n",
      "32/32 [==============================] - 0s 1ms/step - loss: 2682.3030\n",
      "Epoch 73/100\n",
      "32/32 [==============================] - 0s 1ms/step - loss: 2689.9226\n",
      "Epoch 74/100\n",
      "32/32 [==============================] - 0s 2ms/step - loss: 2672.5239\n",
      "Epoch 75/100\n",
      "32/32 [==============================] - 0s 1ms/step - loss: 2679.8889\n",
      "Epoch 76/100\n",
      "32/32 [==============================] - 0s 2ms/step - loss: 2734.1262\n",
      "Epoch 77/100\n",
      "32/32 [==============================] - 0s 3ms/step - loss: 2687.3191\n",
      "Epoch 78/100\n",
      "32/32 [==============================] - 0s 2ms/step - loss: 2681.4192\n",
      "Epoch 79/100\n",
      "32/32 [==============================] - 0s 2ms/step - loss: 2695.1003\n",
      "Epoch 80/100\n",
      "32/32 [==============================] - 0s 2ms/step - loss: 2677.5186\n",
      "Epoch 81/100\n",
      "32/32 [==============================] - 0s 2ms/step - loss: 2686.5598\n",
      "Epoch 82/100\n",
      "32/32 [==============================] - 0s 2ms/step - loss: 2666.9707\n",
      "Epoch 83/100\n",
      "32/32 [==============================] - 0s 1ms/step - loss: 2669.9126\n",
      "Epoch 84/100\n",
      "32/32 [==============================] - 0s 1ms/step - loss: 2681.8782\n",
      "Epoch 85/100\n",
      "32/32 [==============================] - 0s 1ms/step - loss: 2670.4524\n",
      "Epoch 86/100\n",
      "32/32 [==============================] - 0s 2ms/step - loss: 2667.9751\n",
      "Epoch 87/100\n",
      "32/32 [==============================] - 0s 2ms/step - loss: 2665.7390\n",
      "Epoch 88/100\n",
      "32/32 [==============================] - 0s 1ms/step - loss: 2698.6741\n",
      "Epoch 89/100\n",
      "32/32 [==============================] - 0s 2ms/step - loss: 2673.6653\n",
      "Epoch 90/100\n",
      "32/32 [==============================] - 0s 1ms/step - loss: 2691.9680\n",
      "Epoch 91/100\n",
      "32/32 [==============================] - 0s 2ms/step - loss: 2753.2937\n",
      "Epoch 92/100\n",
      "32/32 [==============================] - 0s 2ms/step - loss: 2717.6445\n",
      "Epoch 93/100\n",
      "32/32 [==============================] - 0s 2ms/step - loss: 2705.5342\n",
      "Epoch 94/100\n",
      "32/32 [==============================] - 0s 2ms/step - loss: 2725.3013\n",
      "Epoch 95/100\n",
      "32/32 [==============================] - 0s 1ms/step - loss: 2679.6821\n",
      "Epoch 96/100\n",
      "32/32 [==============================] - 0s 2ms/step - loss: 2690.4631\n",
      "Epoch 97/100\n",
      "32/32 [==============================] - 0s 2ms/step - loss: 2682.0996\n",
      "Epoch 98/100\n"
     ]
    },
    {
     "name": "stdout",
     "output_type": "stream",
     "text": [
      "32/32 [==============================] - 0s 1ms/step - loss: 2692.2329\n",
      "Epoch 99/100\n",
      "32/32 [==============================] - 0s 1ms/step - loss: 2728.0627\n",
      "Epoch 100/100\n",
      "32/32 [==============================] - 0s 2ms/step - loss: 2707.5667\n"
     ]
    }
   ],
   "source": [
    "history = model.fit(x=dataset[:,0], y=dataset[:,1], epochs=100)"
   ]
  },
  {
   "cell_type": "code",
   "execution_count": 44,
   "id": "included-software",
   "metadata": {},
   "outputs": [],
   "source": [
    "def print_predictions(model, x, y):\n",
    "    y_pred = model.predict(x)\n",
    "    for x_, y_, y_p in zip(x, y, y_pred):\n",
    "        print('x: ', np.round(x_,2), '  y: ', np.round(y_,2), '  y_pred: ', np.round(y_p[0],2))"
   ]
  },
  {
   "cell_type": "code",
   "execution_count": 45,
   "id": "animal-customs",
   "metadata": {},
   "outputs": [
    {
     "name": "stdout",
     "output_type": "stream",
     "text": [
      "x:  0.38   y:  -25.9   y_pred:  8.03\n",
      "x:  0.48   y:  82.06   y_pred:  15.64\n",
      "x:  0.82   y:  20.74   y_pred:  -18.78\n",
      "x:  -0.94   y:  6.43   y_pred:  -30.37\n",
      "x:  -0.48   y:  -79.8   y_pred:  -2.13\n",
      "x:  -0.5   y:  23.32   y_pred:  3.9\n",
      "x:  -0.78   y:  -38.19   y_pred:  -15.65\n",
      "x:  0.74   y:  48.16   y_pred:  -27.71\n",
      "x:  0.24   y:  98.05   y_pred:  31.99\n",
      "x:  0.68   y:  70.85   y_pred:  28.4\n"
     ]
    }
   ],
   "source": [
    "print_predictions(model, dataset[:10,0], dataset[:10,1])"
   ]
  },
  {
   "cell_type": "markdown",
   "id": "brown-korean",
   "metadata": {},
   "source": [
    "### The model is slow at convergence. I believe this is because mapping from x to y is random. Mapping from x to y was determined arbitrary, via stochastic process, so there is no pattern to discover. And therefore the network rather than trying to parametrise some underlying function which explains the data, it will have to basically find such set of weights which will allow it to output N individuall mappings from x to y. This is very difficult as rather than indetyfing a single function you kind of try to represent N functions (mappings). \n",
    "\n",
    "* there is no pattern to discover (main problem)\n",
    "* data is ambigious i.e. one to many mapping (i.e. not a function) (secondary problem)\n",
    "\n",
    "**Next step:** simplify the problem by making data follow some pattern (a sinusoid). By modfying period of sinusoid we can determine whether it is a **one-to-one** or **one-to-many** mapping"
   ]
  },
  {
   "cell_type": "markdown",
   "id": "brutal-perth",
   "metadata": {},
   "source": [
    "# Simplified dataset"
   ]
  },
  {
   "cell_type": "code",
   "execution_count": 91,
   "id": "sound-examination",
   "metadata": {},
   "outputs": [],
   "source": [
    "def train_and_plot(period=2, n=1000, epochs=50, loss=\"mean_squared_error\", num_heads=1, verbose=0):\n",
    "   \n",
    "    # DATASET\n",
    "    print('Generating dataset ...')\n",
    "    y = np.linspace(-1, 1, n)\n",
    "    x = 7 * np.sin(period * y) + 0.5 * y + 0.5 * np.random.randn(*y.shape)\n",
    "    \n",
    "    # TRAIN MODEL\n",
    "    adam = tf.keras.optimizers.Adam(learning_rate=0.01)\n",
    "    if num_heads == 1:\n",
    "        model = simple_model()\n",
    "        print('Training SIMPLE model ...')\n",
    "    else: \n",
    "        model = multiple_heads_model(num_heads)\n",
    "        print('Training MANY HEADS model ...')\n",
    "    model.compile(optimizer=adam, loss=loss)\n",
    "    model.fit(x,y, epochs=epochs, verbose=verbose)\n",
    "    \n",
    "    # PLOT\n",
    "    print('Making predictions ...')\n",
    "    y_pred = model.predict(x)\n",
    "    plt.plot(x,y, label='true')\n",
    "    plt.plot(x,y_pred, label='pred')\n",
    "    plt.legend()\n",
    "    plt.show()"
   ]
  },
  {
   "cell_type": "markdown",
   "id": "specified-appendix",
   "metadata": {},
   "source": [
    "## one-to-one mapping"
   ]
  },
  {
   "cell_type": "code",
   "execution_count": 61,
   "id": "grateful-adult",
   "metadata": {},
   "outputs": [
    {
     "name": "stdout",
     "output_type": "stream",
     "text": [
      "Generating dataset ...\n",
      "Training model ...\n",
      "Making predictions ...\n"
     ]
    },
    {
     "data": {
      "image/png": "[encoded data removed]",
      "text/plain": [
       "<Figure size 432x288 with 1 Axes>"
      ]
     },
     "metadata": {
      "needs_background": "light"
     },
     "output_type": "display_data"
    }
   ],
   "source": [
    "train_and_plot(period=2, n=1000, epochs=50)"
   ]
  },
  {
   "cell_type": "markdown",
   "id": "fatty-means",
   "metadata": {},
   "source": [
    "## one-to-many mapping"
   ]
  },
  {
   "cell_type": "code",
   "execution_count": 62,
   "id": "identical-commerce",
   "metadata": {},
   "outputs": [
    {
     "name": "stdout",
     "output_type": "stream",
     "text": [
      "Generating dataset ...\n",
      "Training model ...\n",
      "Making predictions ...\n"
     ]
    },
    {
     "data": {
      "image/png": "[encoded data removed]",
      "text/plain": [
       "<Figure size 432x288 with 1 Axes>"
      ]
     },
     "metadata": {
      "needs_background": "light"
     },
     "output_type": "display_data"
    }
   ],
   "source": [
    "train_and_plot(period=5, n=1000, epochs=50)"
   ]
  },
  {
   "cell_type": "markdown",
   "id": "handled-tutorial",
   "metadata": {},
   "source": [
    "**OBSERVATIONS:** When data is ambigious (x-y has one-to many mapping) the model struggles to make sensible predictions."
   ]
  },
  {
   "cell_type": "markdown",
   "id": "southwest-poetry",
   "metadata": {},
   "source": [
    "# Could my loss function help fix this model?"
   ]
  },
  {
   "cell_type": "markdown",
   "id": "detailed-racing",
   "metadata": {},
   "source": [
    "- It won't help in regression, but may help in classification.\n",
    "\n",
    "- It won't help in regression, because, in case of one-to-many mapping in the dataset, regression model will output an average between those answers as this minimises the Squared Error. \n",
    "\n",
    "- In classification, however, model has to point to some answer -> max(softmax), thus it will have to choose to point to one or another output (can't average the two).\n",
    "\n",
    "- thus my loss function could help in classification. \n",
    "\n",
    "- Also if we changed loss function from MSE to MAE maybe my loss could also help in regression, as in MSA for ambigious inputs (1 to 2 mapping) any answer that lies between two outputs (including on the spot of the output) will generate the same error. For 1 to 3 mapping, the network should choose the output in the middle to minimise MAE. \n",
    "\n",
    "**Next steps:**\n",
    "* see what heppens when we use MSA instead of MSE in regression\n",
    "* modify the dataset for y to belong to one of 100 categories (discretise it). and apply a softmax function over these 100 categories rather than a MSE\n",
    "\n"
   ]
  },
  {
   "cell_type": "markdown",
   "id": "after-transportation",
   "metadata": {},
   "source": [
    "## using MAE instead of MSE"
   ]
  },
  {
   "cell_type": "code",
   "execution_count": 110,
   "id": "premier-klein",
   "metadata": {},
   "outputs": [
    {
     "name": "stdout",
     "output_type": "stream",
     "text": [
      "Generating dataset ...\n",
      "Training SIMPLE model ...\n",
      "Epoch 1/50\n",
      "32/32 [==============================] - 0s 2ms/step - loss: 0.5804\n",
      "Epoch 2/50\n",
      "32/32 [==============================] - 0s 2ms/step - loss: 0.4787\n",
      "Epoch 3/50\n",
      "32/32 [==============================] - 0s 2ms/step - loss: 0.4692\n",
      "Epoch 4/50\n",
      "32/32 [==============================] - 0s 2ms/step - loss: 0.4695\n",
      "Epoch 5/50\n",
      "32/32 [==============================] - 0s 2ms/step - loss: 0.4677\n",
      "Epoch 6/50\n",
      "32/32 [==============================] - 0s 2ms/step - loss: 0.4669\n",
      "Epoch 7/50\n",
      "32/32 [==============================] - 0s 2ms/step - loss: 0.4689\n",
      "Epoch 8/50\n",
      "32/32 [==============================] - 0s 2ms/step - loss: 0.4655\n",
      "Epoch 9/50\n",
      "32/32 [==============================] - 0s 3ms/step - loss: 0.4674\n",
      "Epoch 10/50\n",
      "32/32 [==============================] - 0s 2ms/step - loss: 0.4661\n",
      "Epoch 11/50\n",
      "32/32 [==============================] - 0s 1ms/step - loss: 0.4675\n",
      "Epoch 12/50\n",
      "32/32 [==============================] - 0s 4ms/step - loss: 0.4663\n",
      "Epoch 13/50\n",
      "32/32 [==============================] - 0s 3ms/step - loss: 0.4672\n",
      "Epoch 14/50\n",
      "32/32 [==============================] - 0s 2ms/step - loss: 0.4692\n",
      "Epoch 15/50\n",
      "32/32 [==============================] - 0s 1ms/step - loss: 0.4670\n",
      "Epoch 16/50\n",
      "32/32 [==============================] - 0s 3ms/step - loss: 0.4679\n",
      "Epoch 17/50\n",
      "32/32 [==============================] - 0s 1ms/step - loss: 0.4678\n",
      "Epoch 18/50\n",
      "32/32 [==============================] - 0s 2ms/step - loss: 0.4687\n",
      "Epoch 19/50\n",
      "32/32 [==============================] - 0s 1ms/step - loss: 0.4659\n",
      "Epoch 20/50\n",
      "32/32 [==============================] - 0s 1ms/step - loss: 0.4676\n",
      "Epoch 21/50\n",
      "32/32 [==============================] - 0s 1ms/step - loss: 0.4667\n",
      "Epoch 22/50\n",
      "32/32 [==============================] - 0s 1ms/step - loss: 0.4665\n",
      "Epoch 23/50\n",
      "32/32 [==============================] - 0s 1ms/step - loss: 0.4652\n",
      "Epoch 24/50\n",
      "32/32 [==============================] - 0s 1ms/step - loss: 0.4654\n",
      "Epoch 25/50\n",
      "32/32 [==============================] - 0s 1ms/step - loss: 0.4688\n",
      "Epoch 26/50\n",
      "32/32 [==============================] - 0s 1ms/step - loss: 0.4671\n",
      "Epoch 27/50\n",
      "32/32 [==============================] - 0s 2ms/step - loss: 0.4720\n",
      "Epoch 28/50\n",
      "32/32 [==============================] - 0s 2ms/step - loss: 0.4715\n",
      "Epoch 29/50\n",
      "32/32 [==============================] - 0s 2ms/step - loss: 0.4666\n",
      "Epoch 30/50\n",
      "32/32 [==============================] - 0s 2ms/step - loss: 0.4676\n",
      "Epoch 31/50\n",
      "32/32 [==============================] - 0s 2ms/step - loss: 0.4665\n",
      "Epoch 32/50\n",
      "32/32 [==============================] - 0s 3ms/step - loss: 0.4666\n",
      "Epoch 33/50\n",
      "32/32 [==============================] - 0s 3ms/step - loss: 0.4655\n",
      "Epoch 34/50\n",
      "32/32 [==============================] - 0s 2ms/step - loss: 0.4654\n",
      "Epoch 35/50\n",
      "32/32 [==============================] - 0s 2ms/step - loss: 0.4659\n",
      "Epoch 36/50\n",
      "32/32 [==============================] - 0s 3ms/step - loss: 0.4675\n",
      "Epoch 37/50\n",
      "32/32 [==============================] - 0s 1ms/step - loss: 0.4652\n",
      "Epoch 38/50\n",
      "32/32 [==============================] - 0s 1ms/step - loss: 0.4674\n",
      "Epoch 39/50\n",
      "32/32 [==============================] - 0s 1ms/step - loss: 0.4656\n",
      "Epoch 40/50\n",
      "32/32 [==============================] - 0s 2ms/step - loss: 0.4667\n",
      "Epoch 41/50\n",
      "32/32 [==============================] - 0s 2ms/step - loss: 0.4678\n",
      "Epoch 42/50\n",
      "32/32 [==============================] - 0s 1ms/step - loss: 0.4674\n",
      "Epoch 43/50\n",
      "32/32 [==============================] - 0s 1ms/step - loss: 0.4669\n",
      "Epoch 44/50\n",
      "32/32 [==============================] - 0s 2ms/step - loss: 0.4646\n",
      "Epoch 45/50\n",
      "32/32 [==============================] - 0s 1ms/step - loss: 0.4650\n",
      "Epoch 46/50\n",
      "32/32 [==============================] - 0s 1ms/step - loss: 0.4653\n",
      "Epoch 47/50\n",
      "32/32 [==============================] - 0s 1ms/step - loss: 0.4689\n",
      "Epoch 48/50\n",
      "32/32 [==============================] - 0s 2ms/step - loss: 0.4657\n",
      "Epoch 49/50\n",
      "32/32 [==============================] - 0s 2ms/step - loss: 0.4663\n",
      "Epoch 50/50\n",
      "32/32 [==============================] - 0s 2ms/step - loss: 0.4645\n",
      "Making predictions ...\n"
     ]
    },
    {
     "data": {
      "image/png": "[encoded data removed]",
      "text/plain": [
       "<Figure size 432x288 with 1 Axes>"
      ]
     },
     "metadata": {
      "needs_background": "light"
     },
     "output_type": "display_data"
    }
   ],
   "source": [
    "train_and_plot(period=5, n=1000, epochs=50, loss=\"mean_absolute_error\", verbose=1)"
   ]
  },
  {
   "cell_type": "markdown",
   "id": "massive-myrtle",
   "metadata": {},
   "source": [
    "**OBSERVATIONS:** Here we can see that there is 1-to-3 mapping (x-to-3 ys) for most x points. MSA is minimised by choosing the middle point. We could potentially use **my loss function** with two extra heads where we want to maximise KL divergence with the first head. **We Hypothesise** that objectives of mnimising MAE and maximising KL-divergence with first head will result in network picking up the two alternative solutions with the two extra heads."
   ]
  },
  {
   "cell_type": "code",
   "execution_count": 182,
   "id": "decimal-chess",
   "metadata": {},
   "outputs": [],
   "source": [
    "def multiple_heads_model(num_heads):\n",
    "    input_ = layers.Input(shape=(1))\n",
    "    x = layers.Dense(100, activation='relu')(input_)\n",
    "    x = layers.Dense(100, activation='relu')(x)\n",
    "    heads = []\n",
    "    for i in range(num_heads):\n",
    "        if i == 0:\n",
    "            head = x\n",
    "        else:\n",
    "            head = tf.stop_gradient(x)\n",
    "        head = layers.Dense(50, activation='relu')(head)    \n",
    "        head = layers.Dense(50, activation='relu')(head)\n",
    "        y = layers.Dense(1)(head)\n",
    "        heads.append(y)\n",
    "\n",
    "    y = layers.Concatenate()(heads)\n",
    "    model = Model(inputs = input_, outputs = y)\n",
    "    return model"
   ]
  },
  {
   "cell_type": "code",
   "execution_count": 190,
   "id": "indoor-trinity",
   "metadata": {},
   "outputs": [],
   "source": [
    "def MAE_with_extra_heads(weights={'mae':1, 'kl': 1}, num_heads=3):\n",
    "    weights_total = weights['mae'] + weights['kl']\n",
    "    mae_weight = weights['mae'] / weights_total\n",
    "    kl_weight = weights['kl'] / weights_total\n",
    "    \n",
    "    def custom_loss(y_true, y_pred):\n",
    "        \n",
    "        # MAE\n",
    "        mae_loss_total = 0\n",
    "        for i in range(num_heads):\n",
    "            mae_loss = tf.keras.losses.MeanAbsoluteError()(y_true, y_pred[:,i])\n",
    "            mae_loss_total += mae_loss\n",
    "            \n",
    "        # KL-div losses\n",
    "        kl_div_loss_total = 0\n",
    "        for i in range(num_heads):\n",
    "            for j in range(i):\n",
    "                kl_div_loss = tf.keras.losses.KLDivergence()(tf.stop_gradient(y_pred[:,j]), y_pred[:,i])\n",
    "#                 kl_div_loss = tf.keras.losses.MeanAbsoluteError()(tf.stop_gradient(y_pred[:,j]), y_pred[:,i])\n",
    "                if i != 2:\n",
    "                    kl_div_loss_total += kl_div_loss\n",
    "                    \n",
    "                else:\n",
    "                    kl_div_loss_total += 0.5 * kl_div_loss\n",
    "                    \n",
    "        loss_total = mae_weight * mae_loss_total - kl_weight * kl_div_loss_total\n",
    "\n",
    "        return loss_total\n",
    "    \n",
    "    return custom_loss"
   ]
  },
  {
   "cell_type": "code",
   "execution_count": 196,
   "id": "resident-geology",
   "metadata": {},
   "outputs": [
    {
     "name": "stdout",
     "output_type": "stream",
     "text": [
      "Generating dataset ...\n",
      "Training MANY HEADS model ...\n",
      "Epoch 1/40\n",
      "32/32 [==============================] - 0s 3ms/step - loss: -4.1096\n",
      "Epoch 2/40\n",
      "32/32 [==============================] - 0s 3ms/step - loss: -1.7476\n",
      "Epoch 3/40\n",
      "32/32 [==============================] - 0s 5ms/step - loss: -2.6030\n",
      "Epoch 4/40\n",
      "32/32 [==============================] - 0s 5ms/step - loss: -3.2609\n",
      "Epoch 5/40\n",
      "32/32 [==============================] - 0s 4ms/step - loss: -3.3460\n",
      "Epoch 6/40\n",
      "32/32 [==============================] - 0s 5ms/step - loss: -3.0853\n",
      "Epoch 7/40\n",
      "32/32 [==============================] - 0s 5ms/step - loss: -2.9659\n",
      "Epoch 8/40\n",
      "32/32 [==============================] - 0s 4ms/step - loss: -3.1024\n",
      "Epoch 9/40\n",
      "32/32 [==============================] - 0s 4ms/step - loss: -3.2673\n",
      "Epoch 10/40\n",
      "32/32 [==============================] - 0s 3ms/step - loss: -2.7855\n",
      "Epoch 11/40\n",
      "32/32 [==============================] - 0s 6ms/step - loss: -2.8263\n",
      "Epoch 12/40\n",
      "32/32 [==============================] - 0s 6ms/step - loss: -3.5540\n",
      "Epoch 13/40\n",
      "32/32 [==============================] - 0s 5ms/step - loss: -3.3420\n",
      "Epoch 14/40\n",
      "32/32 [==============================] - 0s 4ms/step - loss: -2.8663\n",
      "Epoch 15/40\n",
      "32/32 [==============================] - 0s 4ms/step - loss: -3.3499\n",
      "Epoch 16/40\n",
      "32/32 [==============================] - 0s 3ms/step - loss: -3.2371\n",
      "Epoch 17/40\n",
      "32/32 [==============================] - 0s 3ms/step - loss: -3.4643\n",
      "Epoch 18/40\n",
      "32/32 [==============================] - 0s 5ms/step - loss: -2.8903\n",
      "Epoch 19/40\n",
      "32/32 [==============================] - 0s 4ms/step - loss: -3.1672\n",
      "Epoch 20/40\n",
      "32/32 [==============================] - 0s 4ms/step - loss: -3.0874\n",
      "Epoch 21/40\n",
      "32/32 [==============================] - 0s 5ms/step - loss: -3.6007\n",
      "Epoch 22/40\n",
      "32/32 [==============================] - 0s 4ms/step - loss: -3.2427\n",
      "Epoch 23/40\n",
      "32/32 [==============================] - 0s 5ms/step - loss: -3.2067\n",
      "Epoch 24/40\n",
      "32/32 [==============================] - 0s 5ms/step - loss: -2.9017\n",
      "Epoch 25/40\n",
      "32/32 [==============================] - 0s 5ms/step - loss: -2.5578\n",
      "Epoch 26/40\n",
      "32/32 [==============================] - 0s 4ms/step - loss: -3.2573\n",
      "Epoch 27/40\n",
      "32/32 [==============================] - 0s 4ms/step - loss: -3.1424\n",
      "Epoch 28/40\n",
      "32/32 [==============================] - 0s 4ms/step - loss: -2.9330\n",
      "Epoch 29/40\n",
      "32/32 [==============================] - 0s 4ms/step - loss: -3.2796\n",
      "Epoch 30/40\n",
      "32/32 [==============================] - 0s 6ms/step - loss: -3.3477\n",
      "Epoch 31/40\n",
      "32/32 [==============================] - 0s 4ms/step - loss: -2.8426\n",
      "Epoch 32/40\n",
      "32/32 [==============================] - 0s 4ms/step - loss: -3.4035\n",
      "Epoch 33/40\n",
      "32/32 [==============================] - 0s 5ms/step - loss: -3.4228\n",
      "Epoch 34/40\n",
      "32/32 [==============================] - 0s 4ms/step - loss: -3.4801\n",
      "Epoch 35/40\n",
      "32/32 [==============================] - 0s 4ms/step - loss: -3.3801\n",
      "Epoch 36/40\n",
      "32/32 [==============================] - 0s 4ms/step - loss: -2.9046\n",
      "Epoch 37/40\n",
      "32/32 [==============================] - 0s 3ms/step - loss: -3.2118\n",
      "Epoch 38/40\n",
      "32/32 [==============================] - 0s 4ms/step - loss: -2.8319\n",
      "Epoch 39/40\n",
      "32/32 [==============================] - 0s 5ms/step - loss: -3.6002\n",
      "Epoch 40/40\n",
      "32/32 [==============================] - 0s 3ms/step - loss: -3.3945\n",
      "Making predictions ...\n"
     ]
    },
    {
     "data": {
      "image/png": "[encoded data removed]",
      "text/plain": [
       "<Figure size 432x288 with 1 Axes>"
      ]
     },
     "metadata": {
      "needs_background": "light"
     },
     "output_type": "display_data"
    }
   ],
   "source": [
    "num_heads = 3\n",
    "custom_loss = MAE_with_extra_heads(weights={'mae': 1, 'kl': 0.1}, num_heads=num_heads)\n",
    "\n",
    "train_and_plot(period=5, n=1000, epochs=40, loss=custom_loss, num_heads=num_heads, verbose=1)"
   ]
  },
  {
   "cell_type": "markdown",
   "id": "north-feature",
   "metadata": {},
   "source": [
    "**KL divergence doesn't seem like right measure of distance between non-distributions.** We can observe that the optimisation only separates the positive part of x-axis. I'm not sure whether it makes sense to compute KL-div for negative numbers, probably doesn't as in KL you have a log term..."
   ]
  },
  {
   "cell_type": "markdown",
   "id": "textile-colleague",
   "metadata": {},
   "source": [
    "**Alternative distance measure:** We could use some alternative distance measure between each output head. However it has to be somehow connected to the original MAE with the ground truth. As otherwise the objective to maximise MAE(y_1,y_2) will shoot to infinity.\n",
    "\n",
    "**How do you stop the distance metric from exploading?** Obviously if you try to maximise separation between two numbers they will just indeterminately keep moving away from each other. It would have to be something like: **\"keep moving away from 1st output head until you find a location along y where the gardient of loss increases, stop there\"**.\n",
    "\n",
    "MAE loss function for this problem is fully convex (see sketch in my notes). two alternative solutions could be found only if we were able to identify where does the gradient increases.\n",
    "\n",
    "### just because this MAE problem is properlly convex - we can't find two alternative solutions with my method (where we somehow maximise distance between output heads). \n",
    "\n",
    "### If the primary loss function had multiple local minima, maybe it would be possible to find this sub-optimal neighbouring local minima - but for that, after entering the convex region of that sub-optima the gradient of primary loss function would have to be greater than that of loss responsible for ditance between output heads."
   ]
  },
  {
   "cell_type": "markdown",
   "id": "weekly-tourist",
   "metadata": {},
   "source": [
    "# ad-hoc MDN\n",
    "\n",
    "We know that there are 3 y outputs for each x. Let's make the model to predict all 3 y's ! While the dataset only has pairs."
   ]
  },
  {
   "cell_type": "code",
   "execution_count": null,
   "id": "raising-lecture",
   "metadata": {},
   "outputs": [],
   "source": [
    "def predict_3_Ys_model():\n",
    "    input_ = layers.Input(shape=(1))\n",
    "    x = layers.Dense(100, activation='relu')(input_)\n",
    "    x = layers.Dense(100, activation='relu')(x)\n",
    "    heads = []\n",
    "    for i in range(num_heads):\n",
    "        if i == 0:\n",
    "            head = x\n",
    "        else:\n",
    "            head = tf.stop_gradient(x)\n",
    "        head = layers.Dense(50, activation='relu')(head)    \n",
    "        head = layers.Dense(50, activation='relu')(head)\n",
    "        y = layers.Dense(1)(head)\n",
    "        heads.append(y)\n",
    "\n",
    "    y = layers.Concatenate()(heads)\n",
    "    model = Model(inputs = input_, outputs = y)\n",
    "    return model"
   ]
  },
  {
   "cell_type": "markdown",
   "id": "instructional-square",
   "metadata": {},
   "source": [
    "# Mixture Density Network (MDN)\n",
    "\n",
    "**Implement MDN such that it can identify 3 modes of mapping from x to y**"
   ]
  },
  {
   "cell_type": "code",
   "execution_count": null,
   "id": "pleased-europe",
   "metadata": {},
   "outputs": [],
   "source": []
  },
  {
   "cell_type": "code",
   "execution_count": null,
   "id": "electrical-mount",
   "metadata": {},
   "outputs": [],
   "source": []
  },
  {
   "cell_type": "code",
   "execution_count": null,
   "id": "objective-arctic",
   "metadata": {},
   "outputs": [],
   "source": []
  },
  {
   "cell_type": "code",
   "execution_count": null,
   "id": "planned-macintosh",
   "metadata": {},
   "outputs": [],
   "source": []
  },
  {
   "cell_type": "markdown",
   "id": "separated-richmond",
   "metadata": {},
   "source": [
    "# Create generative model (... work in progress)\n",
    "\n",
    "**Use generative model to identify 3 modes of mapping from x to y**"
   ]
  },
  {
   "cell_type": "markdown",
   "id": "second-accountability",
   "metadata": {},
   "source": [
    "\\begin{align}\n",
    "p(i,c,t,\\epsilon) & = p(i|c,\\epsilon)p(c|t)p(\\epsilon; \\sigma)p(t) \\\\\n",
    "p(t|i) & = \\frac{\\sum^C\\sum^{\\epsilon}{p(i,c,t,\\epsilon)}}{\\sum^T\\sum^C\\sum^{\\epsilon}{p(i,c,t,\\epsilon)}}\n",
    "\\end{align}"
   ]
  },
  {
   "cell_type": "markdown",
   "id": "missing-payroll",
   "metadata": {},
   "source": [
    "$p(t)=Uniform(-100,100)$ - prior, fully defined\n",
    "\n",
    "$p(\\epsilon; \\sigma) = N(0,\\epsilon) = N(0, 0.05)$ - prior, fully defined\n",
    "\n",
    "$p(c|t)$\n",
    "\n",
    "$p(i|c, \\epsilon) = N(i; \\mu(c), \\sigma) = N(i; \\mu(c), 0.05)$ - gaussian distirbution. Model parameters are $\\mu(.)$ for each cluster *c*."
   ]
  },
  {
   "cell_type": "code",
   "execution_count": null,
   "id": "approximate-knitting",
   "metadata": {},
   "outputs": [],
   "source": []
  }
 ],
 "metadata": {
  "kernelspec": {
   "display_name": "Python 3 loc",
   "language": "python",
   "name": "localication"
  },
  "language_info": {
   "codemirror_mode": {
    "name": "ipython",
    "version": 3
   },
   "file_extension": ".py",
   "mimetype": "text/x-python",
   "name": "python",
   "nbconvert_exporter": "python",
   "pygments_lexer": "ipython3",
   "version": "3.7.10"
  }
 },
 "nbformat": 4,
 "nbformat_minor": 5
}
