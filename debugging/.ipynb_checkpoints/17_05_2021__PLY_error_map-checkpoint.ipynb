{
 "cells": [
  {
   "cell_type": "code",
   "execution_count": 1,
   "id": "twelve-dream",
   "metadata": {},
   "outputs": [],
   "source": [
    "import numpy as np\n",
    "import json\n",
    "import matplotlib.pyplot as plt"
   ]
  },
  {
   "cell_type": "code",
   "execution_count": 2,
   "id": "compliant-accreditation",
   "metadata": {},
   "outputs": [],
   "source": [
    "# load dataset"
   ]
  },
  {
   "cell_type": "code",
   "execution_count": 3,
   "id": "intensive-bulgarian",
   "metadata": {},
   "outputs": [],
   "source": [
    "# load model\n",
    "# predict loal scene coords"
   ]
  },
  {
   "cell_type": "code",
   "execution_count": 4,
   "id": "short-exchange",
   "metadata": {},
   "outputs": [],
   "source": [
    "# unwhiten local scene coords -> get world scene coords"
   ]
  },
  {
   "cell_type": "code",
   "execution_count": 5,
   "id": "departmental-committee",
   "metadata": {},
   "outputs": [],
   "source": [
    "# save error images into a new directory\n",
    "# input image - error map"
   ]
  },
  {
   "cell_type": "code",
   "execution_count": 6,
   "id": "victorian-remark",
   "metadata": {},
   "outputs": [],
   "source": [
    "# get all predictions into a sinle ply file"
   ]
  },
  {
   "cell_type": "code",
   "execution_count": null,
   "id": "funded-commander",
   "metadata": {},
   "outputs": [],
   "source": [
    "# inspect where the model makes errors\n",
    "#   Q: what object categories does the model poorly predict on?\n",
    "#   Q: what parts of the building does it poorly predict on?\n",
    "#   Q: which cameras does the model predict worse on?\n",
    "#   Q: how does positioning of validation cameras affects error?\n",
    "#   Q: "
   ]
  }
 ],
 "metadata": {
  "kernelspec": {
   "display_name": "Python 3 loc",
   "language": "python",
   "name": "localication"
  },
  "language_info": {
   "codemirror_mode": {
    "name": "ipython",
    "version": 3
   },
   "file_extension": ".py",
   "mimetype": "text/x-python",
   "name": "python",
   "nbconvert_exporter": "python",
   "pygments_lexer": "ipython3",
   "version": "3.7.10"
  }
 },
 "nbformat": 4,
 "nbformat_minor": 5
}
