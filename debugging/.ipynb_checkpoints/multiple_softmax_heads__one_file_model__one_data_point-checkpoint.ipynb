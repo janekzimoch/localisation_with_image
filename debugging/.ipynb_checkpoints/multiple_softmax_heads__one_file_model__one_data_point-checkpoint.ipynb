{
 "cells": [
  {
   "cell_type": "code",
   "execution_count": 1,
   "id": "annual-album",
   "metadata": {},
   "outputs": [],
   "source": [
    "import os\n",
    "os.environ[\"CUDA_VISIBLE_DEVICES\"] = \"6\""
   ]
  },
  {
   "cell_type": "code",
   "execution_count": 2,
   "id": "agreed-front",
   "metadata": {},
   "outputs": [],
   "source": [
    "import tensorflow as tf\n",
    "import numpy as np\n",
    "import matplotlib.pyplot as plt\n",
    "import keras\n",
    "from mpl_toolkits.axes_grid1 import make_axes_locatable"
   ]
  },
  {
   "cell_type": "code",
   "execution_count": 3,
   "id": "closed-stuff",
   "metadata": {},
   "outputs": [],
   "source": [
    "code_dir = \"/home/mlmi-2020/jz522/localisation_from_image_project/code_reg_and_clas\"\n",
    "import os, sys\n",
    "if code_dir not in sys.path:\n",
    "    sys.path.append(code_dir)\n",
    "    \n",
    "from utilis.callbacks import Visualise_learning_reg_and_class"
   ]
  },
  {
   "cell_type": "markdown",
   "id": "level-belarus",
   "metadata": {},
   "source": [
    "# Data Generator"
   ]
  },
  {
   "cell_type": "code",
   "execution_count": 4,
   "id": "quality-mission",
   "metadata": {},
   "outputs": [],
   "source": [
    "class DataGenerator(keras.utils.Sequence):\n",
    "    \"\"\" Loads, downsamples, crops, and auguments images and labels \"\"\"\n",
    "    \n",
    "    def __init__(self, npz_file_IDs, batch_size=8, dim=(256,512), num_regions=20, shuffle=True, num_crops=1):\n",
    "\n",
    "        self.npz_file_IDs = npz_file_IDs\n",
    "        self.batch_size = batch_size\n",
    "        self.dim = dim\n",
    "        self.num_regions = num_regions\n",
    "        self.shuffle = shuffle\n",
    "        self.on_epoch_end()\n",
    "        self.num_crops = num_crops\n",
    "\n",
    "    \n",
    "    def on_epoch_end(self):\n",
    "        'Updates indexes after each epoch'\n",
    "        self.indexes = np.arange(len(self.npz_file_IDs))\n",
    "        if self.shuffle == True:\n",
    "            np.random.shuffle(self.indexes)\n",
    "            \n",
    "            \n",
    "    def load_data(self, npz_file_ID_temp):\n",
    "        \"\"\" Load .npz files with images and labels from self.room_dir \"\"\"\n",
    "        images = np.empty((self.batch_size, *self.dim, 3), dtype=np.float32)\n",
    "        local_scene_coords = np.empty((self.batch_size, *self.dim, 3), dtype=np.float32)\n",
    "        region_labels = np.empty((self.batch_size, *self.dim, 1), dtype=np.float32)\n",
    "        masks = np.empty((self.batch_size, *self.dim, 1), dtype=np.int16)\n",
    "\n",
    "        for i, ID in enumerate(npz_file_ID_temp):\n",
    "            npz_data = np.load(ID)\n",
    "            \n",
    "            images[i] = npz_data['image_colors']\n",
    "            local_scene_coords[i] = npz_data['local_scene_coords']\n",
    "            region_labels[i] = np.expand_dims(npz_data['points_region_class'], axis=-1)\n",
    "            masks[i] = np.expand_dims(npz_data['mask'], axis=-1).astype(int)\n",
    "\n",
    "        return images, local_scene_coords, region_labels, masks\n",
    "\n",
    "    \n",
    "    def crop(self, data, start_row, start_col, data_depth):\n",
    "        \"\"\" Images are equirectangular (360 projected onto a rectangle).\n",
    "        Therefore we have to allow for all possibe crops, including these that run across the right image edge. \"\"\"\n",
    "\n",
    "        data_croped = np.zeros((self.batch_size, 224, 224, data_depth))\n",
    "\n",
    "        for ind in range(self.batch_size):\n",
    "\n",
    "            if start_col[ind] + 224 > 512:\n",
    "                dif = start_col[ind] + 224 - 512\n",
    "                wraped_data = data[ind, start_row[ind]:start_row[ind]+224, :dif,:]\n",
    "                \n",
    "                data_croped[ind] = np.concatenate(\n",
    "                    (data[ind, start_row[ind]:start_row[ind]+224, start_col[ind]:start_col[ind]+224,:], \n",
    "                        wraped_data), axis=1)\n",
    "                               \n",
    "            else:\n",
    "                data_croped[ind] = data[ind, start_row[ind]:start_row[ind]+224, start_col[ind]:start_col[ind]+224,:]\n",
    "\n",
    "        return data_croped\n",
    "    \n",
    "    \n",
    "    def get_crops(self, images, coords, regions, mask):\n",
    "        \n",
    "        # pick the start cordinates of croped images\n",
    "        start_row = [0] \n",
    "#         start_row = np.random.randint(0, high=self.dim[0]-224, size=self.batch_size)\n",
    "        start_col = [50]\n",
    "#         start_col = np.random.randint(0, high=self.dim[1], size=self.batch_size)\n",
    "        \n",
    "        image_crops = self.crop(images, start_row, start_col, data_depth=3)\n",
    "        coords_crops = self.crop(coords, start_row, start_col, data_depth=3)\n",
    "        region_crops = self.crop(regions, start_row, start_col, data_depth=1)\n",
    "        mask_crops = self.crop(mask, start_row, start_col, data_depth=1)\n",
    "        \n",
    "        return image_crops, coords_crops, region_crops, mask_crops\n",
    "    \n",
    "    \n",
    "    def __len__(self):\n",
    "        'Denotes the number of batches per epoch'\n",
    "        return int(np.floor(len(self.npz_file_IDs) / self.batch_size))\n",
    "    \n",
    "     \n",
    "    def __getitem__(self, index):\n",
    "        'Generate one batch of data'\n",
    "        # Generate indexes of the batch\n",
    "        indexes = self.indexes[index*self.batch_size:(index+1)*self.batch_size]\n",
    "\n",
    "        # Find list of IDs\n",
    "        list_IDs_temp = [self.npz_file_IDs[k] for k in indexes]\n",
    "\n",
    "        # load\n",
    "        images, local_scene_coords, region_labels, masks = self.load_data(list_IDs_temp)\n",
    "\n",
    "        # crop\n",
    "        images, local_scene_coords, region_labels, masks = self.get_crops(images, local_scene_coords, region_labels, masks)\n",
    "\n",
    "        \n",
    "        # one-hot encode labels\n",
    "#         region_labels = (np.arange(self.num_regions) == region_labels[:,:,:,0][...,None]).astype(int)\n",
    "\n",
    "\n",
    "        # expand dimension of mask\n",
    "        nested_masks = [masks for _ in range(3)]\n",
    "        mask_expanded = np.concatenate(nested_masks, axis=-1)\n",
    "\n",
    "        # apply mask to 3D coords ground truth data\n",
    "        local_scene_coords = local_scene_coords * mask_expanded\n",
    "                               \n",
    "        # coccatenate to images\n",
    "        labels = np.concatenate((local_scene_coords, region_labels), axis=-1)\n",
    "\n",
    "        return [images, mask_expanded], labels"
   ]
  },
  {
   "cell_type": "code",
   "execution_count": 5,
   "id": "inside-viewer",
   "metadata": {},
   "outputs": [],
   "source": [
    "# dataset_size = 370\n",
    "# val_split = 0.1\n",
    "# data_dir = \"/data/cornucopia/jz522/localisation_project/DS_003_JDB-Full/coordinates_256_512_complete_working_141_classes/\"\n",
    "\n",
    "# data_partition = {'train': [],\n",
    "#                 'validation': []}\n",
    "\n",
    "# indexes = np.arange(1,dataset_size + 1)\n",
    "# np.random.shuffle(indexes)\n",
    "# split_index = int(val_split*dataset_size)\n",
    "\n",
    "# for ind in indexes[split_index:]:\n",
    "#     coord_npz = f\"{ind:04}_rendered.png_config.npz\"\n",
    "#     data_partition['train'].append(data_dir + coord_npz)\n",
    "\n",
    "# for ind in indexes[:split_index]:\n",
    "#     coord_npz = f\"{ind:04}_rendered.png_config.npz\"\n",
    "#     data_partition['validation'].append(data_dir + coord_npz)"
   ]
  },
  {
   "cell_type": "code",
   "execution_count": 6,
   "id": "sunrise-donna",
   "metadata": {},
   "outputs": [],
   "source": [
    "generator_configs = {'batch_size': 1, \n",
    "                     'dim': (256,512),\n",
    "                     'num_regions': 141, \n",
    "                     'shuffle': True, \n",
    "                     'num_crops': 1}\n",
    "\n",
    "data_partition = {'train': [\"/data/cornucopia/jz522/localisation_project/DS_003_JDB-Full/coordinates_256_512_complete_working_141_classes/0001_rendered.png_config.npz\"]}\n",
    "\n",
    "train_generator = DataGenerator(data_partition['train'], **generator_configs)"
   ]
  },
  {
   "cell_type": "markdown",
   "id": "synthetic-magazine",
   "metadata": {},
   "source": [
    "# MSE callback"
   ]
  },
  {
   "cell_type": "code",
   "execution_count": 7,
   "id": "little-mountain",
   "metadata": {},
   "outputs": [],
   "source": [
    "class pixelwise_MSE(keras.callbacks.Callback):\n",
    "    def __init__(self, datapoint_name, frequency, start_row=[0], start_col=[50]):\n",
    "        super(pixelwise_MSE, self).__init__()\n",
    "        \n",
    "        data = self.load_data(datapoint_name, start_row, start_col)\n",
    "        \n",
    "        self.image = data['image']\n",
    "        self.oracle_global_coords = data['points_3d_world']  # i will use this to check whether i'm converting the data correctly\n",
    "        self.mask = data['mask']\n",
    "        self.W_inv = data['W_inv']\n",
    "        self.M = data['M']\n",
    "        self.std = data['std']\n",
    "        \n",
    "        self.frequency = frequency\n",
    "        \n",
    "        \n",
    "      \n",
    "    def crop(self, data, start_row, start_col, data_depth):\n",
    "        num_crops = len(start_row)\n",
    "        data_croped = np.zeros((num_crops, 224, 224, data_depth))\n",
    "\n",
    "        for ind in range(num_crops):\n",
    "            if start_col[ind] + 224 > 512:\n",
    "                dif = start_col[ind] + 224 - 512\n",
    "                wraped_data = data[ind, start_row[ind]:start_row[ind]+224, :dif,:]\n",
    "                \n",
    "                data_croped[ind] = np.concatenate(\n",
    "                    (data[ind, start_row[ind]:start_row[ind]+224, start_col[ind]:start_col[ind]+224,:], \n",
    "                        wraped_data), axis=1)  \n",
    "            else:\n",
    "                data_croped[ind] = data[ind, start_row[ind]:start_row[ind]+224, start_col[ind]:start_col[ind]+224,:]\n",
    "\n",
    "        return data_croped\n",
    "    \n",
    "    \n",
    "    def load_data(self, data_filename, start_row, start_col):\n",
    "        data = np.load(data_filename)\n",
    "\n",
    "        image = self.crop(  np.expand_dims(data['image_colors'], axis=0), start_row, start_col, 3)\n",
    "        points_3d_world = self.crop(  np.expand_dims(data['points_3d_world'], axis=0), start_row, start_col, 3)\n",
    "        mask = self.crop(  np.expand_dims(data['mask'], axis=[0,-1]), start_row, start_col, 1)\n",
    "        \n",
    "        W_inv = data['W_inv']\n",
    "        M = data['M']\n",
    "        std = data['std']\n",
    "        \n",
    "        \n",
    "        return {'image': image,\n",
    "                'points_3d_world': points_3d_world, \n",
    "                'mask': mask,\n",
    "                'W_inv': W_inv,\n",
    "                'M': M, \n",
    "                'std': std}\n",
    "    \n",
    "        \n",
    "    def on_epoch_begin(self, epoch, logs=None):\n",
    "        if(epoch%self.frequency == 0):\n",
    "\n",
    "            output = self.model.predict([self.image, self.mask])\n",
    "            global_coords = np.zeros((224*224,3))\n",
    "            \n",
    "            # 1. convert regions to their mean centers\n",
    "            pred_local_coords = np.reshape(output[:,:,:,:3], (-1,3))\n",
    "            labels = np.argmax(output[:,:,:,3:], axis=-1)\n",
    "            pred_regions = np.reshape(labels, (-1)).astype(int)\n",
    "                       \n",
    "          \n",
    "            # 2. unwhitten local coordinates\n",
    "            for region in np.unique(pred_regions):\n",
    "                region_coords = pred_local_coords[pred_regions == region]\n",
    "                unwhite_loc_coords = np.dot(region_coords * self.std[region] , self.W_inv[region]) + self.M[region]\n",
    "                \n",
    "                global_coords[pred_regions == region] = unwhite_loc_coords\n",
    "            \n",
    "           \n",
    "            # 4. compute MSE\n",
    "            global_coords = np.reshape(global_coords, (224,224,3))\n",
    "            global_coords = global_coords * self.mask[0]\n",
    "            oracle = self.oracle_global_coords[0] * self.mask[0]\n",
    "            errors_squared = np.square(oracle - global_coords)\n",
    "            euc_dist = np.mean(np.square(oracle - global_coords), axis=-1)\n",
    "            print('MSE: ', np.mean(euc_dist))\n",
    "            \n",
    "            # 5. compute MSE 90th percentile\n",
    "            percentile_90th = np.percentile(errors_squared, 90)\n",
    "            euc_dist_perc_90th = np.mean(errors_squared[errors_squared < percentile_90th])\n",
    "            print('MSE 90th percentile: ', np.mean(euc_dist_perc_90th))\n",
    "            \n",
    "            \n",
    "            # 6. plot for visualisation\n",
    "            if(epoch%20 == 0):\n",
    "                fig, (ax1, ax2, ax3, ax4) = plt.subplots(1, 4, figsize=(16,3))\n",
    "                region_centers = self.M[pred_regions]\n",
    "                max_ = max(self.oracle_global_coords[0].max(), global_coords.max())\n",
    "                min_ = min(self.oracle_global_coords[0].min(), global_coords.min())\n",
    "\n",
    "                oracle_coords_norm = (self.oracle_global_coords[0] - min_) / (max_ - min_)\n",
    "                ax1.imshow(oracle_coords_norm)\n",
    "                ax1.set_title(\"Ground truth - global scene coords\")\n",
    "\n",
    "                pred_coords_norm = (global_coords - min_) / (max_ - min_)\n",
    "                ax2.imshow(pred_coords_norm)\n",
    "                ax2.set_title(\"Pred - global scene coords\")\n",
    "\n",
    "                region_centers = np.reshape(region_centers, (224,224,3))\n",
    "    #             reg_cent_norm = (region_centers - min_) / (max_ - min_)\n",
    "                ax3.imshow(region_centers)\n",
    "\n",
    "                im4 = ax4.imshow(euc_dist)\n",
    "                ax4.set_title(\"Euclidean distance\")\n",
    "\n",
    "                divider = make_axes_locatable(ax4)\n",
    "                cax = divider.append_axes('right', size='5%', pad=0.1)\n",
    "                cbar = fig.colorbar(im4, cax=cax)\n",
    "\n",
    "                plt.show()\n",
    "            "
   ]
  },
  {
   "cell_type": "markdown",
   "id": "younger-reform",
   "metadata": {},
   "source": [
    "# Loss func"
   ]
  },
  {
   "cell_type": "code",
   "execution_count": 20,
   "id": "comparable-ordering",
   "metadata": {},
   "outputs": [],
   "source": [
    "def combined_loss(y_true, y_pred):\n",
    "    \" combined loss for 3D local coordinate regression and Classification\"\n",
    "\n",
    "    beta = 0.5\n",
    "    \n",
    "    regr_true = y_true[:,:,:,:3]\n",
    "    clas_true = y_true[:,:,:,3:]    \n",
    "    regr_pred = y_pred[:,:,:,:3]\n",
    "    clas_pred = y_pred[:,:,:,3:]\n",
    "\n",
    "    regr_loss = tf.keras.losses.mean_squared_error(regr_true, regr_pred)\n",
    "    regr_loss = tf.reduce_mean(regr_loss)\n",
    "\n",
    "#     clas_loss = tf.keras.losses.categorical_crossentropy(clas_true, clas_pred)  # 1-hot-encoded labels\n",
    "    clas_loss = tf.keras.losses.sparse_categorical_crossentropy(clas_true, clas_pred)  # categorical labels \n",
    "    clas_loss = tf.reduce_mean(clas_loss)\n",
    "    \n",
    "    loss = 1*regr_loss + 1*clas_loss\n",
    "    return loss\n",
    "\n",
    "\n",
    "def combined_loss_multiple_heads(weights=[1,1], num_heads=5):\n",
    "    \" num_heads defines the number of softmax heads the model outputs \"\n",
    "    reg_weight = weights[0] / np.sum(weights)\n",
    "    clas_weight = weights[1] / np.sum(weights)\n",
    "    \n",
    "    def combined_loss(y_true, y_pred):\n",
    "        \" combined loss for 3D local coordinate regression and Classification\"\n",
    "\n",
    "        # REGRESSION\n",
    "        regr_true = y_true[:,:,:,:3]\n",
    "        regr_pred = y_pred[:,:,:,:3]\n",
    "        \n",
    "        regr_loss = tf.keras.losses.mean_squared_error(regr_true, regr_pred)\n",
    "        regr_loss = tf.reduce_mean(regr_loss)\n",
    "                    \n",
    "            \n",
    "        # CLASSIFICATION\n",
    "        clas_losses = []\n",
    "        for i in range(num_heads):\n",
    "            clas_true = y_true[:,:,:, 3:]    \n",
    "            clas_pred = y_pred[:,:,:, 141*i+3 : 141*(i+1)+3]\n",
    "\n",
    "            clas_loss_tmp = tf.keras.losses.sparse_categorical_crossentropy(clas_true, clas_pred)  # categorical labels \n",
    "            clas_loss_tmp = tf.reduce_mean(clas_loss_tmp)\n",
    "            clas_losses.append(clas_loss_tmp)\n",
    "        \n",
    "        clas_loss = tf.reduce_mean(clas_losses)\n",
    "\n",
    "        loss = reg_weight*regr_loss + clas_weight*clas_loss\n",
    "        return loss\n",
    "    \n",
    "    \n",
    "    return combined_loss"
   ]
  },
  {
   "cell_type": "markdown",
   "id": "rising-intersection",
   "metadata": {},
   "source": [
    "# Setup model"
   ]
  },
  {
   "cell_type": "code",
   "execution_count": 21,
   "id": "failing-rogers",
   "metadata": {},
   "outputs": [],
   "source": [
    "# from models.unet_resnet_compat import vgg_unet\n",
    "\n",
    "# unet_model = vgg_unet(num_regions=141)\n",
    "# unet_model.compile(optimizer=keras.optimizers.Adam(1e-4), loss=combined_loss)"
   ]
  },
  {
   "cell_type": "code",
   "execution_count": 22,
   "id": "dangerous-black",
   "metadata": {
    "scrolled": false
   },
   "outputs": [
    {
     "name": "stdout",
     "output_type": "stream",
     "text": [
      "Running: ResNet 18 backbone\n",
      "Using 3 softmax heads\n"
     ]
    }
   ],
   "source": [
    "from models.fpn import resnet_fpn\n",
    "num_heads = 3\n",
    "\n",
    "unet_model = resnet_fpn(num_regions=141, num_heads=num_heads)\n",
    "unet_model.compile(optimizer=keras.optimizers.Adam(5e-4), loss=combined_loss_multiple_heads(weights=[1,1], num_heads=num_heads))"
   ]
  },
  {
   "cell_type": "code",
   "execution_count": 23,
   "id": "congressional-parish",
   "metadata": {
    "scrolled": true
   },
   "outputs": [],
   "source": [
    "# unet_model.summary()"
   ]
  },
  {
   "cell_type": "markdown",
   "id": "automated-municipality",
   "metadata": {},
   "source": [
    "# Fit model"
   ]
  },
  {
   "cell_type": "code",
   "execution_count": 24,
   "id": "hourly-annual",
   "metadata": {},
   "outputs": [],
   "source": [
    "[images, mask], labels = train_generator.__getitem__(0)"
   ]
  },
  {
   "cell_type": "code",
   "execution_count": 25,
   "id": "desirable-store",
   "metadata": {},
   "outputs": [
    {
     "data": {
      "image/png": "[encoded data removed]",
      "text/plain": [
       "<Figure size 1152x216 with 4 Axes>"
      ]
     },
     "metadata": {
      "needs_background": "light"
     },
     "output_type": "display_data"
    }
   ],
   "source": [
    "fig, (ax1, ax2, ax3, ax4) = plt.subplots(1, 4, figsize=(16,3))\n",
    "\n",
    "ax1.imshow(images[0])\n",
    "ax1.set_title(\"input image\")\n",
    "\n",
    "ax2.imshow(mask[0,:,:,0])\n",
    "ax2.set_title(\"mask\")\n",
    "\n",
    "# only use two lines below if input is unnormalised\n",
    "local_coords_norm = (labels[0,:,:,:3] - labels[0,:,:,:3].min()) / (labels[0,:,:,:3].max() - labels[0,:,:,:3].min())\n",
    "ax3.imshow(local_coords_norm)\n",
    "ax3.set_title(\"local scene coords\")\n",
    "\n",
    "# ax4.imshow(np.argmax(labels[0,:,:,3:], axis=-1))\n",
    "ax4.imshow(labels[0,:,:,3:])\n",
    "ax4.set_title(\"region labels\")\n",
    "plt.show()"
   ]
  },
  {
   "cell_type": "code",
   "execution_count": 26,
   "id": "bizarre-vulnerability",
   "metadata": {},
   "outputs": [
    {
     "data": {
      "text/plain": [
       "array([  0.,   1.,   4.,   5.,   6.,   7.,   8.,   9., 140.])"
      ]
     },
     "execution_count": 26,
     "metadata": {},
     "output_type": "execute_result"
    }
   ],
   "source": [
    "np.unique(labels[0,:,:,3:])"
   ]
  },
  {
   "cell_type": "markdown",
   "id": "adopted-emphasis",
   "metadata": {},
   "source": [
    "**Note:** you can see mask on visualisation of local scene coords. The mask has been already applied in the data generator. In prediction visualisation mask will also have been applied in the network."
   ]
  },
  {
   "cell_type": "markdown",
   "id": "subtle-vertical",
   "metadata": {},
   "source": [
    "**Note2:** it is VERY IMPORTANT to have normalised labels. Otherwise it is harder to optimise the model (i wasn't able to train it)."
   ]
  },
  {
   "cell_type": "code",
   "execution_count": 27,
   "id": "regular-scroll",
   "metadata": {},
   "outputs": [],
   "source": [
    "file_name = \"/data/cornucopia/jz522/localisation_project/DS_003_JDB-Full/coordinates_256_512_complete_working_141_classes/0001_rendered.png_config.npz\"\n",
    "global_coord_mse_callback = pixelwise_MSE(file_name, 1)\n",
    "train_vis = Visualise_learning_reg_and_class(images[0], mask[0], labels[0,:,:,:3], labels[0,:,:,3:], \n",
    "                                            10, \"/data/cornucopia/jz522/experiments/\", \"temp_testing\", \"train/\")\n",
    "\n",
    "callbacks = [train_vis]  #global_coord_mse_callback"
   ]
  },
  {
   "cell_type": "code",
   "execution_count": 28,
   "id": "manufactured-music",
   "metadata": {
    "scrolled": false
   },
   "outputs": [
    {
     "name": "stdout",
     "output_type": "stream",
     "text": [
      "Epoch 1/50\n",
      "1/1 [==============================] - 0s 2ms/step - loss: 3.3472\n",
      "Epoch 2/50\n",
      "1/1 [==============================] - 0s 18ms/step - loss: 3.0835\n",
      "Epoch 3/50\n",
      "1/1 [==============================] - 0s 16ms/step - loss: 2.3953\n",
      "Epoch 4/50\n",
      "1/1 [==============================] - 0s 41ms/step - loss: 2.1569\n",
      "Epoch 5/50\n",
      "1/1 [==============================] - 0s 19ms/step - loss: 1.9745\n",
      "Epoch 6/50\n",
      "1/1 [==============================] - 0s 39ms/step - loss: 1.8025\n",
      "Epoch 7/50\n",
      "1/1 [==============================] - 0s 22ms/step - loss: 1.6474\n",
      "Epoch 8/50\n",
      "1/1 [==============================] - 0s 22ms/step - loss: 1.5095\n",
      "Epoch 9/50\n",
      "1/1 [==============================] - 0s 19ms/step - loss: 1.3857\n",
      "Epoch 10/50\n",
      "1/1 [==============================] - 0s 23ms/step - loss: 1.2713\n",
      "Epoch 11/50\n",
      "1/1 [==============================] - 0s 25ms/step - loss: 1.1628\n",
      "Epoch 12/50\n",
      "1/1 [==============================] - 0s 19ms/step - loss: 1.0605\n",
      "Epoch 13/50\n",
      "1/1 [==============================] - 0s 18ms/step - loss: 0.9661\n",
      "Epoch 14/50\n",
      "1/1 [==============================] - 0s 19ms/step - loss: 0.8793\n",
      "Epoch 15/50\n",
      "1/1 [==============================] - 0s 18ms/step - loss: 0.7985\n",
      "Epoch 16/50\n",
      "1/1 [==============================] - 0s 23ms/step - loss: 0.7237\n",
      "Epoch 17/50\n",
      "1/1 [==============================] - 0s 17ms/step - loss: 0.6551\n",
      "Epoch 18/50\n",
      "1/1 [==============================] - 0s 17ms/step - loss: 0.5927\n",
      "Epoch 19/50\n",
      "1/1 [==============================] - 0s 19ms/step - loss: 0.5364\n",
      "Epoch 20/50\n",
      "1/1 [==============================] - 0s 23ms/step - loss: 0.4860\n",
      "Epoch 21/50\n",
      "1/1 [==============================] - 0s 14ms/step - loss: 0.4410\n",
      "Epoch 22/50\n",
      "1/1 [==============================] - 0s 18ms/step - loss: 0.4009\n",
      "Epoch 23/50\n",
      "1/1 [==============================] - 0s 23ms/step - loss: 0.3655\n",
      "Epoch 24/50\n",
      "1/1 [==============================] - 0s 19ms/step - loss: 0.3341\n",
      "Epoch 25/50\n",
      "1/1 [==============================] - 0s 17ms/step - loss: 0.3062\n",
      "Epoch 26/50\n",
      "1/1 [==============================] - 0s 23ms/step - loss: 0.2814\n",
      "Epoch 27/50\n",
      "1/1 [==============================] - 0s 15ms/step - loss: 0.2595\n",
      "Epoch 28/50\n",
      "1/1 [==============================] - 0s 38ms/step - loss: 0.2401\n",
      "Epoch 29/50\n",
      "1/1 [==============================] - 0s 31ms/step - loss: 0.2228\n",
      "Epoch 30/50\n",
      "1/1 [==============================] - 0s 30ms/step - loss: 0.2072\n",
      "Epoch 31/50\n",
      "1/1 [==============================] - 0s 5ms/step - loss: 0.1934\n",
      "Epoch 32/50\n",
      "1/1 [==============================] - 0s 28ms/step - loss: 0.1811\n",
      "Epoch 33/50\n",
      "1/1 [==============================] - 0s 25ms/step - loss: 0.1701\n",
      "Epoch 34/50\n",
      "1/1 [==============================] - 0s 28ms/step - loss: 0.1602\n",
      "Epoch 35/50\n",
      "1/1 [==============================] - 0s 23ms/step - loss: 0.1514\n",
      "Epoch 36/50\n",
      "1/1 [==============================] - 0s 26ms/step - loss: 0.1435\n",
      "Epoch 37/50\n",
      "1/1 [==============================] - 0s 44ms/step - loss: 0.1364\n",
      "Epoch 38/50\n",
      "1/1 [==============================] - 0s 818us/step - loss: 0.1299\n",
      "Epoch 39/50\n",
      "1/1 [==============================] - 0s 54ms/step - loss: 0.1240\n",
      "Epoch 40/50\n",
      "1/1 [==============================] - 0s 24ms/step - loss: 0.1186\n",
      "Epoch 41/50\n",
      "1/1 [==============================] - 0s 6ms/step - loss: 0.1137\n",
      "Epoch 42/50\n",
      "1/1 [==============================] - 0s 3ms/step - loss: 0.1093\n",
      "Epoch 43/50\n",
      "1/1 [==============================] - 0s 24ms/step - loss: 0.1053\n",
      "Epoch 44/50\n",
      "1/1 [==============================] - 0s 59ms/step - loss: 0.1015\n",
      "Epoch 45/50\n",
      "1/1 [==============================] - 0s 22ms/step - loss: 0.0981\n",
      "Epoch 46/50\n",
      "1/1 [==============================] - 0s 50ms/step - loss: 0.0950\n",
      "Epoch 47/50\n",
      "1/1 [==============================] - 0s 41ms/step - loss: 0.0921\n",
      "Epoch 48/50\n",
      "1/1 [==============================] - 0s 30ms/step - loss: 0.0895\n",
      "Epoch 49/50\n",
      "1/1 [==============================] - 0s 15ms/step - loss: 0.0870\n",
      "Epoch 50/50\n",
      "1/1 [==============================] - 0s 12ms/step - loss: 0.0847\n"
     ]
    }
   ],
   "source": [
    "fit_configs = {'epochs': 50, \n",
    "               'verbose': 1}\n",
    "\n",
    "\n",
    "history = unet_model.fit(train_generator, **fit_configs) #, callbacks=callback  callbacks=[callbacks],\n",
    "# history = unet_model.fit([images, mask], labels, callbacks=[callbacks], **fit_configs) #, callbacks=callback"
   ]
  },
  {
   "cell_type": "markdown",
   "id": "outstanding-centre",
   "metadata": {},
   "source": [
    "# Evaluate model"
   ]
  },
  {
   "cell_type": "code",
   "execution_count": 29,
   "id": "amino-morning",
   "metadata": {},
   "outputs": [],
   "source": [
    "label_pred = unet_model.predict([images, mask])"
   ]
  },
  {
   "cell_type": "code",
   "execution_count": 30,
   "id": "tired-labor",
   "metadata": {},
   "outputs": [
    {
     "data": {
      "text/plain": [
       "3"
      ]
     },
     "execution_count": 30,
     "metadata": {},
     "output_type": "execute_result"
    }
   ],
   "source": [
    "num_heads"
   ]
  },
  {
   "cell_type": "code",
   "execution_count": null,
   "id": "alert-stewart",
   "metadata": {
    "scrolled": false
   },
   "outputs": [],
   "source": [
    "fig, ((ax1, ax2, ax3, ax4), (ax5, ax6, ax7, ax8)) = plt.subplots(2, 4, figsize=(16,9))\n",
    "\n",
    "ax1.imshow(images[0])\n",
    "ax1.set_title(\"input image\")\n",
    "\n",
    "ax2.imshow(mask[0,:,:,0])\n",
    "ax2.set_title(\"mask\")\n",
    "\n",
    "tmp = (label_pred[0,:,:,:3] - label_pred[0,:,:,:3].min()) / (label_pred[0,:,:,:3].max() - label_pred[0,:,:,:3].min())\n",
    "ax3.imshow(tmp)\n",
    "ax3.set_title(\"local scene coords (normalised)\")\n",
    "\n",
    "for ax, i in zip([ax5, ax6, ax7], range(num_heads)):\n",
    "    ax.imshow(np.argmax(label_pred[0,:,:,141*i+3 : 141*(i+1)+3], axis=-1))\n",
    "    ax.set_title(f\"region labels - head {i+1}\")\n",
    "    \n",
    "ax8.imshow(label_pred[0,:,:,3])\n",
    "plt.show()"
   ]
  },
  {
   "cell_type": "code",
   "execution_count": null,
   "id": "radical-young",
   "metadata": {},
   "outputs": [],
   "source": []
  },
  {
   "cell_type": "code",
   "execution_count": 124,
   "id": "removed-america",
   "metadata": {
    "collapsed": true
   },
   "outputs": [
    {
     "data": {
      "image/png": "[encoded data removed]",
      "text/plain": [
       "<Figure size 1152x216 with 2 Axes>"
      ]
     },
     "metadata": {
      "needs_background": "light"
     },
     "output_type": "display_data"
    }
   ],
   "source": [
    "# visualise distribution of TRUE and PRED\n",
    "fig, (ax1, ax2) = plt.subplots(1, 2, figsize=(16,3))\n",
    "\n",
    "ax1.hist(np.reshape(label_pred[0,:,:,:3], (-1)), label=\"pred\", alpha=0.3)\n",
    "ax1.hist(np.reshape(labels[0,:,:,:3], (-1)), label=\"true\", alpha=0.3)\n",
    "ax1.set_title('regression')\n",
    "ax1.legend()\n",
    "\n",
    "ax2.hist(np.reshape(np.argmax(label_pred[0,:,:,3:], axis=-1), (-1)), label=\"pred\", alpha=0.3, bins=20)\n",
    "# ax2.hist(np.reshape(np.argmax(labels[0,:,:,3:], axis=-1), (-1)), label=\"true\", alpha=0.3)\n",
    "ax2.hist(np.reshape(labels[0,:,:,3:], (-1)), label=\"true\", alpha=0.3, bins=20)\n",
    "ax2.set_title('classification')\n",
    "ax2.legend()\n",
    "plt.show()"
   ]
  },
  {
   "cell_type": "markdown",
   "id": "incoming-stadium",
   "metadata": {},
   "source": [
    "# Unwhiten predicted coordinates"
   ]
  },
  {
   "cell_type": "code",
   "execution_count": null,
   "id": "northern-basketball",
   "metadata": {},
   "outputs": [],
   "source": []
  },
  {
   "cell_type": "code",
   "execution_count": null,
   "id": "intermediate-accommodation",
   "metadata": {},
   "outputs": [],
   "source": []
  },
  {
   "cell_type": "code",
   "execution_count": null,
   "id": "bigger-cornell",
   "metadata": {},
   "outputs": [],
   "source": []
  },
  {
   "cell_type": "markdown",
   "id": "handed-mechanism",
   "metadata": {},
   "source": [
    "# Predict pose"
   ]
  },
  {
   "cell_type": "code",
   "execution_count": null,
   "id": "gorgeous-scanner",
   "metadata": {},
   "outputs": [],
   "source": []
  },
  {
   "cell_type": "code",
   "execution_count": null,
   "id": "mechanical-variation",
   "metadata": {},
   "outputs": [],
   "source": []
  },
  {
   "cell_type": "code",
   "execution_count": null,
   "id": "necessary-angle",
   "metadata": {},
   "outputs": [],
   "source": []
  },
  {
   "cell_type": "code",
   "execution_count": null,
   "id": "convertible-conspiracy",
   "metadata": {},
   "outputs": [],
   "source": []
  },
  {
   "cell_type": "code",
   "execution_count": null,
   "id": "crucial-ranch",
   "metadata": {},
   "outputs": [],
   "source": []
  },
  {
   "cell_type": "markdown",
   "id": "hungry-break",
   "metadata": {},
   "source": [
    "# Debugging code"
   ]
  },
  {
   "cell_type": "markdown",
   "id": "decimal-jewel",
   "metadata": {},
   "source": [
    "### getting outputs of individual layers"
   ]
  },
  {
   "cell_type": "code",
   "execution_count": null,
   "id": "necessary-horizontal",
   "metadata": {},
   "outputs": [],
   "source": [
    "extractor = keras.Model(inputs=unet_model.inputs,\n",
    "                        outputs=[unet_model.output for layer in unet_model.layers])"
   ]
  },
  {
   "cell_type": "code",
   "execution_count": null,
   "id": "unnecessary-coast",
   "metadata": {},
   "outputs": [],
   "source": [
    "output = extractor(images)\n",
    "output[-1].numpy()[0,0,0,:]"
   ]
  },
  {
   "cell_type": "markdown",
   "id": "printable-indianapolis",
   "metadata": {},
   "source": [
    "### test loss function utside of NN"
   ]
  },
  {
   "cell_type": "code",
   "execution_count": 55,
   "id": "impressed-thunder",
   "metadata": {
    "scrolled": true
   },
   "outputs": [
    {
     "data": {
      "text/plain": [
       "(1, 224, 224, 1)"
      ]
     },
     "execution_count": 55,
     "metadata": {},
     "output_type": "execute_result"
    }
   ],
   "source": [
    "gen_mask_ = np.expand_dims(gen_mask, axis=-1)\n",
    "gen_mask_.shape"
   ]
  },
  {
   "cell_type": "code",
   "execution_count": 71,
   "id": "changing-eight",
   "metadata": {},
   "outputs": [
    {
     "data": {
      "text/plain": [
       "(1, 224, 224, 9)"
      ]
     },
     "execution_count": 71,
     "metadata": {},
     "output_type": "execute_result"
    }
   ],
   "source": [
    "labels_pred = np.zeros((1,224,224,8))\n",
    "labels_pred[:,:,:,:] = 1/8\n",
    "\n",
    "labels_true = np.zeros((1,224,224,8))\n",
    "labels_true[:,:,:,0] = 1\n",
    "# mask = np.ones((1,224,224,1))\n",
    "labels_true = np.concatenate([labels_true, gen_mask_], axis=-1)\n",
    "labels_true.shape"
   ]
  },
  {
   "cell_type": "code",
   "execution_count": 72,
   "id": "extraordinary-moore",
   "metadata": {},
   "outputs": [
    {
     "name": "stdout",
     "output_type": "stream",
     "text": [
      "tf.Tensor(\n",
      "[[[2.07944154 2.07944154 2.07944154 ... 2.07944154 2.07944154 2.07944154]\n",
      "  [2.07944154 2.07944154 2.07944154 ... 2.07944154 2.07944154 2.07944154]\n",
      "  [2.07944154 2.07944154 2.07944154 ... 2.07944154 2.07944154 2.07944154]\n",
      "  ...\n",
      "  [2.07944154 2.07944154 2.07944154 ... 2.07944154 2.07944154 2.07944154]\n",
      "  [2.07944154 2.07944154 2.07944154 ... 2.07944154 2.07944154 2.07944154]\n",
      "  [2.07944154 2.07944154 2.07944154 ... 2.07944154 2.07944154 2.07944154]]], shape=(1, 224, 224), dtype=float64)\n"
     ]
    },
    {
     "data": {
      "text/plain": [
       "array([[[2.07944154, 2.07944154, 2.07944154, ..., 2.07944154,\n",
       "         2.07944154, 2.07944154],\n",
       "        [2.07944154, 2.07944154, 2.07944154, ..., 2.07944154,\n",
       "         2.07944154, 2.07944154],\n",
       "        [2.07944154, 2.07944154, 2.07944154, ..., 2.07944154,\n",
       "         2.07944154, 2.07944154],\n",
       "        ...,\n",
       "        [2.07944154, 2.07944154, 2.07944154, ..., 2.07944154,\n",
       "         2.07944154, 2.07944154],\n",
       "        [2.07944154, 2.07944154, 2.07944154, ..., 2.07944154,\n",
       "         2.07944154, 2.07944154],\n",
       "        [2.07944154, 2.07944154, 2.07944154, ..., 2.07944154,\n",
       "         2.07944154, 2.07944154]]])"
      ]
     },
     "execution_count": 72,
     "metadata": {},
     "output_type": "execute_result"
    }
   ],
   "source": [
    "a = masked_X_entropy(labels_true, labels_pred)\n",
    "a.numpy()"
   ]
  },
  {
   "cell_type": "code",
   "execution_count": 73,
   "id": "assured-liabilities",
   "metadata": {},
   "outputs": [
    {
     "data": {
      "text/plain": [
       "array([0.        , 2.07944154])"
      ]
     },
     "execution_count": 73,
     "metadata": {},
     "output_type": "execute_result"
    }
   ],
   "source": [
    "np.unique(a.numpy())"
   ]
  },
  {
   "cell_type": "code",
   "execution_count": 74,
   "id": "needed-portal",
   "metadata": {},
   "outputs": [
    {
     "data": {
      "text/plain": [
       "(array([2.4000e+01, 0.0000e+00, 0.0000e+00, 0.0000e+00, 0.0000e+00,\n",
       "        0.0000e+00, 0.0000e+00, 0.0000e+00, 0.0000e+00, 5.0152e+04]),\n",
       " array([0.        , 0.20794415, 0.41588831, 0.62383246, 0.83177662,\n",
       "        1.03972077, 1.24766493, 1.45560908, 1.66355323, 1.87149739,\n",
       "        2.07944154]),\n",
       " <BarContainer object of 10 artists>)"
      ]
     },
     "execution_count": 74,
     "metadata": {},
     "output_type": "execute_result"
    },
    {
     "data": {
      "image/png": "[encoded data removed]",
      "text/plain": [
       "<Figure size 432x288 with 1 Axes>"
      ]
     },
     "metadata": {
      "needs_background": "light"
     },
     "output_type": "display_data"
    }
   ],
   "source": [
    "plt.hist(a.numpy().flatten())"
   ]
  },
  {
   "cell_type": "code",
   "execution_count": 18,
   "id": "comparable-leadership",
   "metadata": {
    "collapsed": true
   },
   "outputs": [
    {
     "data": {
      "text/plain": [
       "<tf.Tensor: shape=(1, 224, 224), dtype=float64, numpy=\n",
       "array([[[14.10333371, 14.10333371, 14.10333371, ..., 14.10333371,\n",
       "         14.10333371, 14.10333371],\n",
       "        [14.10333371, 14.10333371, 14.10333371, ..., 14.10333371,\n",
       "         14.10333371, 14.10333371],\n",
       "        [14.10333371, 14.10333371, 14.10333371, ..., 14.10333371,\n",
       "         14.10333371, 14.10333371],\n",
       "        ...,\n",
       "        [14.10333371, 14.10333371, 14.10333371, ..., 14.10333371,\n",
       "         14.10333371, 14.10333371],\n",
       "        [14.10333371, 14.10333371, 14.10333371, ..., 14.10333371,\n",
       "         14.10333371, 14.10333371],\n",
       "        [14.10333371, 14.10333371, 14.10333371, ..., 14.10333371,\n",
       "         14.10333371, 14.10333371]]])>"
      ]
     },
     "execution_count": 18,
     "metadata": {},
     "output_type": "execute_result"
    }
   ],
   "source": [
    "tf.keras.losses.categorical_crossentropy(labels_pred, labels_true[:,:,:,:8])"
   ]
  },
  {
   "cell_type": "markdown",
   "id": "promotional-disco",
   "metadata": {},
   "source": [
    "## $\\color{red}{\\text{CONCLUSION:}}$\n",
    "### there were 3 errors:\n",
    "\n",
    "**1. cross entropy outputed 2D matrix rather than scalar** Loss in general should be a scalar. If it's a vector you might compute an update with respect to each element of loss which could grow quicker than for a mean. There would be batch_size*224*224 updates\n",
    "\n",
    "**2. I was applying softmax function twice** After deleting the first softmax model was fixed. The first softmax could be applied for all nodes 224x224x8 rather than just along the axis=-1\n",
    "\n",
    "**3. there is some issue with the way i apply the mask** "
   ]
  },
  {
   "cell_type": "code",
   "execution_count": null,
   "id": "impossible-tissue",
   "metadata": {},
   "outputs": [],
   "source": []
  }
 ],
 "metadata": {
  "kernelspec": {
   "display_name": "Python 3 loc",
   "language": "python",
   "name": "localication"
  },
  "language_info": {
   "codemirror_mode": {
    "name": "ipython",
    "version": 3
   },
   "file_extension": ".py",
   "mimetype": "text/x-python",
   "name": "python",
   "nbconvert_exporter": "python",
   "pygments_lexer": "ipython3",
   "version": "3.7.10"
  }
 },
 "nbformat": 4,
 "nbformat_minor": 5
}
