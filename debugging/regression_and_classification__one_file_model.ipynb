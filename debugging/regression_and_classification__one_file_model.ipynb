{
 "cells": [
  {
   "cell_type": "code",
   "execution_count": 1,
   "id": "annual-album",
   "metadata": {},
   "outputs": [],
   "source": [
    "import os\n",
    "os.environ[\"CUDA_VISIBLE_DEVICES\"] = \"4,5,6,3\""
   ]
  },
  {
   "cell_type": "code",
   "execution_count": 2,
   "id": "agreed-front",
   "metadata": {},
   "outputs": [],
   "source": [
    "import tensorflow as tf\n",
    "import numpy as np\n",
    "import matplotlib.pyplot as plt\n",
    "import keras"
   ]
  },
  {
   "cell_type": "markdown",
   "id": "level-belarus",
   "metadata": {},
   "source": [
    "# Data Generator"
   ]
  },
  {
   "cell_type": "code",
   "execution_count": 3,
   "id": "quality-mission",
   "metadata": {},
   "outputs": [],
   "source": [
    "class DataGenerator(keras.utils.Sequence):\n",
    "    \"\"\" Loads, downsamples, crops, and auguments images and labels \"\"\"\n",
    "    \n",
    "    def __init__(self, npz_file_IDs, batch_size=8, dim=(256,512), num_regions=20, shuffle=True, num_crops=1):\n",
    "\n",
    "        self.npz_file_IDs = npz_file_IDs\n",
    "        self.batch_size = batch_size\n",
    "        self.dim = dim\n",
    "        self.num_regions = num_regions\n",
    "        self.shuffle = shuffle\n",
    "        self.on_epoch_end()\n",
    "        self.num_crops = num_crops\n",
    "\n",
    "    \n",
    "    def on_epoch_end(self):\n",
    "        'Updates indexes after each epoch'\n",
    "        self.indexes = np.arange(len(self.npz_file_IDs))\n",
    "        if self.shuffle == True:\n",
    "            np.random.shuffle(self.indexes)\n",
    "            \n",
    "            \n",
    "    def load_data(self, npz_file_ID_temp):\n",
    "        \"\"\" Load .npz files with images and labels from self.room_dir \"\"\"\n",
    "        images = np.empty((self.batch_size, *self.dim, 3), dtype=np.float32)\n",
    "        local_scene_coords = np.empty((self.batch_size, *self.dim, 3), dtype=np.float32)\n",
    "        region_labels = np.empty((self.batch_size, *self.dim, 1), dtype=np.float32)\n",
    "        masks = np.empty((self.batch_size, *self.dim, 1), dtype=np.int16)\n",
    "\n",
    "        for i, ID in enumerate(npz_file_ID_temp):\n",
    "            npz_data = np.load(ID)\n",
    "            \n",
    "            images[i] = npz_data['image_colors']\n",
    "            local_scene_coords[i] = npz_data['local_scene_coords']\n",
    "            region_labels[i] = np.expand_dims(npz_data['points_region_class'], axis=-1)\n",
    "            masks[i] = np.expand_dims(npz_data['mask'], axis=-1).astype(int)\n",
    "\n",
    "        return images, local_scene_coords, region_labels, masks\n",
    "\n",
    "    \n",
    "    def crop(self, data, start_row, start_col, data_depth):\n",
    "        \"\"\" Images are equirectangular (360 projected onto a rectangle).\n",
    "        Therefore we have to allow for all possibe crops, including these that run across the right image edge. \"\"\"\n",
    "\n",
    "        data_croped = np.zeros((self.batch_size, 224, 224, data_depth))\n",
    "\n",
    "        for ind in range(self.batch_size):\n",
    "\n",
    "            if start_col[ind] + 224 > 512:\n",
    "                dif = start_col[ind] + 224 - 512\n",
    "                wraped_data = data[ind, start_row[ind]:start_row[ind]+224, :dif,:]\n",
    "                \n",
    "                data_croped[ind] = np.concatenate(\n",
    "                    (data[ind, start_row[ind]:start_row[ind]+224, start_col[ind]:start_col[ind]+224,:], \n",
    "                        wraped_data), axis=1)\n",
    "                               \n",
    "            else:\n",
    "                data_croped[ind] = data[ind, start_row[ind]:start_row[ind]+224, start_col[ind]:start_col[ind]+224,:]\n",
    "\n",
    "        return data_croped\n",
    "    \n",
    "    \n",
    "    def get_crops(self, images, coords, regions, mask):\n",
    "        \n",
    "        # pick the start cordinates of croped images\n",
    "        start_row = np.random.randint(0, high=self.dim[0]-224, size=self.batch_size)\n",
    "        start_col = np.random.randint(0, high=self.dim[1], size=self.batch_size)\n",
    "        \n",
    "        image_crops = self.crop(images, start_row, start_col, data_depth=3)\n",
    "        coords_crops = self.crop(coords, start_row, start_col, data_depth=3)\n",
    "        region_crops = self.crop(regions, start_row, start_col, data_depth=1)\n",
    "        mask_crops = self.crop(mask, start_row, start_col, data_depth=1)\n",
    "        \n",
    "        return image_crops, coords_crops, region_crops, mask_crops\n",
    "    \n",
    "    \n",
    "    def __len__(self):\n",
    "        'Denotes the number of batches per epoch'\n",
    "        return int(np.floor(len(self.npz_file_IDs) / self.batch_size))\n",
    "    \n",
    "     \n",
    "    def __getitem__(self, index):\n",
    "        'Generate one batch of data'\n",
    "        # Generate indexes of the batch\n",
    "        indexes = self.indexes[index*self.batch_size:(index+1)*self.batch_size]\n",
    "\n",
    "        # Find list of IDs\n",
    "        list_IDs_temp = [self.npz_file_IDs[k] for k in indexes]\n",
    "\n",
    "        # load\n",
    "        images, local_scene_coords, region_labels, masks = self.load_data(list_IDs_temp)\n",
    "\n",
    "        # crop\n",
    "        images, local_scene_coords, region_labels, masks = self.get_crops(images, local_scene_coords, region_labels, masks)\n",
    "\n",
    "        \n",
    "        # one-hot encode labels\n",
    "#         region_labels = (np.arange(self.num_regions) == region_labels[:,:,:,0][...,None]).astype(int)\n",
    "\n",
    "\n",
    "        # expand dimension of mask\n",
    "        nested_masks = [masks for _ in range(3)]\n",
    "        mask_expanded = np.concatenate(nested_masks, axis=-1)\n",
    "\n",
    "        # apply mask to 3D coords ground truth data\n",
    "        local_scene_coords = local_scene_coords * mask_expanded\n",
    "                               \n",
    "        # coccatenate to images\n",
    "        labels = np.concatenate((local_scene_coords, region_labels), axis=-1)\n",
    "\n",
    "        return [images, mask_expanded], labels"
   ]
  },
  {
   "cell_type": "code",
   "execution_count": 4,
   "id": "muslim-monthly",
   "metadata": {},
   "outputs": [],
   "source": [
    "dataset_size = 370\n",
    "val_split = 0.1\n",
    "data_dir = \"/data/cornucopia/jz522/localisation_project/DS_003_JDB-Full/coordinates_256_512_complete_working_141_classes/\"\n",
    "\n",
    "data_partition = {'train': [],\n",
    "                'validation': []}\n",
    "\n",
    "indexes = np.arange(1,dataset_size + 1)\n",
    "np.random.shuffle(indexes)\n",
    "split_index = int(val_split*dataset_size)\n",
    "\n",
    "for ind in indexes[split_index:]:\n",
    "    coord_npz = f\"{ind:04}_rendered.png_config.npz\"\n",
    "    data_partition['train'].append(data_dir + coord_npz)\n",
    "\n",
    "for ind in indexes[:split_index]:\n",
    "    coord_npz = f\"{ind:04}_rendered.png_config.npz\"\n",
    "    data_partition['validation'].append(data_dir + coord_npz)"
   ]
  },
  {
   "cell_type": "code",
   "execution_count": 5,
   "id": "sunrise-donna",
   "metadata": {},
   "outputs": [],
   "source": [
    "generator_configs = {'batch_size': 10, \n",
    "                     'dim': (256,512),\n",
    "                     'num_regions': 141, \n",
    "                     'shuffle': True, \n",
    "                     'num_crops': 1}\n",
    "\n",
    "# data_partition = [\"/data/cornucopia/jz522/localisation_project/DS_003_JDB-Full/coordinates_256_512_complete_96_classes/0001_rendered.png_config.npz\"]\n",
    "\n",
    "train_generator = DataGenerator(data_partition['train'], **generator_configs)"
   ]
  },
  {
   "cell_type": "markdown",
   "id": "played-newcastle",
   "metadata": {},
   "source": [
    "# Model"
   ]
  },
  {
   "cell_type": "code",
   "execution_count": 6,
   "id": "individual-letters",
   "metadata": {},
   "outputs": [],
   "source": [
    "from tensorflow.keras import layers\n",
    "\n",
    "def vgg_encoder(input_shape=(224, 224, 3)):\n",
    "    \n",
    "    image_input = layers.Input(shape=(224, 224, 3))\n",
    "\n",
    "    # Block 1\n",
    "    x = layers.Conv2D(64, (3, 3), activation='relu', padding='same', name='block1_conv1')(image_input)\n",
    "    x = layers.Conv2D(64, (3, 3), activation='relu', padding='same', name='block1_conv2')(x)\n",
    "    x = layers.MaxPooling2D((2, 2), strides=(2, 2), name='block1_pool')(x)\n",
    "    f1 = x\n",
    "    \n",
    "    # Block 2\n",
    "    x = layers.Conv2D(128, (3, 3), activation='relu', padding='same', name='block2_conv1')(x)\n",
    "    x = layers.Conv2D(128, (3, 3), activation='relu', padding='same', name='block2_conv2')(x)\n",
    "    x = layers.MaxPooling2D((2, 2), strides=(2, 2), name='block2_pool')(x)\n",
    "    f2 = x\n",
    "    \n",
    "    # Block 3\n",
    "    x = layers.Conv2D(256, (3, 3), activation='relu', padding='same', name='block3_conv1')(x)\n",
    "    x = layers.Conv2D(256, (3, 3), activation='relu', padding='same', name='block3_conv2')(x)\n",
    "    x = layers.Conv2D(256, (3, 3), activation='relu', padding='same', name='block3_conv3')(x)\n",
    "    x = layers.MaxPooling2D((2, 2), strides=(2, 2), name='block3_pool')(x)\n",
    "    f3 = x\n",
    "\n",
    "    # Block 4\n",
    "    x = layers.Conv2D(512, (3, 3), activation='relu', padding='same', name='block4_conv1')(x)\n",
    "    x = layers.Conv2D(512, (3, 3), activation='relu', padding='same', name='block4_conv2')(x)\n",
    "    x = layers.Conv2D(512, (3, 3), activation='relu', padding='same', name='block4_conv3')(x)\n",
    "    x = layers.MaxPooling2D((2, 2), strides=(2, 2), name='block4_pool')(x)\n",
    "    f4 = x\n",
    "\n",
    "    # Block 5\n",
    "    x = layers.Conv2D(512, (3, 3), activation='relu', padding='same', name='block5_conv1')(x)\n",
    "    x = layers.Conv2D(512, (3, 3), activation='relu', padding='same', name='block5_conv2')(x)\n",
    "    x = layers.Conv2D(512, (3, 3), activation='relu', padding='same', name='block5_conv3')(x)\n",
    "    x = layers.MaxPooling2D((2, 2), strides=(2, 2), name='block5_pool')(x)\n",
    "    f5 = x\n",
    "    \n",
    "    return image_input, [f1,f2,f3,f4,f5]"
   ]
  },
  {
   "cell_type": "code",
   "execution_count": 7,
   "id": "motivated-surfing",
   "metadata": {},
   "outputs": [],
   "source": [
    "from tensorflow.keras.models import Model\n",
    "\n",
    "def vgg_unet(num_regions, input_height=224, input_width=224):\n",
    "\n",
    "    model = unet(vgg_encoder, num_regions, input_height=input_height, input_width=input_width)\n",
    "    model.model_name = \"vgg_unet\"\n",
    "    \n",
    "    return model\n",
    "\n",
    "\n",
    "def unet(encoder, num_regions, l1_skip_conn=True, input_height=224,\n",
    "          input_width=224):\n",
    "\n",
    "    image_input = layers.Input(shape=(224, 224, 3))\n",
    "    mask = layers.Input(shape=(224, 224, 3))\n",
    "    \n",
    "    image_input, levels = encoder(image_input)\n",
    "    [f1, f2, f3, f4, f5] = levels\n",
    "\n",
    "    o = f4\n",
    "    o = (layers.ZeroPadding2D((1, 1), name='U_block1_zero_pad'))(o)\n",
    "    o = (layers.Conv2D(512, (3, 3), padding='valid' , activation='relu', name='U_block1_conv'))(o)\n",
    "    o = (layers.BatchNormalization(name='U_block1_batch_norm'))(o)\n",
    "\n",
    "    o = (layers.UpSampling2D((2, 2), name='U_block2_up_sample'))(o)\n",
    "    o = (layers.concatenate([o, f3], axis=-1, name='U_block2_concat'))\n",
    "    o = (layers.ZeroPadding2D((1, 1)))(o)\n",
    "    o = (layers.Conv2D(512, (3, 3), padding='valid', activation='relu'))(o)\n",
    "    o = (layers.BatchNormalization())(o)\n",
    "\n",
    "    o = (layers.UpSampling2D((2, 2)))(o)\n",
    "    o = (layers.concatenate([o, f2], axis=-1))\n",
    "    o = (layers.ZeroPadding2D((1, 1)))(o)\n",
    "    o = (layers.Conv2D(256, (3, 3), padding='valid' , activation='relu'))(o)\n",
    "    o = (layers.BatchNormalization())(o)\n",
    "\n",
    "    o = (layers.UpSampling2D((2, 2)))(o)\n",
    "\n",
    "    if l1_skip_conn:\n",
    "        o = (layers.concatenate([o, f1], axis=-1))\n",
    "\n",
    "    o = (layers.ZeroPadding2D((1, 1)))(o)\n",
    "    o = (layers.Conv2D(128, (3, 3), padding='valid', activation='relu'))(o)\n",
    "    o = (layers.BatchNormalization())(o)\n",
    "\n",
    "    o = layers.Conv2D(128, (3, 3), padding='same')(o)\n",
    "    \n",
    "    o = (layers.UpSampling2D((2, 2)))(o)\n",
    "    o = (layers.ZeroPadding2D((1, 1)))(o)\n",
    "    o = (layers.Conv2D(64, (3, 3), padding='valid', activation='relu'))(o)\n",
    "    o = (layers.BatchNormalization())(o)\n",
    "    \n",
    "\n",
    "    \n",
    "    # REGRESSION\n",
    "    o_regr = layers.Conv2D(64, (3, 3), padding='same', activation='relu')(o)\n",
    "    output_reg = layers.Conv2D(3, (3, 3), padding='same')(o_regr)\n",
    "    output_masked_reg = layers.Multiply()([output_reg, mask])\n",
    "\n",
    "    \n",
    "    # CLASSIFICATION\n",
    "    o_clas = layers.Conv2D(num_regions, (3, 3), padding='same')(o)\n",
    "    output_clas = keras.activations.softmax(o_clas, axis=-1)\n",
    "    \n",
    "    \n",
    "    # CONCATENATE\n",
    "    output = layers.Concatenate(axis=-1)([output_masked_reg, output_clas])\n",
    "    \n",
    "    \n",
    "    model = Model(inputs=[image_input, mask], outputs=output) \n",
    "#     model.summary()\n",
    "    \n",
    "    return model"
   ]
  },
  {
   "cell_type": "markdown",
   "id": "younger-reform",
   "metadata": {},
   "source": [
    "# Loss func"
   ]
  },
  {
   "cell_type": "code",
   "execution_count": 8,
   "id": "comparable-ordering",
   "metadata": {},
   "outputs": [],
   "source": [
    "def combined_loss(y_true, y_pred):\n",
    "    \" combined loss for 3D local coordinate regression and Classification\"\n",
    "\n",
    "    beta = 0.5\n",
    "    \n",
    "    regr_true = y_true[:,:,:,:3]\n",
    "    clas_true = y_true[:,:,:,3:]    \n",
    "    regr_pred = y_pred[:,:,:,:3]\n",
    "    clas_pred = y_pred[:,:,:,3:]\n",
    "\n",
    "    regr_loss = tf.keras.losses.mean_squared_error(regr_true, regr_pred)\n",
    "    regr_loss = tf.reduce_mean(regr_loss)\n",
    "\n",
    "#     clas_loss = tf.keras.losses.categorical_crossentropy(clas_true, clas_pred)  # 1-hot-encoded labels\n",
    "    clas_loss = tf.keras.losses.sparse_categorical_crossentropy(clas_true, clas_pred)  # categorical labels \n",
    "    clas_loss = tf.reduce_mean(clas_loss)\n",
    "    \n",
    "    loss = 1*regr_loss + 1*clas_loss\n",
    "    return loss"
   ]
  },
  {
   "cell_type": "markdown",
   "id": "rising-intersection",
   "metadata": {},
   "source": [
    "# Setup model"
   ]
  },
  {
   "cell_type": "code",
   "execution_count": 9,
   "id": "failing-rogers",
   "metadata": {
    "scrolled": false
   },
   "outputs": [],
   "source": [
    "# # Example model\n",
    "# unet_model = vgg_unet(num_regions=96)\n",
    "# unet_model.compile(optimizer=keras.optimizers.Adam(1e-4), loss=combined_loss)"
   ]
  },
  {
   "cell_type": "markdown",
   "id": "automated-municipality",
   "metadata": {},
   "source": [
    "# Fit model"
   ]
  },
  {
   "cell_type": "code",
   "execution_count": 10,
   "id": "hourly-annual",
   "metadata": {},
   "outputs": [],
   "source": [
    "[images, mask], labels = train_generator.__getitem__(0)"
   ]
  },
  {
   "cell_type": "code",
   "execution_count": 13,
   "id": "desirable-store",
   "metadata": {},
   "outputs": [
    {
     "data": {
      "image/png": "[encoded data removed]",
      "text/plain": [
       "<Figure size 1152x216 with 4 Axes>"
      ]
     },
     "metadata": {
      "needs_background": "light"
     },
     "output_type": "display_data"
    }
   ],
   "source": [
    "fig, (ax1, ax2, ax3, ax4) = plt.subplots(1, 4, figsize=(16,3))\n",
    "\n",
    "ax1.imshow(images[0])\n",
    "ax1.set_title(\"input image\")\n",
    "\n",
    "ax2.imshow(mask[0,:,:,0])\n",
    "ax2.set_title(\"mask\")\n",
    "\n",
    "# only use two lines below if input is unnormalised\n",
    "local_coords_norm = (labels[0,:,:,:3] - labels[0,:,:,:3].min()) / (labels[0,:,:,:3].max() - labels[0,:,:,:3].min())\n",
    "# labels[0,:,:,:3] = local_coords_norm * mask[0]\n",
    "\n",
    "ax3.imshow(local_coords_norm)\n",
    "ax3.set_title(\"local scene coords\")\n",
    "\n",
    "# ax4.imshow(np.argmax(labels[0,:,:,3:], axis=-1))\n",
    "ax4.imshow(labels[0,:,:,3:])\n",
    "ax4.set_title(\"region labels\")\n",
    "plt.show()"
   ]
  },
  {
   "cell_type": "markdown",
   "id": "adopted-emphasis",
   "metadata": {},
   "source": [
    "**Note:** you can see mask on visualisation of local scene coords. The mask has been already applied in the data generator. In prediction visualisation mask will also have been applied in the network."
   ]
  },
  {
   "cell_type": "markdown",
   "id": "subtle-vertical",
   "metadata": {},
   "source": [
    "**Note2:** it is VERY IMPORTANT to have normalised labels. Otherwise it is harder to optimise the model (i wasn't able to train it)."
   ]
  },
  {
   "cell_type": "code",
   "execution_count": 19,
   "id": "manufactured-music",
   "metadata": {
    "scrolled": true
   },
   "outputs": [
    {
     "name": "stdout",
     "output_type": "stream",
     "text": [
      "INFO:tensorflow:Using MirroredStrategy with devices ('/job:localhost/replica:0/task:0/device:GPU:0', '/job:localhost/replica:0/task:0/device:GPU:1', '/job:localhost/replica:0/task:0/device:GPU:2', '/job:localhost/replica:0/task:0/device:GPU:3')\n",
      "Number of devices: 4\n",
      "Epoch 1/20\n",
      "INFO:tensorflow:batch_all_reduce: 48 all-reduces with algorithm = nccl, num_packs = 1\n",
      "INFO:tensorflow:batch_all_reduce: 48 all-reduces with algorithm = nccl, num_packs = 1\n",
      "16/33 [=============>................] - ETA: 3s - loss: 6.4630"
     ]
    },
    {
     "ename": "KeyboardInterrupt",
     "evalue": "",
     "output_type": "error",
     "traceback": [
      "\u001b[0;31m---------------------------------------------------------------------------\u001b[0m",
      "\u001b[0;31mKeyboardInterrupt\u001b[0m                         Traceback (most recent call last)",
      "\u001b[0;32m<ipython-input-19-401d58438ed5>\u001b[0m in \u001b[0;36m<module>\u001b[0;34m\u001b[0m\n\u001b[1;32m     14\u001b[0m     \u001b[0munet_model\u001b[0m\u001b[0;34m.\u001b[0m\u001b[0mcompile\u001b[0m\u001b[0;34m(\u001b[0m\u001b[0moptimizer\u001b[0m\u001b[0;34m=\u001b[0m\u001b[0mkeras\u001b[0m\u001b[0;34m.\u001b[0m\u001b[0moptimizers\u001b[0m\u001b[0;34m.\u001b[0m\u001b[0mAdam\u001b[0m\u001b[0;34m(\u001b[0m\u001b[0;36m1e-4\u001b[0m\u001b[0;34m)\u001b[0m\u001b[0;34m,\u001b[0m \u001b[0mloss\u001b[0m\u001b[0;34m=\u001b[0m\u001b[0mcombined_loss\u001b[0m\u001b[0;34m)\u001b[0m\u001b[0;34m\u001b[0m\u001b[0;34m\u001b[0m\u001b[0m\n\u001b[1;32m     15\u001b[0m \u001b[0;34m\u001b[0m\u001b[0m\n\u001b[0;32m---> 16\u001b[0;31m     \u001b[0mhistory\u001b[0m \u001b[0;34m=\u001b[0m \u001b[0munet_model\u001b[0m\u001b[0;34m.\u001b[0m\u001b[0mfit\u001b[0m\u001b[0;34m(\u001b[0m\u001b[0mx\u001b[0m\u001b[0;34m=\u001b[0m\u001b[0mtrain_generator\u001b[0m\u001b[0;34m,\u001b[0m  \u001b[0;34m**\u001b[0m\u001b[0mfit_configs\u001b[0m\u001b[0;34m)\u001b[0m \u001b[0;31m#, callbacks=callback\u001b[0m\u001b[0;34m\u001b[0m\u001b[0;34m\u001b[0m\u001b[0m\n\u001b[0m\u001b[1;32m     17\u001b[0m     \u001b[0;31m# history = unet_model.fit([images, mask], labels,  **fit_configs) #, callbacks=callback\u001b[0m\u001b[0;34m\u001b[0m\u001b[0;34m\u001b[0m\u001b[0;34m\u001b[0m\u001b[0m\n",
      "\u001b[0;32m~/localisation_from_image_project/envs/loc/lib/python3.7/site-packages/tensorflow/python/keras/engine/training.py\u001b[0m in \u001b[0;36m_method_wrapper\u001b[0;34m(self, *args, **kwargs)\u001b[0m\n\u001b[1;32m    106\u001b[0m   \u001b[0;32mdef\u001b[0m \u001b[0m_method_wrapper\u001b[0m\u001b[0;34m(\u001b[0m\u001b[0mself\u001b[0m\u001b[0;34m,\u001b[0m \u001b[0;34m*\u001b[0m\u001b[0margs\u001b[0m\u001b[0;34m,\u001b[0m \u001b[0;34m**\u001b[0m\u001b[0mkwargs\u001b[0m\u001b[0;34m)\u001b[0m\u001b[0;34m:\u001b[0m\u001b[0;34m\u001b[0m\u001b[0;34m\u001b[0m\u001b[0m\n\u001b[1;32m    107\u001b[0m     \u001b[0;32mif\u001b[0m \u001b[0;32mnot\u001b[0m \u001b[0mself\u001b[0m\u001b[0;34m.\u001b[0m\u001b[0m_in_multi_worker_mode\u001b[0m\u001b[0;34m(\u001b[0m\u001b[0;34m)\u001b[0m\u001b[0;34m:\u001b[0m  \u001b[0;31m# pylint: disable=protected-access\u001b[0m\u001b[0;34m\u001b[0m\u001b[0;34m\u001b[0m\u001b[0m\n\u001b[0;32m--> 108\u001b[0;31m       \u001b[0;32mreturn\u001b[0m \u001b[0mmethod\u001b[0m\u001b[0;34m(\u001b[0m\u001b[0mself\u001b[0m\u001b[0;34m,\u001b[0m \u001b[0;34m*\u001b[0m\u001b[0margs\u001b[0m\u001b[0;34m,\u001b[0m \u001b[0;34m**\u001b[0m\u001b[0mkwargs\u001b[0m\u001b[0;34m)\u001b[0m\u001b[0;34m\u001b[0m\u001b[0;34m\u001b[0m\u001b[0m\n\u001b[0m\u001b[1;32m    109\u001b[0m \u001b[0;34m\u001b[0m\u001b[0m\n\u001b[1;32m    110\u001b[0m     \u001b[0;31m# Running inside `run_distribute_coordinator` already.\u001b[0m\u001b[0;34m\u001b[0m\u001b[0;34m\u001b[0m\u001b[0;34m\u001b[0m\u001b[0m\n",
      "\u001b[0;32m~/localisation_from_image_project/envs/loc/lib/python3.7/site-packages/tensorflow/python/keras/engine/training.py\u001b[0m in \u001b[0;36mfit\u001b[0;34m(self, x, y, batch_size, epochs, verbose, callbacks, validation_split, validation_data, shuffle, class_weight, sample_weight, initial_epoch, steps_per_epoch, validation_steps, validation_batch_size, validation_freq, max_queue_size, workers, use_multiprocessing)\u001b[0m\n\u001b[1;32m   1096\u001b[0m                 batch_size=batch_size):\n\u001b[1;32m   1097\u001b[0m               \u001b[0mcallbacks\u001b[0m\u001b[0;34m.\u001b[0m\u001b[0mon_train_batch_begin\u001b[0m\u001b[0;34m(\u001b[0m\u001b[0mstep\u001b[0m\u001b[0;34m)\u001b[0m\u001b[0;34m\u001b[0m\u001b[0;34m\u001b[0m\u001b[0m\n\u001b[0;32m-> 1098\u001b[0;31m               \u001b[0mtmp_logs\u001b[0m \u001b[0;34m=\u001b[0m \u001b[0mtrain_function\u001b[0m\u001b[0;34m(\u001b[0m\u001b[0miterator\u001b[0m\u001b[0;34m)\u001b[0m\u001b[0;34m\u001b[0m\u001b[0;34m\u001b[0m\u001b[0m\n\u001b[0m\u001b[1;32m   1099\u001b[0m               \u001b[0;32mif\u001b[0m \u001b[0mdata_handler\u001b[0m\u001b[0;34m.\u001b[0m\u001b[0mshould_sync\u001b[0m\u001b[0;34m:\u001b[0m\u001b[0;34m\u001b[0m\u001b[0;34m\u001b[0m\u001b[0m\n\u001b[1;32m   1100\u001b[0m                 \u001b[0mcontext\u001b[0m\u001b[0;34m.\u001b[0m\u001b[0masync_wait\u001b[0m\u001b[0;34m(\u001b[0m\u001b[0;34m)\u001b[0m\u001b[0;34m\u001b[0m\u001b[0;34m\u001b[0m\u001b[0m\n",
      "\u001b[0;32m~/localisation_from_image_project/envs/loc/lib/python3.7/site-packages/tensorflow/python/eager/def_function.py\u001b[0m in \u001b[0;36m__call__\u001b[0;34m(self, *args, **kwds)\u001b[0m\n\u001b[1;32m    778\u001b[0m       \u001b[0;32melse\u001b[0m\u001b[0;34m:\u001b[0m\u001b[0;34m\u001b[0m\u001b[0;34m\u001b[0m\u001b[0m\n\u001b[1;32m    779\u001b[0m         \u001b[0mcompiler\u001b[0m \u001b[0;34m=\u001b[0m \u001b[0;34m\"nonXla\"\u001b[0m\u001b[0;34m\u001b[0m\u001b[0;34m\u001b[0m\u001b[0m\n\u001b[0;32m--> 780\u001b[0;31m         \u001b[0mresult\u001b[0m \u001b[0;34m=\u001b[0m \u001b[0mself\u001b[0m\u001b[0;34m.\u001b[0m\u001b[0m_call\u001b[0m\u001b[0;34m(\u001b[0m\u001b[0;34m*\u001b[0m\u001b[0margs\u001b[0m\u001b[0;34m,\u001b[0m \u001b[0;34m**\u001b[0m\u001b[0mkwds\u001b[0m\u001b[0;34m)\u001b[0m\u001b[0;34m\u001b[0m\u001b[0;34m\u001b[0m\u001b[0m\n\u001b[0m\u001b[1;32m    781\u001b[0m \u001b[0;34m\u001b[0m\u001b[0m\n\u001b[1;32m    782\u001b[0m       \u001b[0mnew_tracing_count\u001b[0m \u001b[0;34m=\u001b[0m \u001b[0mself\u001b[0m\u001b[0;34m.\u001b[0m\u001b[0m_get_tracing_count\u001b[0m\u001b[0;34m(\u001b[0m\u001b[0;34m)\u001b[0m\u001b[0;34m\u001b[0m\u001b[0;34m\u001b[0m\u001b[0m\n",
      "\u001b[0;32m~/localisation_from_image_project/envs/loc/lib/python3.7/site-packages/tensorflow/python/eager/def_function.py\u001b[0m in \u001b[0;36m_call\u001b[0;34m(self, *args, **kwds)\u001b[0m\n\u001b[1;32m    805\u001b[0m       \u001b[0;31m# In this case we have created variables on the first call, so we run the\u001b[0m\u001b[0;34m\u001b[0m\u001b[0;34m\u001b[0m\u001b[0;34m\u001b[0m\u001b[0m\n\u001b[1;32m    806\u001b[0m       \u001b[0;31m# defunned version which is guaranteed to never create variables.\u001b[0m\u001b[0;34m\u001b[0m\u001b[0;34m\u001b[0m\u001b[0;34m\u001b[0m\u001b[0m\n\u001b[0;32m--> 807\u001b[0;31m       \u001b[0;32mreturn\u001b[0m \u001b[0mself\u001b[0m\u001b[0;34m.\u001b[0m\u001b[0m_stateless_fn\u001b[0m\u001b[0;34m(\u001b[0m\u001b[0;34m*\u001b[0m\u001b[0margs\u001b[0m\u001b[0;34m,\u001b[0m \u001b[0;34m**\u001b[0m\u001b[0mkwds\u001b[0m\u001b[0;34m)\u001b[0m  \u001b[0;31m# pylint: disable=not-callable\u001b[0m\u001b[0;34m\u001b[0m\u001b[0;34m\u001b[0m\u001b[0m\n\u001b[0m\u001b[1;32m    808\u001b[0m     \u001b[0;32melif\u001b[0m \u001b[0mself\u001b[0m\u001b[0;34m.\u001b[0m\u001b[0m_stateful_fn\u001b[0m \u001b[0;32mis\u001b[0m \u001b[0;32mnot\u001b[0m \u001b[0;32mNone\u001b[0m\u001b[0;34m:\u001b[0m\u001b[0;34m\u001b[0m\u001b[0;34m\u001b[0m\u001b[0m\n\u001b[1;32m    809\u001b[0m       \u001b[0;31m# Release the lock early so that multiple threads can perform the call\u001b[0m\u001b[0;34m\u001b[0m\u001b[0;34m\u001b[0m\u001b[0;34m\u001b[0m\u001b[0m\n",
      "\u001b[0;32m~/localisation_from_image_project/envs/loc/lib/python3.7/site-packages/tensorflow/python/eager/function.py\u001b[0m in \u001b[0;36m__call__\u001b[0;34m(self, *args, **kwargs)\u001b[0m\n\u001b[1;32m   2827\u001b[0m     \u001b[0;32mwith\u001b[0m \u001b[0mself\u001b[0m\u001b[0;34m.\u001b[0m\u001b[0m_lock\u001b[0m\u001b[0;34m:\u001b[0m\u001b[0;34m\u001b[0m\u001b[0;34m\u001b[0m\u001b[0m\n\u001b[1;32m   2828\u001b[0m       \u001b[0mgraph_function\u001b[0m\u001b[0;34m,\u001b[0m \u001b[0margs\u001b[0m\u001b[0;34m,\u001b[0m \u001b[0mkwargs\u001b[0m \u001b[0;34m=\u001b[0m \u001b[0mself\u001b[0m\u001b[0;34m.\u001b[0m\u001b[0m_maybe_define_function\u001b[0m\u001b[0;34m(\u001b[0m\u001b[0margs\u001b[0m\u001b[0;34m,\u001b[0m \u001b[0mkwargs\u001b[0m\u001b[0;34m)\u001b[0m\u001b[0;34m\u001b[0m\u001b[0;34m\u001b[0m\u001b[0m\n\u001b[0;32m-> 2829\u001b[0;31m     \u001b[0;32mreturn\u001b[0m \u001b[0mgraph_function\u001b[0m\u001b[0;34m.\u001b[0m\u001b[0m_filtered_call\u001b[0m\u001b[0;34m(\u001b[0m\u001b[0margs\u001b[0m\u001b[0;34m,\u001b[0m \u001b[0mkwargs\u001b[0m\u001b[0;34m)\u001b[0m  \u001b[0;31m# pylint: disable=protected-access\u001b[0m\u001b[0;34m\u001b[0m\u001b[0;34m\u001b[0m\u001b[0m\n\u001b[0m\u001b[1;32m   2830\u001b[0m \u001b[0;34m\u001b[0m\u001b[0m\n\u001b[1;32m   2831\u001b[0m   \u001b[0;34m@\u001b[0m\u001b[0mproperty\u001b[0m\u001b[0;34m\u001b[0m\u001b[0;34m\u001b[0m\u001b[0m\n",
      "\u001b[0;32m~/localisation_from_image_project/envs/loc/lib/python3.7/site-packages/tensorflow/python/eager/function.py\u001b[0m in \u001b[0;36m_filtered_call\u001b[0;34m(self, args, kwargs, cancellation_manager)\u001b[0m\n\u001b[1;32m   1846\u001b[0m                            resource_variable_ops.BaseResourceVariable))],\n\u001b[1;32m   1847\u001b[0m         \u001b[0mcaptured_inputs\u001b[0m\u001b[0;34m=\u001b[0m\u001b[0mself\u001b[0m\u001b[0;34m.\u001b[0m\u001b[0mcaptured_inputs\u001b[0m\u001b[0;34m,\u001b[0m\u001b[0;34m\u001b[0m\u001b[0;34m\u001b[0m\u001b[0m\n\u001b[0;32m-> 1848\u001b[0;31m         cancellation_manager=cancellation_manager)\n\u001b[0m\u001b[1;32m   1849\u001b[0m \u001b[0;34m\u001b[0m\u001b[0m\n\u001b[1;32m   1850\u001b[0m   \u001b[0;32mdef\u001b[0m \u001b[0m_call_flat\u001b[0m\u001b[0;34m(\u001b[0m\u001b[0mself\u001b[0m\u001b[0;34m,\u001b[0m \u001b[0margs\u001b[0m\u001b[0;34m,\u001b[0m \u001b[0mcaptured_inputs\u001b[0m\u001b[0;34m,\u001b[0m \u001b[0mcancellation_manager\u001b[0m\u001b[0;34m=\u001b[0m\u001b[0;32mNone\u001b[0m\u001b[0;34m)\u001b[0m\u001b[0;34m:\u001b[0m\u001b[0;34m\u001b[0m\u001b[0;34m\u001b[0m\u001b[0m\n",
      "\u001b[0;32m~/localisation_from_image_project/envs/loc/lib/python3.7/site-packages/tensorflow/python/eager/function.py\u001b[0m in \u001b[0;36m_call_flat\u001b[0;34m(self, args, captured_inputs, cancellation_manager)\u001b[0m\n\u001b[1;32m   1922\u001b[0m       \u001b[0;31m# No tape is watching; skip to running the function.\u001b[0m\u001b[0;34m\u001b[0m\u001b[0;34m\u001b[0m\u001b[0;34m\u001b[0m\u001b[0m\n\u001b[1;32m   1923\u001b[0m       return self._build_call_outputs(self._inference_function.call(\n\u001b[0;32m-> 1924\u001b[0;31m           ctx, args, cancellation_manager=cancellation_manager))\n\u001b[0m\u001b[1;32m   1925\u001b[0m     forward_backward = self._select_forward_and_backward_functions(\n\u001b[1;32m   1926\u001b[0m         \u001b[0margs\u001b[0m\u001b[0;34m,\u001b[0m\u001b[0;34m\u001b[0m\u001b[0;34m\u001b[0m\u001b[0m\n",
      "\u001b[0;32m~/localisation_from_image_project/envs/loc/lib/python3.7/site-packages/tensorflow/python/eager/function.py\u001b[0m in \u001b[0;36mcall\u001b[0;34m(self, ctx, args, cancellation_manager)\u001b[0m\n\u001b[1;32m    548\u001b[0m               \u001b[0minputs\u001b[0m\u001b[0;34m=\u001b[0m\u001b[0margs\u001b[0m\u001b[0;34m,\u001b[0m\u001b[0;34m\u001b[0m\u001b[0;34m\u001b[0m\u001b[0m\n\u001b[1;32m    549\u001b[0m               \u001b[0mattrs\u001b[0m\u001b[0;34m=\u001b[0m\u001b[0mattrs\u001b[0m\u001b[0;34m,\u001b[0m\u001b[0;34m\u001b[0m\u001b[0;34m\u001b[0m\u001b[0m\n\u001b[0;32m--> 550\u001b[0;31m               ctx=ctx)\n\u001b[0m\u001b[1;32m    551\u001b[0m         \u001b[0;32melse\u001b[0m\u001b[0;34m:\u001b[0m\u001b[0;34m\u001b[0m\u001b[0;34m\u001b[0m\u001b[0m\n\u001b[1;32m    552\u001b[0m           outputs = execute.execute_with_cancellation(\n",
      "\u001b[0;32m~/localisation_from_image_project/envs/loc/lib/python3.7/site-packages/tensorflow/python/eager/execute.py\u001b[0m in \u001b[0;36mquick_execute\u001b[0;34m(op_name, num_outputs, inputs, attrs, ctx, name)\u001b[0m\n\u001b[1;32m     58\u001b[0m     \u001b[0mctx\u001b[0m\u001b[0;34m.\u001b[0m\u001b[0mensure_initialized\u001b[0m\u001b[0;34m(\u001b[0m\u001b[0;34m)\u001b[0m\u001b[0;34m\u001b[0m\u001b[0;34m\u001b[0m\u001b[0m\n\u001b[1;32m     59\u001b[0m     tensors = pywrap_tfe.TFE_Py_Execute(ctx._handle, device_name, op_name,\n\u001b[0;32m---> 60\u001b[0;31m                                         inputs, attrs, num_outputs)\n\u001b[0m\u001b[1;32m     61\u001b[0m   \u001b[0;32mexcept\u001b[0m \u001b[0mcore\u001b[0m\u001b[0;34m.\u001b[0m\u001b[0m_NotOkStatusException\u001b[0m \u001b[0;32mas\u001b[0m \u001b[0me\u001b[0m\u001b[0;34m:\u001b[0m\u001b[0;34m\u001b[0m\u001b[0;34m\u001b[0m\u001b[0m\n\u001b[1;32m     62\u001b[0m     \u001b[0;32mif\u001b[0m \u001b[0mname\u001b[0m \u001b[0;32mis\u001b[0m \u001b[0;32mnot\u001b[0m \u001b[0;32mNone\u001b[0m\u001b[0;34m:\u001b[0m\u001b[0;34m\u001b[0m\u001b[0;34m\u001b[0m\u001b[0m\n",
      "\u001b[0;31mKeyboardInterrupt\u001b[0m: "
     ]
    }
   ],
   "source": [
    "fit_configs = {'epochs': 20, \n",
    "               'verbose': 1}\n",
    "\n",
    "strategy = tf.distribute.MirroredStrategy(['/device:GPU:0', '/device:GPU:1', '/device:GPU:2', '/device:GPU:3'])\n",
    "print('Number of devices: {}'.format(strategy.num_replicas_in_sync))\n",
    "\n",
    "with strategy.scope():\n",
    "    \n",
    "    # data gen\n",
    "    train_generator = DataGenerator(data_partition['train'], **generator_configs)\n",
    "    \n",
    "    # Example model\n",
    "    unet_model = vgg_unet(num_regions=141)\n",
    "    unet_model.compile(optimizer=keras.optimizers.Adam(1e-4), loss=combined_loss)\n",
    "\n",
    "    history = unet_model.fit(x=train_generator,  **fit_configs) #, callbacks=callback\n",
    "    # history = unet_model.fit([images, mask], labels,  **fit_configs) #, callbacks=callback"
   ]
  },
  {
   "cell_type": "markdown",
   "id": "outstanding-centre",
   "metadata": {},
   "source": [
    "# Evaluate model"
   ]
  },
  {
   "cell_type": "code",
   "execution_count": null,
   "id": "amino-morning",
   "metadata": {},
   "outputs": [],
   "source": [
    "label_pred = unet_model.predict([images, mask])"
   ]
  },
  {
   "cell_type": "code",
   "execution_count": null,
   "id": "alert-stewart",
   "metadata": {},
   "outputs": [],
   "source": [
    "fig, (ax1, ax2, ax3, ax4) = plt.subplots(1, 4, figsize=(16,3))\n",
    "\n",
    "ax1.imshow(images[0])\n",
    "ax1.set_title(\"input image\")\n",
    "\n",
    "ax2.imshow(mask[0,:,:,0])\n",
    "ax2.set_title(\"mask\")\n",
    "\n",
    "tmp = (label_pred[0,:,:,:3] - label_pred[0,:,:,:3].min()) / (label_pred[0,:,:,:3].max() - label_pred[0,:,:,:3].min())\n",
    "ax3.imshow(tmp)\n",
    "ax3.set_title(\"local scene coords (normalised)\")\n",
    "\n",
    "ax4.imshow(np.argmax(label_pred[0,:,:,3:], axis=-1))\n",
    "ax4.set_title(\"region labels\")\n",
    "plt.show()"
   ]
  },
  {
   "cell_type": "code",
   "execution_count": null,
   "id": "removed-america",
   "metadata": {},
   "outputs": [],
   "source": [
    "# visualise distribution of TRUE and PRED\n",
    "fig, (ax1, ax2) = plt.subplots(1, 2, figsize=(16,3))\n",
    "\n",
    "ax1.hist(np.reshape(label_pred[0,:,:,:3], (-1)), label=\"pred\", alpha=0.3)\n",
    "ax1.hist(np.reshape(labels[0,:,:,:3], (-1)), label=\"true\", alpha=0.3)\n",
    "ax1.legend()\n",
    "\n",
    "ax2.hist(np.reshape(np.argmax(label_pred[0,:,:,3:], axis=-1), (-1)), label=\"pred\", alpha=0.3, bins=20)\n",
    "# ax2.hist(np.reshape(np.argmax(labels[0,:,:,3:], axis=-1), (-1)), label=\"true\", alpha=0.3)\n",
    "ax2.hist(np.reshape(labels[0,:,:,3:], (-1)), label=\"true\", alpha=0.3, bins=20)\n",
    "ax2.legend()\n",
    "plt.show()"
   ]
  },
  {
   "cell_type": "markdown",
   "id": "incoming-stadium",
   "metadata": {},
   "source": [
    "# Unwhiten predicted coordinates"
   ]
  },
  {
   "cell_type": "code",
   "execution_count": null,
   "id": "northern-basketball",
   "metadata": {},
   "outputs": [],
   "source": []
  },
  {
   "cell_type": "code",
   "execution_count": null,
   "id": "intermediate-accommodation",
   "metadata": {},
   "outputs": [],
   "source": []
  },
  {
   "cell_type": "code",
   "execution_count": null,
   "id": "bigger-cornell",
   "metadata": {},
   "outputs": [],
   "source": []
  },
  {
   "cell_type": "markdown",
   "id": "handed-mechanism",
   "metadata": {},
   "source": [
    "# Predict pose"
   ]
  },
  {
   "cell_type": "code",
   "execution_count": null,
   "id": "gorgeous-scanner",
   "metadata": {},
   "outputs": [],
   "source": []
  },
  {
   "cell_type": "code",
   "execution_count": null,
   "id": "mechanical-variation",
   "metadata": {},
   "outputs": [],
   "source": []
  },
  {
   "cell_type": "code",
   "execution_count": null,
   "id": "necessary-angle",
   "metadata": {},
   "outputs": [],
   "source": []
  },
  {
   "cell_type": "code",
   "execution_count": null,
   "id": "convertible-conspiracy",
   "metadata": {},
   "outputs": [],
   "source": []
  },
  {
   "cell_type": "code",
   "execution_count": null,
   "id": "crucial-ranch",
   "metadata": {},
   "outputs": [],
   "source": []
  },
  {
   "cell_type": "markdown",
   "id": "hungry-break",
   "metadata": {},
   "source": [
    "# Debugging code"
   ]
  },
  {
   "cell_type": "markdown",
   "id": "decimal-jewel",
   "metadata": {},
   "source": [
    "### getting outputs of individual layers"
   ]
  },
  {
   "cell_type": "code",
   "execution_count": null,
   "id": "necessary-horizontal",
   "metadata": {},
   "outputs": [],
   "source": [
    "extractor = keras.Model(inputs=unet_model.inputs,\n",
    "                        outputs=[unet_model.output for layer in unet_model.layers])"
   ]
  },
  {
   "cell_type": "code",
   "execution_count": null,
   "id": "unnecessary-coast",
   "metadata": {},
   "outputs": [],
   "source": [
    "output = extractor(images)\n",
    "output[-1].numpy()[0,0,0,:]"
   ]
  },
  {
   "cell_type": "markdown",
   "id": "printable-indianapolis",
   "metadata": {},
   "source": [
    "### test loss function utside of NN"
   ]
  },
  {
   "cell_type": "code",
   "execution_count": 55,
   "id": "impressed-thunder",
   "metadata": {},
   "outputs": [
    {
     "data": {
      "text/plain": [
       "(1, 224, 224, 1)"
      ]
     },
     "execution_count": 55,
     "metadata": {},
     "output_type": "execute_result"
    }
   ],
   "source": [
    "gen_mask_ = np.expand_dims(gen_mask, axis=-1)\n",
    "gen_mask_.shape"
   ]
  },
  {
   "cell_type": "code",
   "execution_count": 71,
   "id": "changing-eight",
   "metadata": {},
   "outputs": [
    {
     "data": {
      "text/plain": [
       "(1, 224, 224, 9)"
      ]
     },
     "execution_count": 71,
     "metadata": {},
     "output_type": "execute_result"
    }
   ],
   "source": [
    "labels_pred = np.zeros((1,224,224,8))\n",
    "labels_pred[:,:,:,:] = 1/8\n",
    "\n",
    "labels_true = np.zeros((1,224,224,8))\n",
    "labels_true[:,:,:,0] = 1\n",
    "# mask = np.ones((1,224,224,1))\n",
    "labels_true = np.concatenate([labels_true, gen_mask_], axis=-1)\n",
    "labels_true.shape"
   ]
  },
  {
   "cell_type": "code",
   "execution_count": 72,
   "id": "extraordinary-moore",
   "metadata": {},
   "outputs": [
    {
     "name": "stdout",
     "output_type": "stream",
     "text": [
      "tf.Tensor(\n",
      "[[[2.07944154 2.07944154 2.07944154 ... 2.07944154 2.07944154 2.07944154]\n",
      "  [2.07944154 2.07944154 2.07944154 ... 2.07944154 2.07944154 2.07944154]\n",
      "  [2.07944154 2.07944154 2.07944154 ... 2.07944154 2.07944154 2.07944154]\n",
      "  ...\n",
      "  [2.07944154 2.07944154 2.07944154 ... 2.07944154 2.07944154 2.07944154]\n",
      "  [2.07944154 2.07944154 2.07944154 ... 2.07944154 2.07944154 2.07944154]\n",
      "  [2.07944154 2.07944154 2.07944154 ... 2.07944154 2.07944154 2.07944154]]], shape=(1, 224, 224), dtype=float64)\n"
     ]
    },
    {
     "data": {
      "text/plain": [
       "array([[[2.07944154, 2.07944154, 2.07944154, ..., 2.07944154,\n",
       "         2.07944154, 2.07944154],\n",
       "        [2.07944154, 2.07944154, 2.07944154, ..., 2.07944154,\n",
       "         2.07944154, 2.07944154],\n",
       "        [2.07944154, 2.07944154, 2.07944154, ..., 2.07944154,\n",
       "         2.07944154, 2.07944154],\n",
       "        ...,\n",
       "        [2.07944154, 2.07944154, 2.07944154, ..., 2.07944154,\n",
       "         2.07944154, 2.07944154],\n",
       "        [2.07944154, 2.07944154, 2.07944154, ..., 2.07944154,\n",
       "         2.07944154, 2.07944154],\n",
       "        [2.07944154, 2.07944154, 2.07944154, ..., 2.07944154,\n",
       "         2.07944154, 2.07944154]]])"
      ]
     },
     "execution_count": 72,
     "metadata": {},
     "output_type": "execute_result"
    }
   ],
   "source": [
    "a = masked_X_entropy(labels_true, labels_pred)\n",
    "a.numpy()"
   ]
  },
  {
   "cell_type": "code",
   "execution_count": 73,
   "id": "assured-liabilities",
   "metadata": {},
   "outputs": [
    {
     "data": {
      "text/plain": [
       "array([0.        , 2.07944154])"
      ]
     },
     "execution_count": 73,
     "metadata": {},
     "output_type": "execute_result"
    }
   ],
   "source": [
    "np.unique(a.numpy())"
   ]
  },
  {
   "cell_type": "code",
   "execution_count": 74,
   "id": "needed-portal",
   "metadata": {},
   "outputs": [
    {
     "data": {
      "text/plain": [
       "(array([2.4000e+01, 0.0000e+00, 0.0000e+00, 0.0000e+00, 0.0000e+00,\n",
       "        0.0000e+00, 0.0000e+00, 0.0000e+00, 0.0000e+00, 5.0152e+04]),\n",
       " array([0.        , 0.20794415, 0.41588831, 0.62383246, 0.83177662,\n",
       "        1.03972077, 1.24766493, 1.45560908, 1.66355323, 1.87149739,\n",
       "        2.07944154]),\n",
       " <BarContainer object of 10 artists>)"
      ]
     },
     "execution_count": 74,
     "metadata": {},
     "output_type": "execute_result"
    },
    {
     "data": {
      "image/png": "[encoded data removed]",
      "text/plain": [
       "<Figure size 432x288 with 1 Axes>"
      ]
     },
     "metadata": {
      "needs_background": "light"
     },
     "output_type": "display_data"
    }
   ],
   "source": [
    "plt.hist(a.numpy().flatten())"
   ]
  },
  {
   "cell_type": "code",
   "execution_count": 18,
   "id": "comparable-leadership",
   "metadata": {},
   "outputs": [
    {
     "data": {
      "text/plain": [
       "<tf.Tensor: shape=(1, 224, 224), dtype=float64, numpy=\n",
       "array([[[14.10333371, 14.10333371, 14.10333371, ..., 14.10333371,\n",
       "         14.10333371, 14.10333371],\n",
       "        [14.10333371, 14.10333371, 14.10333371, ..., 14.10333371,\n",
       "         14.10333371, 14.10333371],\n",
       "        [14.10333371, 14.10333371, 14.10333371, ..., 14.10333371,\n",
       "         14.10333371, 14.10333371],\n",
       "        ...,\n",
       "        [14.10333371, 14.10333371, 14.10333371, ..., 14.10333371,\n",
       "         14.10333371, 14.10333371],\n",
       "        [14.10333371, 14.10333371, 14.10333371, ..., 14.10333371,\n",
       "         14.10333371, 14.10333371],\n",
       "        [14.10333371, 14.10333371, 14.10333371, ..., 14.10333371,\n",
       "         14.10333371, 14.10333371]]])>"
      ]
     },
     "execution_count": 18,
     "metadata": {},
     "output_type": "execute_result"
    }
   ],
   "source": [
    "tf.keras.losses.categorical_crossentropy(labels_pred, labels_true[:,:,:,:8])"
   ]
  },
  {
   "cell_type": "markdown",
   "id": "promotional-disco",
   "metadata": {},
   "source": [
    "## $\\color{red}{\\text{CONCLUSION:}}$\n",
    "### there were 3 errors:\n",
    "\n",
    "**1. cross entropy outputed 2D matrix rather than scalar** Loss in general should be a scalar. If it's a vector you might compute an update with respect to each element of loss which could grow quicker than for a mean. There would be batch_size*224*224 updates\n",
    "\n",
    "**2. I was applying softmax function twice** After deleting the first softmax model was fixed. The first softmax could be applied for all nodes 224x224x8 rather than just along the axis=-1\n",
    "\n",
    "**3. there is some issue with the way i apply the mask** "
   ]
  },
  {
   "cell_type": "code",
   "execution_count": null,
   "id": "impossible-tissue",
   "metadata": {},
   "outputs": [],
   "source": []
  }
 ],
 "metadata": {
  "kernelspec": {
   "display_name": "Python 3 loc",
   "language": "python",
   "name": "localication"
  },
  "language_info": {
   "codemirror_mode": {
    "name": "ipython",
    "version": 3
   },
   "file_extension": ".py",
   "mimetype": "text/x-python",
   "name": "python",
   "nbconvert_exporter": "python",
   "pygments_lexer": "ipython3",
   "version": "3.7.10"
  }
 },
 "nbformat": 4,
 "nbformat_minor": 5
}
