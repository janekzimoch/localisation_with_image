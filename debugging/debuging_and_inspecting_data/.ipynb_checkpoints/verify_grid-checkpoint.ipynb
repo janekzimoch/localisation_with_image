{
 "cells": [
  {
   "cell_type": "code",
   "execution_count": 1,
   "id": "downtown-letter",
   "metadata": {},
   "outputs": [],
   "source": [
    "# verify whether grid you have created makes sense\n",
    "# TODO:\n",
    "# 1. read through all data\n",
    "# 2. combine all global scene coordinates together\n",
    "# 3. save them into a .ply file with color encoding for the regions you have created.\n",
    "# (remember to shuffle list of colors to make it more readable.)"
   ]
  },
  {
   "cell_type": "code",
   "execution_count": 3,
   "id": "passive-radar",
   "metadata": {},
   "outputs": [],
   "source": [
    "code_dir = \"/home/mlmi-2020/jz522/localisation_from_image_project/code\"\n",
    "import os, sys\n",
    "if code_dir not in sys.path:\n",
    "    sys.path.append(code_dir)\n",
    "os.environ[\"CUDA_VISIBLE_DEVICES\"] = \"0\""
   ]
  },
  {
   "cell_type": "code",
   "execution_count": 6,
   "id": "regular-laser",
   "metadata": {},
   "outputs": [],
   "source": [
    "import numpy as np\n",
    "import json\n",
    "import matplotlib.pyplot as plt\n",
    "from tqdm import tqdm"
   ]
  },
  {
   "cell_type": "code",
   "execution_count": 7,
   "id": "intense-israeli",
   "metadata": {},
   "outputs": [],
   "source": [
    "data_dir = \"/data/cornucopia/jz522/localisation_project/DS_003_JDB-Full/coordinates_256_512_complete_working_141_classes/\""
   ]
  },
  {
   "cell_type": "code",
   "execution_count": 10,
   "id": "different-remark",
   "metadata": {},
   "outputs": [
    {
     "name": "stderr",
     "output_type": "stream",
     "text": [
      "100%|██████████| 370/370 [03:57<00:00,  1.56it/s]\n"
     ]
    }
   ],
   "source": [
    "data_size = 370\n",
    "images = np.zeros((data_size, 256, 512, 3), dtype=np.float32)\n",
    "scene_coords = np.zeros((data_size, 256, 512, 3), dtype=np.float32)\n",
    "regions = np.zeros((data_size, 256, 512), dtype=np.float32)\n",
    "\n",
    "for data in tqdm(range(1,data_size + 1)):\n",
    "    coord_npz = f\"{data:04}_rendered.png_config.npz\"\n",
    "    npz_data = np.load(data_dir + coord_npz)\n",
    "    \n",
    "    images[int(data)-1,:,:,:] = npz_data['image_colors']\n",
    "    scene_coords[int(data)-1,:,:,:] = npz_data['points_3d_world'] \n",
    "    regions[int(data)-1,:,:] = npz_data['points_region_class']"
   ]
  },
  {
   "cell_type": "code",
   "execution_count": 59,
   "id": "endless-wright",
   "metadata": {},
   "outputs": [],
   "source": [
    "def writePlyFile(file_dir, file_name, vertices, colors, sample=0):\n",
    "    ply_header = '''ply\n",
    "                format ascii 1.0\n",
    "                element vertex %(vert_num)d\n",
    "                property float x\n",
    "                property float y\n",
    "                property float z\n",
    "                property uchar red\n",
    "                property uchar green\n",
    "                property uchar blue\n",
    "                end_header\n",
    "            '''\n",
    "    vertices = vertices.reshape(-1, 3)\n",
    "    colors = colors.reshape(-1, 3)\n",
    "    vertices = np.hstack([vertices, colors])\n",
    "    \n",
    "    if sample != 0:\n",
    "#         print(vertices.shape)\n",
    "        num_points = int(vertices.shape[0] / sample)\n",
    "        indices = np.random.choice(vertices.shape[0], size=num_points, replace=False)\n",
    "        vertices = vertices[indices]\n",
    "    \n",
    "    with open(file_dir + file_name, 'w') as f:\n",
    "        f.write(ply_header % dict(vert_num=len(vertices)))\n",
    "        np.savetxt(f, vertices, '%f %f %f %d %d %d')"
   ]
  },
  {
   "cell_type": "code",
   "execution_count": 44,
   "id": "continent-clone",
   "metadata": {},
   "outputs": [],
   "source": [
    "scene_coords_flat = np.reshape(scene_coords, (-1,3))\n",
    "regions_flat = np.reshape(regions, (-1))\n",
    "# get 141 distinct colors\n",
    "colors = np.random.randint(0, high=256, size=(141,3), dtype=int)"
   ]
  },
  {
   "cell_type": "code",
   "execution_count": 46,
   "id": "molecular-horse",
   "metadata": {},
   "outputs": [
    {
     "data": {
      "image/png": "[encoded data removed]",
      "text/plain": [
       "<Figure size 1080x720 with 1 Axes>"
      ]
     },
     "metadata": {
      "needs_background": "light"
     },
     "output_type": "display_data"
    }
   ],
   "source": [
    "# show generated colors \n",
    "colors_tmp = np.reshape(colors[:140], (5, 28, 3))\n",
    "plt.figure(figsize=(15,10))\n",
    "plt.imshow(colors_tmp)\n",
    "plt.show()"
   ]
  },
  {
   "cell_type": "code",
   "execution_count": 51,
   "id": "removable-welding",
   "metadata": {},
   "outputs": [],
   "source": [
    "color_points = [colors[point] for point in regions_flat.astype(int)]"
   ]
  },
  {
   "cell_type": "code",
   "execution_count": 53,
   "id": "occupational-reward",
   "metadata": {},
   "outputs": [
    {
     "data": {
      "text/plain": [
       "(48496640, 3)"
      ]
     },
     "execution_count": 53,
     "metadata": {},
     "output_type": "execute_result"
    }
   ],
   "source": [
    "color_points = np.array(color_points)\n",
    "color_points.shape"
   ]
  },
  {
   "cell_type": "markdown",
   "id": "incident-batman",
   "metadata": {},
   "source": [
    "# save every 100th point"
   ]
  },
  {
   "cell_type": "code",
   "execution_count": 55,
   "id": "brutal-special",
   "metadata": {},
   "outputs": [],
   "source": [
    "file_dir = \"/home/mlmi-2020/jz522/localisation_from_image_project/debugging/debuging_and_inspecting_data/region_grid_data/\""
   ]
  },
  {
   "cell_type": "code",
   "execution_count": 60,
   "id": "motivated-concern",
   "metadata": {},
   "outputs": [],
   "source": [
    "file_name = \"regions_vis_sampled_100.ply\"\n",
    "writePlyFile(file_dir, file_name, scene_coords_flat, color_points, sample=100)"
   ]
  },
  {
   "cell_type": "code",
   "execution_count": null,
   "id": "appropriate-pierce",
   "metadata": {},
   "outputs": [],
   "source": []
  }
 ],
 "metadata": {
  "kernelspec": {
   "display_name": "Python 3 loc",
   "language": "python",
   "name": "localication"
  },
  "language_info": {
   "codemirror_mode": {
    "name": "ipython",
    "version": 3
   },
   "file_extension": ".py",
   "mimetype": "text/x-python",
   "name": "python",
   "nbconvert_exporter": "python",
   "pygments_lexer": "ipython3",
   "version": "3.7.10"
  }
 },
 "nbformat": 4,
 "nbformat_minor": 5
}
