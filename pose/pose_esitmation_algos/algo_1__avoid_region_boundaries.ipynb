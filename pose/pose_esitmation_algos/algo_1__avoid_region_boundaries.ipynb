{
 "cells": [
  {
   "cell_type": "code",
   "execution_count": 1,
   "id": "interior-surveillance",
   "metadata": {},
   "outputs": [],
   "source": [
    "import numpy as np\n",
    "import json\n",
    "import matplotlib.pyplot as plt\n",
    "from tqdm import tqdm\n",
    "from mpl_toolkits.axes_grid1 import make_axes_locatable"
   ]
  },
  {
   "cell_type": "code",
   "execution_count": 2,
   "id": "short-promotion",
   "metadata": {},
   "outputs": [],
   "source": [
    "import os\n",
    "os.environ[\"CUDA_VISIBLE_DEVICES\"] = \"4\""
   ]
  },
  {
   "cell_type": "code",
   "execution_count": 3,
   "id": "casual-panama",
   "metadata": {},
   "outputs": [],
   "source": [
    "code_dir = \"/home/mlmi-2020/jz522/localisation_from_image_project/code_reg_and_clas\"\n",
    "import os, sys\n",
    "if code_dir not in sys.path:\n",
    "    sys.path.append(code_dir)"
   ]
  },
  {
   "cell_type": "markdown",
   "id": "loved-consciousness",
   "metadata": {},
   "source": [
    "**TODO:**\n",
    "* load single image, load model, get prediction for image\n",
    "* on 'pred_regions' detect edges on\n",
    "* create mask from edges with a hyperparameter determining a width of mask along the edge\n",
    "* apply mask\n",
    "* solve PnP"
   ]
  },
  {
   "cell_type": "code",
   "execution_count": null,
   "id": "interracial-raleigh",
   "metadata": {},
   "outputs": [],
   "source": []
  }
 ],
 "metadata": {
  "kernelspec": {
   "display_name": "Python 3 loc",
   "language": "python",
   "name": "localication"
  },
  "language_info": {
   "codemirror_mode": {
    "name": "ipython",
    "version": 3
   },
   "file_extension": ".py",
   "mimetype": "text/x-python",
   "name": "python",
   "nbconvert_exporter": "python",
   "pygments_lexer": "ipython3",
   "version": "3.7.10"
  }
 },
 "nbformat": 4,
 "nbformat_minor": 5
}
