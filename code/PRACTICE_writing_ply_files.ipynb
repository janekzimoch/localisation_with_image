{
 "cells": [
  {
   "cell_type": "code",
   "execution_count": 7,
   "id": "intensive-approach",
   "metadata": {},
   "outputs": [],
   "source": [
    "import numpy as np\n",
    "import cv2\n",
    "\n",
    "from utilis.resize_label import *"
   ]
  },
  {
   "cell_type": "code",
   "execution_count": 10,
   "id": "heated-command",
   "metadata": {},
   "outputs": [],
   "source": [
    "# @staticmethod\n",
    "def writePlyFile(file_name, vertices, colors):\n",
    "    ply_header = '''ply\n",
    "                format ascii 1.0\n",
    "                element vertex %(vert_num)d\n",
    "                property float x\n",
    "                property float y\n",
    "                property float z\n",
    "                property uchar red\n",
    "                property uchar green\n",
    "                property uchar blue\n",
    "                end_header\n",
    "               '''\n",
    "    vertices = vertices.reshape(-1, 3)\n",
    "    colors = colors.reshape(-1, 3)\n",
    "    vertices = np.hstack([vertices, colors])\n",
    "    with open(file_name, 'w') as f:\n",
    "        f.write(ply_header % dict(vert_num=len(vertices)))\n",
    "        np.savetxt(f, vertices, '%f %f %f %d %d %d')"
   ]
  },
  {
   "cell_type": "markdown",
   "id": "great-video",
   "metadata": {},
   "source": [
    "# Load data"
   ]
  },
  {
   "cell_type": "code",
   "execution_count": 2,
   "id": "straight-direction",
   "metadata": {},
   "outputs": [],
   "source": [
    "coord_data_dir = \"/data/cornucopia/ib255/derivative_datasets/cued_scene_coordinate_regression/data_from_jason/DS_003_JDB-Full/coordinates/\""
   ]
  },
  {
   "cell_type": "code",
   "execution_count": 5,
   "id": "romance-dallas",
   "metadata": {},
   "outputs": [],
   "source": [
    "data_size = 1\n",
    "images = np.zeros((data_size, 2048, 4096, 3), dtype=np.int16)\n",
    "labels = np.zeros((data_size, 2048, 4096, 3), dtype=np.float32)\n",
    "\n",
    "\n",
    "for data in range(1,data_size + 1):\n",
    "    if data < 10:\n",
    "        data = \"00\" + str(data)\n",
    "    elif data < 100:\n",
    "        data = \"0\" + str(data)\n",
    "\n",
    "    coord_npz = \"0{}_rendered.png_config.npz\".format(str(data))\n",
    "    npz_data = np.load(coord_data_dir + coord_npz)\n",
    "    \n",
    "    images[int(data)-1,:,:,:] = npz_data['image_colors']\n",
    "    labels[int(data)-1,:,:,:] = npz_data['points_3d_camera']"
   ]
  },
  {
   "cell_type": "code",
   "execution_count": 8,
   "id": "characteristic-compound",
   "metadata": {},
   "outputs": [],
   "source": [
    "images_low = np.zeros((data_size, 224, 224, 3), dtype=np.int16)\n",
    "labels_low = np.zeros((data_size, 224, 224, 3), dtype=np.float32)\n",
    "\n",
    "for ind in range(data_size):\n",
    "    images_low[ind,:,:,:] = cv2.resize(images[ind,:,:,:],(224, 224), interpolation = cv2.INTER_CUBIC)\n",
    "    \n",
    "for ind in range(data_size):\n",
    "    labels_low[ind,:,:,:] = resize_coordinates(labels[ind,:,:,:], new_dim=(224,224))"
   ]
  },
  {
   "cell_type": "markdown",
   "id": "organic-annual",
   "metadata": {},
   "source": [
    "# write PLY file"
   ]
  },
  {
   "cell_type": "code",
   "execution_count": 11,
   "id": "artificial-participation",
   "metadata": {},
   "outputs": [],
   "source": [
    "writePlyFile('practice.ply', labels_low[0], images_low[0])"
   ]
  },
  {
   "cell_type": "markdown",
   "id": "surprising-indonesia",
   "metadata": {},
   "source": [
    "# read PLY"
   ]
  },
  {
   "cell_type": "code",
   "execution_count": null,
   "id": "moral-ensemble",
   "metadata": {},
   "outputs": [],
   "source": []
  },
  {
   "cell_type": "code",
   "execution_count": null,
   "id": "economic-border",
   "metadata": {},
   "outputs": [],
   "source": []
  }
 ],
 "metadata": {
  "kernelspec": {
   "display_name": "Python 3 loc",
   "language": "python",
   "name": "localication"
  },
  "language_info": {
   "codemirror_mode": {
    "name": "ipython",
    "version": 3
   },
   "file_extension": ".py",
   "mimetype": "text/x-python",
   "name": "python",
   "nbconvert_exporter": "python",
   "pygments_lexer": "ipython3",
   "version": "3.7.10"
  }
 },
 "nbformat": 4,
 "nbformat_minor": 5
}
