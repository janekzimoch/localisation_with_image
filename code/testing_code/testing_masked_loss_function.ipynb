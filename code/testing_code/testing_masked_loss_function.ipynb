{
 "cells": [
  {
   "cell_type": "code",
   "execution_count": 1,
   "id": "quick-lending",
   "metadata": {},
   "outputs": [],
   "source": [
    "import os\n",
    "os.environ[\"CUDA_VISIBLE_DEVICES\"] = \"0\" #,1,2,3\"\n",
    "\n",
    "\n",
    "import tensorflow as tf\n",
    "import numpy as np"
   ]
  },
  {
   "cell_type": "code",
   "execution_count": 7,
   "id": "greenhouse-choice",
   "metadata": {},
   "outputs": [],
   "source": [
    "def masked_MSE(y_true, y_pred, mask):\n",
    "\n",
    "    mask_expanded = tf.stack([mask,mask,mask], axis=-1)\n",
    "\n",
    "    y_pred = tf.math.multiply(y_pred, mask_expanded)\n",
    "    y_true = tf.math.multiply(y_true, mask_expanded)\n",
    "\n",
    "\n",
    "    squared_difference = tf.square(y_true - y_pred)\n",
    "    loss = tf.reduce_mean(squared_difference, axis=-1)\n",
    "#     loss = tf.reduce_mean(squared_difference)\n",
    "\n",
    "    return loss"
   ]
  },
  {
   "cell_type": "code",
   "execution_count": 8,
   "id": "official-theme",
   "metadata": {},
   "outputs": [],
   "source": [
    "y_true = np.ones((10,10,3))\n",
    "y_pred = np.ones((10,10,3)) + 1\n",
    "mask = np.ones((10,10))\n",
    "mask[0,0] = 0"
   ]
  },
  {
   "cell_type": "code",
   "execution_count": 9,
   "id": "temporal-typing",
   "metadata": {},
   "outputs": [
    {
     "data": {
      "text/plain": [
       "<tf.Tensor: shape=(10, 10), dtype=float64, numpy=\n",
       "array([[0., 1., 1., 1., 1., 1., 1., 1., 1., 1.],\n",
       "       [1., 1., 1., 1., 1., 1., 1., 1., 1., 1.],\n",
       "       [1., 1., 1., 1., 1., 1., 1., 1., 1., 1.],\n",
       "       [1., 1., 1., 1., 1., 1., 1., 1., 1., 1.],\n",
       "       [1., 1., 1., 1., 1., 1., 1., 1., 1., 1.],\n",
       "       [1., 1., 1., 1., 1., 1., 1., 1., 1., 1.],\n",
       "       [1., 1., 1., 1., 1., 1., 1., 1., 1., 1.],\n",
       "       [1., 1., 1., 1., 1., 1., 1., 1., 1., 1.],\n",
       "       [1., 1., 1., 1., 1., 1., 1., 1., 1., 1.],\n",
       "       [1., 1., 1., 1., 1., 1., 1., 1., 1., 1.]])>"
      ]
     },
     "execution_count": 9,
     "metadata": {},
     "output_type": "execute_result"
    }
   ],
   "source": [
    "masked_MSE(y_true, y_pred, mask)"
   ]
  },
  {
   "cell_type": "code",
   "execution_count": null,
   "id": "broken-scholar",
   "metadata": {},
   "outputs": [],
   "source": []
  }
 ],
 "metadata": {
  "kernelspec": {
   "display_name": "Python 3 loc",
   "language": "python",
   "name": "localication"
  },
  "language_info": {
   "codemirror_mode": {
    "name": "ipython",
    "version": 3
   },
   "file_extension": ".py",
   "mimetype": "text/x-python",
   "name": "python",
   "nbconvert_exporter": "python",
   "pygments_lexer": "ipython3",
   "version": "3.7.10"
  }
 },
 "nbformat": 4,
 "nbformat_minor": 5
}
