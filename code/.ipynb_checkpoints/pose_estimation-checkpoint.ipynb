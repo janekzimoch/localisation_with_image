{
 "cells": [
  {
   "cell_type": "code",
   "execution_count": 70,
   "id": "dense-voluntary",
   "metadata": {},
   "outputs": [],
   "source": [
    "import pyopengv\n",
    "import numpy as np\n",
    "import matplotlib.pyplot as plt\n",
    "from shutil import copyfile\n"
   ]
  },
  {
   "cell_type": "code",
   "execution_count": 2,
   "id": "configured-infrastructure",
   "metadata": {},
   "outputs": [],
   "source": [
    "coord_data_dir = \"/data/cornucopia/ib255/derivative_datasets/cued_scene_coordinate_regression/data_from_jason/DS_003_JDB-Full/coordinates/\""
   ]
  },
  {
   "cell_type": "markdown",
   "id": "public-story",
   "metadata": {},
   "source": [
    "## Load Data"
   ]
  },
  {
   "cell_type": "code",
   "execution_count": 3,
   "id": "destroyed-transcript",
   "metadata": {},
   "outputs": [],
   "source": [
    "data_size = 1\n",
    "images = np.zeros((data_size, 2048, 4096, 3))\n",
    "scene_coordinates = np.zeros((data_size, 2048, 4096, 3))\n",
    "pixel_bearings = np.zeros((data_size, 2048, 4096, 3))\n",
    "\n",
    "for data in range(1,data_size + 1):\n",
    "    coord_npz = f\"{data:04}_rendered.png_config.npz\"\n",
    "    npz_data = np.load(coord_data_dir + coord_npz)\n",
    "    \n",
    "    images[data-1,:,:,:] = npz_data['image_colors'].astype(int)\n",
    "    scene_coordinates[data-1,:,:,:] = npz_data['points_3d_world']\n",
    "    pixel_bearings[data-1,:,:,:] = npz_data['points_3d_sphere']"
   ]
  },
  {
   "cell_type": "code",
   "execution_count": 40,
   "id": "recreational-discount",
   "metadata": {},
   "outputs": [],
   "source": [
    "data_size = 1\n",
    "camera_coordinates = np.zeros((data_size, 2048, 4096, 3))\n",
    "\n",
    "for data in range(1,data_size + 1):\n",
    "    coord_npz = f\"{data:04}_rendered.png_config.npz\"\n",
    "    npz_data = np.load(coord_data_dir + coord_npz)\n",
    "    \n",
    "    camera_coordinates[data-1,:,:,:] = npz_data['points_3d_camera']"
   ]
  },
  {
   "cell_type": "code",
   "execution_count": 31,
   "id": "athletic-thursday",
   "metadata": {},
   "outputs": [],
   "source": [
    "npz_data = np.load(coord_data_dir + coord_npz)"
   ]
  },
  {
   "cell_type": "markdown",
   "id": "compound-police",
   "metadata": {},
   "source": [
    "## get transformation matrix"
   ]
  },
  {
   "cell_type": "code",
   "execution_count": 25,
   "id": "civil-bracelet",
   "metadata": {},
   "outputs": [],
   "source": [
    "# get 4 randomly selected pixel coordiates\n",
    "n = 10\n",
    "row_samples = np.random.choice(2048, n)\n",
    "col_samples = np.random.choice(4096, n)\n",
    "\n",
    "bs = pixel_bearings[0,row_samples, col_samples,:]\n",
    "Xs = scene_coordinates[0,row_samples, col_samples,:]"
   ]
  },
  {
   "cell_type": "code",
   "execution_count": 26,
   "id": "careful-position",
   "metadata": {},
   "outputs": [],
   "source": [
    "threshold=0.004"
   ]
  },
  {
   "cell_type": "code",
   "execution_count": 27,
   "id": "marine-happening",
   "metadata": {},
   "outputs": [],
   "source": [
    "T_full = pyopengv.absolute_pose_lmeds(bs,Xs,\"EPNP\",1- np.cos(threshold), 1000)\n",
    "R = T_full[:, :3]\n",
    "T = T_full[:, 3]\n",
    "T_opensfm = -np.matmul(np.transpose(R),T)\n",
    "R_opensfm = np.transpose(R)"
   ]
  },
  {
   "cell_type": "code",
   "execution_count": 29,
   "id": "controlling-format",
   "metadata": {},
   "outputs": [
    {
     "data": {
      "text/plain": [
       "array([[ 7.46342152e-01,  2.80613869e-05,  6.65562462e-01],\n",
       "       [ 6.65562463e-01,  1.80563811e-07, -7.46342152e-01],\n",
       "       [-2.10635724e-05,  1.00000000e+00, -1.85418434e-05]])"
      ]
     },
     "execution_count": 29,
     "metadata": {},
     "output_type": "execute_result"
    }
   ],
   "source": [
    "R"
   ]
  },
  {
   "cell_type": "code",
   "execution_count": 30,
   "id": "lightweight-reducing",
   "metadata": {},
   "outputs": [
    {
     "data": {
      "text/plain": [
       "array([-0.34481262,  0.21366658, -3.91202666])"
      ]
     },
     "execution_count": 30,
     "metadata": {},
     "output_type": "execute_result"
    }
   ],
   "source": [
    "T"
   ]
  },
  {
   "cell_type": "code",
   "execution_count": 32,
   "id": "human-tourist",
   "metadata": {},
   "outputs": [
    {
     "data": {
      "text/plain": [
       "array([[ 7.46415952e-01,  5.81780851e-08,  6.65479697e-01],\n",
       "       [ 6.65479697e-01, -6.52537576e-08, -7.46415952e-01],\n",
       "       [ 4.07488790e-17,  1.00000000e+00, -8.74227800e-08]])"
      ]
     },
     "execution_count": 32,
     "metadata": {},
     "output_type": "execute_result"
    }
   ],
   "source": [
    "npz_data['R_blender']"
   ]
  },
  {
   "cell_type": "code",
   "execution_count": 33,
   "id": "right-sustainability",
   "metadata": {},
   "outputs": [
    {
     "data": {
      "text/plain": [
       "array([-0.34371182,  0.21458431, -3.91157985])"
      ]
     },
     "execution_count": 33,
     "metadata": {},
     "output_type": "execute_result"
    }
   ],
   "source": [
    "npz_data['T_blender']"
   ]
  },
  {
   "cell_type": "markdown",
   "id": "answering-medicine",
   "metadata": {},
   "source": [
    "# Plot how accuracy of EPNP changes with number of n points"
   ]
  },
  {
   "cell_type": "code",
   "execution_count": 38,
   "id": "union-single",
   "metadata": {},
   "outputs": [],
   "source": [
    "n_list = np.arange(2,20)\n",
    "R_error = np.zeros(len(n_list))\n",
    "T_error = np.zeros(len(n_list))\n",
    "\n",
    "for i, n in enumerate(n_list):\n",
    "    row_samples = np.random.choice(2048, n)\n",
    "    col_samples = np.random.choice(4096, n)\n",
    "\n",
    "    bs = pixel_bearings[0,row_samples, col_samples,:]\n",
    "    Xs = scene_coordinates[0,row_samples, col_samples,:]\n",
    "    \n",
    "    T_full = pyopengv.absolute_pose_lmeds(bs,Xs,\"EPNP\",1- np.cos(threshold), 1000)\n",
    "    R = T_full[:, :3]\n",
    "    T = T_full[:, 3]\n",
    "    \n",
    "    R_error[i] = np.mean(np.abs(npz_data['R_blender'] - R))\n",
    "    T_error[i] = np.mean(np.abs(npz_data['T_blender'] - T))"
   ]
  },
  {
   "cell_type": "code",
   "execution_count": 39,
   "id": "welcome-gates",
   "metadata": {},
   "outputs": [
    {
     "data": {
      "image/png": "[encoded data removed]",
      "text/plain": [
       "<Figure size 432x288 with 1 Axes>"
      ]
     },
     "metadata": {
      "needs_background": "light"
     },
     "output_type": "display_data"
    }
   ],
   "source": [
    "plt.figure()\n",
    "plt.plot(n_list, R_error, label=\"R error\", marker='o')\n",
    "plt.plot(n_list, T_error, label=\"T error\", marker='o')\n",
    "plt.show()"
   ]
  },
  {
   "cell_type": "markdown",
   "id": "given-luxury",
   "metadata": {},
   "source": [
    "### 1. Will this work if i use camera coordinates?"
   ]
  },
  {
   "cell_type": "code",
   "execution_count": 57,
   "id": "occupied-trouble",
   "metadata": {},
   "outputs": [],
   "source": [
    "# get 4 randomly selected pixel coordiates\n",
    "n = 10\n",
    "row_samples = np.random.choice(2048, n)\n",
    "col_samples = np.random.choice(4096, n)\n",
    "\n",
    "bs = pixel_bearings[0,row_samples, col_samples,:]\n",
    "Xs = scene_coordinates[0,row_samples, col_samples,:]\n",
    "\n",
    "T_full = pyopengv.absolute_pose_lmeds(bs,Xs,\"EPNP\",1- np.cos(threshold), 1000)\n",
    "R = T_full[:, :3]\n",
    "T = T_full[:, 3]"
   ]
  },
  {
   "cell_type": "code",
   "execution_count": 58,
   "id": "precise-enterprise",
   "metadata": {},
   "outputs": [
    {
     "data": {
      "text/plain": [
       "array([[ 7.46467308e-01,  3.90964419e-05,  6.65422089e-01],\n",
       "       [ 6.65422077e-01,  1.57649765e-04, -7.46467303e-01],\n",
       "       [-1.34087852e-04,  9.99999987e-01,  9.16647604e-05]])"
      ]
     },
     "execution_count": 58,
     "metadata": {},
     "output_type": "execute_result"
    }
   ],
   "source": [
    "R"
   ]
  },
  {
   "cell_type": "code",
   "execution_count": 59,
   "id": "relevant-veteran",
   "metadata": {},
   "outputs": [
    {
     "data": {
      "text/plain": [
       "array([-0.34351344,  0.2148119 , -3.91119675])"
      ]
     },
     "execution_count": 59,
     "metadata": {},
     "output_type": "execute_result"
    }
   ],
   "source": [
    "T"
   ]
  },
  {
   "cell_type": "code",
   "execution_count": null,
   "id": "engaged-masters",
   "metadata": {},
   "outputs": [],
   "source": [
    "# What this ^ shows is that T=0 and R= identity matrix \n",
    "# i.e. camera "
   ]
  },
  {
   "cell_type": "markdown",
   "id": "colored-equation",
   "metadata": {},
   "source": [
    "### 2. I need to create a new dataset where i rescale all data: including bearings and 3D_world coordinates"
   ]
  },
  {
   "cell_type": "markdown",
   "id": "mineral-entrepreneur",
   "metadata": {},
   "source": []
  },
  {
   "cell_type": "markdown",
   "id": "educated-chinese",
   "metadata": {},
   "source": [
    "### 3. Afterwards, i need to create a 3D point cloud of all 3D points concatenated. \n",
    "Paint the origin center with a red dot. and the world system of axis. Then for each image draw a ground truth pose and predicted one. \n",
    "In fact i don't even have to concatenate all 3D points. "
   ]
  },
  {
   "cell_type": "code",
   "execution_count": 83,
   "id": "norman-attitude",
   "metadata": {},
   "outputs": [],
   "source": [
    "def writePlyFile(file_dir, file_name, vertices, colors):\n",
    "    ply_header = '''ply\n",
    "                format ascii 1.0\n",
    "                element vertex %(vert_num)d\n",
    "                property float x\n",
    "                property float y\n",
    "                property float z\n",
    "                property uchar red\n",
    "                property uchar green\n",
    "                property uchar blue\n",
    "                end_header\n",
    "            '''\n",
    "    vertices = vertices.reshape(-1, 3)\n",
    "    colors = colors.reshape(-1, 3)\n",
    "    vertices = np.hstack([vertices, colors])\n",
    "    with open(file_dir + file_name, 'w') as f:\n",
    "        f.write(ply_header % dict(vert_num=len(vertices)))\n",
    "        np.savetxt(f, vertices, '%f %f %f %d %d %d')\n",
    "   \n",
    "    \n",
    "def append_to_PlyFile(file_dir, file_name, vertices, colors):\n",
    "    vertices = np.hstack([vertices, colors])\n",
    "    new_file_name = \"pose_\" + file_name\n",
    "    copyfile(file_dir + file_name, file_dir + new_file_name)\n",
    "    with open(new_file_name, \"ab\") as f:\n",
    "        np.savetxt(f, vertices, '%f %f %f %d %d %d')   "
   ]
  },
  {
   "cell_type": "code",
   "execution_count": 55,
   "id": "radical-crazy",
   "metadata": {},
   "outputs": [],
   "source": [
    "# Trapezoid\n",
    "def get_trapezoid_vertices(R, T, scale=1, num_points=None):\n",
    "    vertices = np.array([[0,0,0]])\n",
    "    \n",
    "    # edges\n",
    "    world_pose = scale * np.array([[1,0,1],\n",
    "    [-1,0,1],\n",
    "    [0,1,1],\n",
    "    [0,-1,1]])\n",
    "    \n",
    "    # transformed\n",
    "    cam_pose = np.matmul((world_pose - T), R)\n",
    "    \n",
    "    return cam_pose"
   ]
  },
  {
   "cell_type": "code",
   "execution_count": 88,
   "id": "violent-publicity",
   "metadata": {},
   "outputs": [],
   "source": [
    "vertices = np.array([[5,1,0],\n",
    "           [-1,1,0],\n",
    "           [0,1,1],\n",
    "           [0,1,-1],\n",
    "           [0,0,0]])\n",
    "colors = np.array([[0,0,255],\n",
    "           [0,0,255],\n",
    "           [0,0,255],\n",
    "           [0,0,255],\n",
    "           [0,0,255]])"
   ]
  },
  {
   "cell_type": "code",
   "execution_count": 81,
   "id": "russian-joyce",
   "metadata": {},
   "outputs": [],
   "source": [
    "writePlyFile(\"testing_camera_pose\", vertices, colors)"
   ]
  },
  {
   "cell_type": "code",
   "execution_count": 60,
   "id": "conceptual-wagner",
   "metadata": {},
   "outputs": [
    {
     "data": {
      "text/plain": [
       "array([[ 0.85928975,  4.91121535,  1.05480376],\n",
       "       [-0.63364487,  4.91113715, -0.27604042],\n",
       "       [ 0.77824452,  4.9113339 , -0.35708563],\n",
       "       [-0.55259964,  4.9110186 ,  1.13584897]])"
      ]
     },
     "execution_count": 60,
     "metadata": {},
     "output_type": "execute_result"
    }
   ],
   "source": [
    "cam_pose = get_trapezoid_vertices(R, T)\n",
    "cam_pose"
   ]
  },
  {
   "cell_type": "code",
   "execution_count": 61,
   "id": "packed-corps",
   "metadata": {},
   "outputs": [
    {
     "data": {
      "text/plain": [
       "array([-0.34351344,  0.2148119 , -3.91119675])"
      ]
     },
     "execution_count": 61,
     "metadata": {},
     "output_type": "execute_result"
    }
   ],
   "source": [
    "T"
   ]
  },
  {
   "cell_type": "code",
   "execution_count": 85,
   "id": "focused-british",
   "metadata": {},
   "outputs": [],
   "source": [
    "file_dir = \"/home/mlmi-2020/jz522/localisation_from_image_project/\"\n",
    "file_name = \"testing.ply\""
   ]
  },
  {
   "cell_type": "code",
   "execution_count": 86,
   "id": "located-triple",
   "metadata": {},
   "outputs": [],
   "source": [
    "writePlyFile(file_dir, file_name, vertices, colors)"
   ]
  },
  {
   "cell_type": "code",
   "execution_count": 89,
   "id": "confidential-approval",
   "metadata": {},
   "outputs": [],
   "source": [
    "append_to_PlyFile(file_dir, file_name, vertices, colors)"
   ]
  },
  {
   "cell_type": "markdown",
   "id": "centered-uncle",
   "metadata": {},
   "source": [
    "## read .ply ground truth"
   ]
  },
  {
   "cell_type": "code",
   "execution_count": 79,
   "id": "exclusive-declaration",
   "metadata": {},
   "outputs": [],
   "source": [
    "file_dir = \"/home/mlmi-2020/jz522/localisation_from_image_project/\"\n",
    "file_name = \"0001_rendered.png_config_world.ply\"\n",
    "append_to_PlyFile(file_dir, file_name, vertices, colors)"
   ]
  },
  {
   "cell_type": "code",
   "execution_count": null,
   "id": "inner-corrections",
   "metadata": {},
   "outputs": [],
   "source": []
  }
 ],
 "metadata": {
  "kernelspec": {
   "display_name": "Python 3 loc",
   "language": "python",
   "name": "localication"
  },
  "language_info": {
   "codemirror_mode": {
    "name": "ipython",
    "version": 3
   },
   "file_extension": ".py",
   "mimetype": "text/x-python",
   "name": "python",
   "nbconvert_exporter": "python",
   "pygments_lexer": "ipython3",
   "version": "3.7.10"
  }
 },
 "nbformat": 4,
 "nbformat_minor": 5
}
