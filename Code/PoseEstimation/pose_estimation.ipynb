{
 "cells": [
  {
   "cell_type": "code",
   "execution_count": 20,
   "id": "dense-voluntary",
   "metadata": {},
   "outputs": [],
   "source": [
    "code_dir = \"/home/mlmi-2020/jz522/localisation_from_image_project/code\"\n",
    "import os, sys\n",
    "if code_dir not in sys.path:\n",
    "    sys.path.append(code_dir)\n",
    "os.environ[\"CUDA_VISIBLE_DEVICES\"] = \"0\"\n",
    "\n",
    "import pyopengv\n",
    "import numpy as np\n",
    "import matplotlib.pyplot as plt\n",
    "from shutil import copyfile\n",
    "from tqdm import tqdm\n",
    "\n",
    "from utilis.utilis import crop_image\n",
    "from pose.get_pose import *"
   ]
  },
  {
   "cell_type": "markdown",
   "id": "demanding-victory",
   "metadata": {},
   "source": [
    "## Load data"
   ]
  },
  {
   "cell_type": "code",
   "execution_count": 4,
   "id": "residential-skill",
   "metadata": {},
   "outputs": [],
   "source": [
    "coord_data_dir = \"/data/cornucopia/jz522/localisation_project/DS_003_JDB-Full/coordinates_256_512_full/\"\n",
    "model_dir = \"/home/mlmi-2020/jz522/localisation_from_image_project/experiments/2021-04-18/full_run_world_coord_2021-04-18_10:56:51/model_checkpoint\"\n",
    "experiment_dir = \"/home/mlmi-2020/jz522/localisation_from_image_project/experiments/2021-04-18/full_run_world_coord_2021-04-18_12:02:26\""
   ]
  },
  {
   "cell_type": "code",
   "execution_count": 5,
   "id": "cubic-light",
   "metadata": {},
   "outputs": [],
   "source": [
    "image_ind = 100\n",
    "coord_npz = f\"{image_ind:04}_rendered.png_config.npz\"\n",
    "npz_data = np.load(coord_data_dir + coord_npz)\n",
    "    \n",
    "image = npz_data['image_colors']\n",
    "scene_coords = npz_data['points_3d_world']\n",
    "pixel_bearings = npz_data['points_3d_sphere']"
   ]
  },
  {
   "cell_type": "markdown",
   "id": "hindu-coupon",
   "metadata": {},
   "source": [
    "## Get pose"
   ]
  },
  {
   "cell_type": "code",
   "execution_count": 6,
   "id": "pointed-roller",
   "metadata": {},
   "outputs": [],
   "source": [
    "# evaluate_pose(model_dir, experiment_dir, image, scene_coords, pixel_bearings)"
   ]
  },
  {
   "cell_type": "code",
   "execution_count": 11,
   "id": "legal-madison",
   "metadata": {},
   "outputs": [],
   "source": [
    "code_dir = \"/home/mlmi-2020/jz522/localisation_from_image_project/code\"\n",
    "import os, sys\n",
    "if code_dir not in sys.path:\n",
    "    sys.path.append(code_dir)\n",
    "\n",
    "import pyopengv\n",
    "import numpy as np\n",
    "import matplotlib.pyplot as plt\n",
    "from shutil import copyfile\n",
    "\n",
    "from tensorflow import keras\n",
    "from utilis.utilis import *\n",
    "\n",
    "\n",
    "\n",
    "\n",
    "def get_random_points(n):\n",
    "    samples = np.zeros((n,2), dtype=int)\n",
    "    sample_set = set()\n",
    "    i = 0\n",
    "    while i < n :\n",
    "        sample = np.random.randint(224, size=2)\n",
    "        if str(sample) not in sample_set:\n",
    "            samples[i] = sample\n",
    "            sample_set.add(str(sample))\n",
    "            i += 1\n",
    "    \n",
    "    return samples\n",
    "\n",
    "\n",
    "def get_pose(scene_coordinates, pixel_bearings, n=10, threshold=0.004):\n",
    "    \"\"\" \n",
    "    Applies openGV PnP solver and gets T and R   \n",
    "    \"\"\"\n",
    "    # get n randomly selected pixel coordiates\n",
    "    samples = get_random_points(n)\n",
    "\n",
    "    bs = pixel_bearings[samples[:,0], samples[:,1], :]\n",
    "    Xs = scene_coordinates[samples[:,0], samples[:,1], :]\n",
    "\n",
    "    T_full = pyopengv.absolute_pose_lmeds(bs, Xs, \"EPNP\", 1- np.cos(threshold), 1000)\n",
    "    R = T_full[:, :3]\n",
    "    T = T_full[:, 3]\n",
    "\n",
    "    pose = {'T': T, 'R': R}\n",
    "    return pose\n",
    "\n",
    "\n",
    "def get_pose_all_points(scene_coordinates, pixel_bearings, threshold=0.004):\n",
    "    \"\"\" \n",
    "    Applies openGV PnP solver and gets T and R   \n",
    "    \"\"\"\n",
    "    T_full = pyopengv.absolute_pose_lmeds(pixel_bearings, scene_coordinates, \"EPNP\", 1- np.cos(threshold), 1000)\n",
    "    R = T_full[:, :3]\n",
    "    T = T_full[:, 3]\n",
    "\n",
    "    pose = {'T': T, 'R': R}\n",
    "    return pose\n",
    "\n",
    "\n",
    "def get_pose_error(pred_pose, true_pose):\n",
    "    \" evaluates quality of pose estiamtion - need to look up how this is calculated \"\n",
    "    # location error - euclidean disance between predicted and true camera centers in units (not sure if meters)\n",
    "    loc_error = np.linalg.norm( true_pose['T'] - pred_pose['T'] )\n",
    "\n",
    "    # orientation error - angle error in degrees\n",
    "    # solution as presented here: https://math.stackexchange.com/questions/2113634/comparing-two-rotation-matrices\n",
    "    true_R_T = np.transpose(true_pose['R'])\n",
    "    rotation_ab = np.matmul(true_R_T, pred_pose['R'])\n",
    "    orient_error = np.rad2deg(np.arccos((np.trace(rotation_ab) - 1) / 2))\n",
    "\n",
    "    return orient_error, loc_error\n",
    "\n",
    "\n",
    "def get_camera_points(R, T, scale=1, color=None):\n",
    "    num_points = int(scale * 100)\n",
    "    origin_vertices = scale * np.array([[0,1,1],\n",
    "           [1,0,1],\n",
    "           [0,-1,1],\n",
    "           [-1,0,1]])\n",
    "\n",
    "    origin_camera_center = np.array([0,0,0])\n",
    "    \n",
    "    camera_center = np.matmul(origin_camera_center, R) + T\n",
    "    vertices = np.matmul(origin_vertices, R) + T\n",
    "    \n",
    "    # CAMERA FIELD\n",
    "    pose_vertices = []\n",
    "    for i in [-1,0,1,2]:\n",
    "        new_vertices = np.array([vertices[i] + (float(n)/num_points)*(vertices[i+1] - vertices[i]) for n in range(num_points)])\n",
    "        if len(pose_vertices) == 0:\n",
    "            pose_vertices = new_vertices\n",
    "        else:\n",
    "            pose_vertices = np.concatenate((pose_vertices, new_vertices), axis=0)\n",
    "\n",
    "    # LINES TO CAMERA CENTER\n",
    "    for i in [0,1,2,3]:\n",
    "        new_vertices = np.array([vertices[i] + (float(n)/num_points)*(camera_center - vertices[i]) for n in range(num_points)])\n",
    "        pose_vertices = np.concatenate((pose_vertices, new_vertices), axis=0)\n",
    "\n",
    "    # COLORS\n",
    "    if color == \"blue\":\n",
    "        colors = np.array([[0,0,255]]*len(pose_vertices))\n",
    "    elif color == \"green\":\n",
    "        colors = np.array([[0,255,0]]*len(pose_vertices))\n",
    "    else:\n",
    "        colors = np.array([[255,0,0]]*len(pose_vertices))\n",
    "\n",
    "    \n",
    "    return pose_vertices, colors, camera_center\n",
    "\n",
    "\n",
    "def get_line_points(first_point, second_point):\n",
    "    num_points = int(30 * np.mean(np.abs(second_point - first_point)))\n",
    "    vertices = np.array([first_point + (float(n)/num_points)*(second_point - first_point) for n in range(num_points)])\n",
    "    colors = np.array([[255,0,0]]*len(vertices))\n",
    "\n",
    "    return vertices, colors\n",
    "\n",
    "\n",
    "def save_ply_file(experiment_dir, pred_pose, true_pose, ground_truth_coords, image):\n",
    "\n",
    "    # get camera points\n",
    "    pred_camera_points, pred_camera_colors, pred_camera_center = get_camera_points(pred_pose['R'], pred_pose['T'], scale=0.2, color=\"blue\")\n",
    "    true_camera_points, true_camera_colors, true_camera_center = get_camera_points(true_pose['R'], true_pose['T'], scale=0.2, color=\"green\")\n",
    "    error_line_points, error_line_colors = get_line_points(pred_camera_center, true_camera_center)\n",
    "\n",
    "    # make folder in exp directory \n",
    "    ply_exp_dir = experiment_dir + \"/pose/\"\n",
    "    if not os.path.exists(ply_exp_dir):\n",
    "        os.makedirs(ply_exp_dir)\n",
    "\n",
    "    # write files\n",
    "    writePlyFile(ply_exp_dir, \"pred_camera.ply\", pred_camera_points, pred_camera_colors)\n",
    "    writePlyFile(ply_exp_dir, \"true_camera.ply\", true_camera_points, true_camera_colors)\n",
    "    writePlyFile(ply_exp_dir, \"error_line.ply\", error_line_points, error_line_colors)\n",
    "    writePlyFile(ply_exp_dir, \"ground_truth_3D.ply\", ground_truth_coords, image)"
   ]
  },
  {
   "cell_type": "code",
   "execution_count": null,
   "id": "featured-chapel",
   "metadata": {},
   "outputs": [],
   "source": [
    "#     origin_vertices = scale * np.array([[-2,0,1,],\n",
    "#        [-2,1,0],\n",
    "#        [-2,0,-1],\n",
    "#        [-2,-1,0]])\n",
    "#     origin_vertices = scale * np.array([[1,-2,0],\n",
    "#        [0,-2,1],\n",
    "#        [-1,-2,0],\n",
    "#        [0,-2,-1]])"
   ]
  },
  {
   "cell_type": "code",
   "execution_count": 12,
   "id": "technical-liberal",
   "metadata": {},
   "outputs": [],
   "source": [
    "model_dir, experiment_dir, image, gt_scene_coords, bearing = model_dir, experiment_dir, image, scene_coords, pixel_bearings"
   ]
  },
  {
   "cell_type": "code",
   "execution_count": 13,
   "id": "spatial-complaint",
   "metadata": {},
   "outputs": [
    {
     "name": "stdout",
     "output_type": "stream",
     "text": [
      "Loading model ...\n"
     ]
    }
   ],
   "source": [
    "# get model\n",
    "print(\"Loading model ...\")\n",
    "model = keras.models.load_model(model_dir)"
   ]
  },
  {
   "cell_type": "code",
   "execution_count": 14,
   "id": "mysterious-terror",
   "metadata": {},
   "outputs": [],
   "source": [
    "image_ind = 120\n",
    "coord_npz = f\"{image_ind:04}_rendered.png_config.npz\"\n",
    "npz_data = np.load(coord_data_dir + coord_npz)\n",
    "    \n",
    "image = npz_data['image_colors']\n",
    "scene_coords = npz_data['points_3d_world']\n",
    "pixel_bearings = npz_data['points_3d_sphere']"
   ]
  },
  {
   "cell_type": "code",
   "execution_count": 15,
   "id": "charming-weapon",
   "metadata": {},
   "outputs": [],
   "source": [
    "# crop image\n",
    "image, gt_scene_coords, bearing = crop_image(image, scene_coords, pixel_bearings, (256,512))\n",
    "image = np.expand_dims(image, axis=0)"
   ]
  },
  {
   "cell_type": "code",
   "execution_count": 16,
   "id": "fifty-easter",
   "metadata": {},
   "outputs": [
    {
     "name": "stdout",
     "output_type": "stream",
     "text": [
      "Predict Scene Coordinates ...\n"
     ]
    }
   ],
   "source": [
    "# model predicts scene_coords\n",
    "print(\"Predict Scene Coordinates ...\")\n",
    "pred_scene_coords = model.predict(image)"
   ]
  },
  {
   "cell_type": "code",
   "execution_count": 17,
   "id": "tropical-aviation",
   "metadata": {},
   "outputs": [
    {
     "name": "stdout",
     "output_type": "stream",
     "text": [
      "TRUE pose:    {'T': array([ 6.80236285, 18.24178625, -2.57202835]), 'R': array([[ 0.83226502,  0.11907157,  0.54143965],\n",
      "       [ 0.43313489, -0.74925308, -0.50101295],\n",
      "       [ 0.34601893,  0.65149196, -0.67515119]])} \n",
      "\n",
      "PRED pose:    {'T': array([ 4.8798649 , 17.82508253, -1.55127303]), 'R': array([[ 0.96327567,  0.16975673,  0.20804478],\n",
      "       [ 0.23567488, -0.16321685, -0.95802798],\n",
      "       [-0.12867528,  0.97187598, -0.19723022]])} \n",
      "\n",
      "\n"
     ]
    }
   ],
   "source": [
    "# get T and R of a camera\n",
    "pred_pose = get_pose(pred_scene_coords[0], bearing, n=10, threshold=0.004)\n",
    "true_pose = get_pose(gt_scene_coords, bearing, n=10, threshold=0.004)\n",
    "print(\"TRUE pose:   \", pred_pose, \"\\n\")\n",
    "print(\"PRED pose:   \", true_pose, \"\\n\\n\")"
   ]
  },
  {
   "cell_type": "code",
   "execution_count": 18,
   "id": "downtown-macintosh",
   "metadata": {},
   "outputs": [
    {
     "name": "stdout",
     "output_type": "stream",
     "text": [
      "Location error:    2.2162088753475695\n",
      "Orientation error:    47.12832674751239\n"
     ]
    }
   ],
   "source": [
    "# compute pose error\n",
    "orient_error, loc_error = get_pose_error(pred_pose, true_pose)\n",
    "print(\"Location error:   \", loc_error)\n",
    "print(\"Orientation error:   \", orient_error)"
   ]
  },
  {
   "cell_type": "code",
   "execution_count": 36,
   "id": "qualified-matrix",
   "metadata": {},
   "outputs": [],
   "source": [
    "# visualise pose\n",
    "save_ply_file(experiment_dir, pred_pose, true_pose, gt_scene_coords, image)"
   ]
  },
  {
   "cell_type": "code",
   "execution_count": null,
   "id": "hazardous-dealing",
   "metadata": {},
   "outputs": [],
   "source": []
  },
  {
   "cell_type": "markdown",
   "id": "apart-algeria",
   "metadata": {},
   "source": [
    "# Experiment with number of points for EPnP "
   ]
  },
  {
   "cell_type": "code",
   "execution_count": 26,
   "id": "neither-biotechnology",
   "metadata": {},
   "outputs": [
    {
     "name": "stderr",
     "output_type": "stream",
     "text": [
      "100%|██████████| 5/5 [00:16<00:00,  3.24s/it]\n"
     ]
    }
   ],
   "source": [
    "loc_errors = []\n",
    "orient_errors = []\n",
    "\n",
    "for n in tqdm([10,20,30,40,50]): # EPnP needs at least 6 points\n",
    "    mean_loc = 0\n",
    "    mean_orient = 0\n",
    "    num = 20\n",
    "    \n",
    "    for i in range(num):\n",
    "        # get T and R of a camera\n",
    "        pred_pose = get_pose(pred_scene_coords[0], bearing, n=n, threshold=0.004)\n",
    "        true_pose = get_pose(gt_scene_coords, bearing, n=n, threshold=0.004)\n",
    "\n",
    "        orient_error, loc_error = get_pose_error(pred_pose, true_pose)\n",
    "        mean_loc += loc_error\n",
    "        mean_orient += orient_error\n",
    "    \n",
    "    loc_errors.append(mean_loc/num)\n",
    "    orient_errors.append(mean_orient/num)"
   ]
  },
  {
   "cell_type": "code",
   "execution_count": 27,
   "id": "neutral-sessions",
   "metadata": {},
   "outputs": [
    {
     "data": {
      "text/plain": [
       "[<matplotlib.lines.Line2D at 0x7f600dadb7d0>]"
      ]
     },
     "execution_count": 27,
     "metadata": {},
     "output_type": "execute_result"
    },
    {
     "data": {
      "image/png": "[encoded data removed]",
      "text/plain": [
       "<Figure size 432x288 with 1 Axes>"
      ]
     },
     "metadata": {
      "needs_background": "light"
     },
     "output_type": "display_data"
    }
   ],
   "source": [
    "plt.plot(np.arange(len(loc_errors)), loc_errors)"
   ]
  },
  {
   "cell_type": "code",
   "execution_count": 25,
   "id": "guided-graduate",
   "metadata": {},
   "outputs": [
    {
     "data": {
      "text/plain": [
       "[<matplotlib.lines.Line2D at 0x7f600db0e110>]"
      ]
     },
     "execution_count": 25,
     "metadata": {},
     "output_type": "execute_result"
    },
    {
     "data": {
      "image/png": "[encoded data removed]",
      "text/plain": [
       "<Figure size 432x288 with 1 Axes>"
      ]
     },
     "metadata": {
      "needs_background": "light"
     },
     "output_type": "display_data"
    }
   ],
   "source": [
    "plt.plot(np.arange(len(orient_errors)), orient_errors)"
   ]
  }
 ],
 "metadata": {
  "kernelspec": {
   "display_name": "Python 3 loc",
   "language": "python",
   "name": "localication"
  },
  "language_info": {
   "codemirror_mode": {
    "name": "ipython",
    "version": 3
   },
   "file_extension": ".py",
   "mimetype": "text/x-python",
   "name": "python",
   "nbconvert_exporter": "python",
   "pygments_lexer": "ipython3",
   "version": "3.7.10"
  }
 },
 "nbformat": 4,
 "nbformat_minor": 5
}
